{
 "cells": [
  {
   "attachments": {},
   "cell_type": "markdown",
   "metadata": {},
   "source": [
    "# Inheritance HW\n",
    "\n",
    "- title : Inheritance HW\n",
    "- toc: true \n",
    "- badges: true\n",
    "- comments: true\n",
    "- categories: [jupyter]"
   ]
  },
  {
   "attachments": {},
   "cell_type": "markdown",
   "metadata": {},
   "source": [
    "### To do\n",
    "\n",
    "* Add a getAge method in the Person super class\n",
    "* Create a new subclass Student with additional members of your choice to personalize the Student class\n",
    "* Create a new subclass Teacher with additiona members of your choice\n",
    "* Override the toString method using the @Override to print a Student and teacher object with new members\n",
    "* Print the student and teacher."
   ]
  },
  {
   "cell_type": "code",
   "execution_count": 1,
   "metadata": {
    "vscode": {
     "languageId": "java"
    }
   },
   "outputs": [],
   "source": [
    "public class Person {\n",
    "    private String name;\n",
    "    private String birthday;\n",
    " \n",
    "    public Person (String name, String birthday){\n",
    "       this.name = name;\n",
    "       this.birthday = birthday;\n",
    "    }\n",
    " \n",
    "    public String getName(){\n",
    "       return name;\n",
    "    }\n",
    " }\n",
    " \n",
    " public class Student extends Person {\n",
    "    private int grade;\n",
    "    private double gpa;\n",
    " \n",
    "    public Student (String name, String birthday, int grade, double gpa) {\n",
    "       super(name, birthday);\n",
    "       this.grade = grade;\n",
    "       this.gpa = gpa;\n",
    "    }\n",
    " \n",
    "    public int getGrade(){\n",
    "       return grade;\n",
    "    }\n",
    " }"
   ]
  }
 ],
 "metadata": {
  "kernelspec": {
   "display_name": "Java",
   "language": "java",
   "name": "java"
  },
  "language_info": {
   "codemirror_mode": "java",
   "file_extension": ".jshell",
   "mimetype": "text/x-java-source",
   "name": "Java",
   "pygments_lexer": "java",
   "version": "17.0.5+8-Ubuntu-2ubuntu120.04"
  },
  "orig_nbformat": 4,
  "vscode": {
   "interpreter": {
    "hash": "916dbcbb3f70747c44a77c7bcd40155683ae19c65e1c03b4aa3499c5328201f1"
   }
  }
 },
 "nbformat": 4,
 "nbformat_minor": 2
}
