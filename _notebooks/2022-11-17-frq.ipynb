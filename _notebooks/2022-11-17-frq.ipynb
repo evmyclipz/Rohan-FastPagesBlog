{
 "cells": [
  {
   "cell_type": "markdown",
   "metadata": {},
   "source": [
    "# 2019 FRQ - Method and Control Structures\n",
    "\n",
    "- title: 2019 FRQ - Method and Control Structures\n",
    "- toc: true \n",
    "- badges: true\n",
    "- comments: true\n",
    "- categories: [jupyter]"
   ]
  },
  {
   "cell_type": "markdown",
   "metadata": {},
   "source": [
    "### FRQ1\n",
    "The AP Calender is home to number of methods that are the backend for the end points made in the controller."
   ]
  },
  {
   "cell_type": "markdown",
   "metadata": {},
   "source": [
    "##### Leap Year method"
   ]
  },
  {
   "cell_type": "code",
   "execution_count": null,
   "metadata": {},
   "outputs": [],
   "source": [
    "public static boolean isLeapYear(int year) {\n",
    "    if ((year % 4 == 0) && (year % 100 != 0)) { //checks first condition to be leap year\n",
    "        return true;\n",
    "    }\n",
    "    else if((year % 100 == 0) && (year % 400 == 0)) { checks second condition to be leap year\n",
    "        return true;\n",
    "    }\n",
    "    else {\n",
    "        return false;\n",
    "    }\n",
    "}"
   ]
  },
  {
   "cell_type": "markdown",
   "metadata": {},
   "source": [
    "##### First day of the year method"
   ]
  },
  {
   "cell_type": "code",
   "execution_count": null,
   "metadata": {},
   "outputs": [],
   "source": [
    "public static int firstDayOfYear(int year) {\n",
    "    // implementation not sho\n",
    "    int yc = 0;\n",
    "    if(year >= 1700 && year < 1800) {\n",
    "        yc = 4;\n",
    "    }\n",
    "    else if (year >= 1800 && year < 1900) {\n",
    "        yc = 2;\n",
    "    }\n",
    "    else if (year >= 1900 && year < 2000) {\n",
    "        yc = 0;\n",
    "    }\n",
    "    else if (year >= 2000 && year < 2100) {\n",
    "        yc = 6;\n",
    "    }\n",
    "    int x = year % 100;\n",
    "    int y = x/4;\n",
    "    int a = y + 2;\n",
    "    if (isLeapYear(year)) {\n",
    "        int c = a - 1;\n",
    "        int sum = yc + c;\n",
    "        int sum2 = sum + x;\n",
    "        int num = sum2 % 7;\n",
    "        return (num > 0)?num-1:6;\n",
    "    }\n",
    "    else {\n",
    "        int sum = a + yc;\n",
    "        int sum2 = sum + x;\n",
    "        int num = sum2 % 7;\n",
    "        return (num > 0)?num-1:6;\n",
    "    }\n",
    "}"
   ]
  },
  {
   "cell_type": "markdown",
   "metadata": {},
   "source": [
    "##### Day of the Year method"
   ]
  },
  {
   "cell_type": "code",
   "execution_count": null,
   "metadata": {},
   "outputs": [],
   "source": [
    "public static int dayOfYear(int month, int day, int year) {\n",
    "    // implementation not shown\n",
    "    int[] arr = {31,28,31,30,31,30,31,31,30,31,30,31};\n",
    "    int[] arr2 = {31,29,31,30,31,30,31,31,30,31,30,31};\n",
    "    if (isLeapYear(year)) {\n",
    "        int x = 0;\n",
    "        for(int i = 0; i < month-1; i++) {\n",
    "            x+=arr2[i];\n",
    "        }\n",
    "        return (x + day);\n",
    "    }\n",
    "    else {\n",
    "        int x = 0;\n",
    "        for(int i = 0; i < month-1; i++) {\n",
    "            x+=arr[i];\n",
    "        }\n",
    "        return (x + day);\n",
    "    }\n",
    "}"
   ]
  },
  {
   "cell_type": "markdown",
   "metadata": {},
   "source": [
    "##### Number of leap years method"
   ]
  },
  {
   "cell_type": "code",
   "execution_count": null,
   "metadata": {},
   "outputs": [],
   "source": [
    "public static int numberOfLeapYears(int year1, int year2) {\n",
    "    // to be implemented in part (a)\n",
    "    if(year1 >= 0 && year1 <= year2) {\n",
    "        int count = 0;\n",
    "        for(int i = year1;i <= year2; i++) {\n",
    "            if(isLeapYear(i)) {\n",
    "                count++;\n",
    "            }\n",
    "        }\n",
    "        return count;\n",
    "    }\n",
    "    return 0;\n",
    "}"
   ]
  },
  {
   "cell_type": "markdown",
   "metadata": {},
   "source": [
    "##### Day of the any day method"
   ]
  },
  {
   "cell_type": "code",
   "execution_count": null,
   "metadata": {},
   "outputs": [],
   "source": [
    "public static int dayOfWeek(int month, int day, int year) { \n",
    "    // to be implemented in part (b)\n",
    "    int x = firstDayOfYear(year);\n",
    "    int y = dayOfYear(month, day, year) - 1;\n",
    "    int sum = x + y;\n",
    "\n",
    "    return (sum % 7);\n",
    "}"
   ]
  }
 ],
 "metadata": {
  "kernelspec": {
   "display_name": "Java",
   "language": "python",
   "name": "java"
  },
  "language_info": {
   "name": "python",
   "version": "3.9.12 (main, Apr  5 2022, 06:56:58) \n[GCC 7.5.0]"
  },
  "orig_nbformat": 4,
  "vscode": {
   "interpreter": {
    "hash": "e5fac65c297e042e477f193dd578cca6f2bb3fa0ab7e11b01d43ef300f56e9d1"
   }
  }
 },
 "nbformat": 4,
 "nbformat_minor": 2
}
