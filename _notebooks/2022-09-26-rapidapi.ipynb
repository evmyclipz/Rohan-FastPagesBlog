{
 "cells": [
  {
   "cell_type": "markdown",
   "metadata": {},
   "source": [
    "# Rapid API post\n",
    "\n",
    "- title: Rapid API post\n",
    "- toc: true \n",
    "- badges: true\n",
    "- comments: true\n",
    "- categories: [jupyter]"
   ]
  },
  {
   "cell_type": "code",
   "execution_count": 30,
   "metadata": {
    "vscode": {
     "languageId": "java"
    }
   },
   "outputs": [
    {
     "name": "stdout",
     "output_type": "stream",
     "text": [
      "{\"data\":{\"id\":123214,\"wikiDataId\":\"Q60\",\"type\":\"CITY\",\"city\":\"New York City\",\"name\":\"New York City\",\"country\":\"United States of America\",\"countryCode\":\"US\",\"region\":\"New York\",\"regionCode\":\"NY\",\"elevationMeters\":10,\"latitude\":40.7,\"longitude\":-74.0,\"population\":8804190,\"timezone\":\"America__New_York\",\"deleted\":false}}\n"
     ]
    }
   ],
   "source": [
    "import java.net.URI;\n",
    "import java.net.http.HttpClient;\n",
    "import java.net.http.HttpRequest;\n",
    "import java.net.http.HttpResponse;\n",
    "\n",
    "//RapidAPI header  https://rapidapi.com/principalapis/api/car-data\n",
    "HttpRequest request = HttpRequest.newBuilder()\n",
    "\t\t.uri(URI.create(\"https://wft-geo-db.p.rapidapi.com/v1/geo/cities/Q60\"))\n",
    "\t\t.header(\"X-RapidAPI-Key\", \"3bef89a477msh7eecb5e7498cd51p1095f2jsn9b36f511d7ec\")\n",
    "\t\t.header(\"X-RapidAPI-Host\", \"wft-geo-db.p.rapidapi.com\")\n",
    "\t\t.method(\"GET\", HttpRequest.BodyPublishers.noBody())\n",
    "\t\t.build();\n",
    "HttpResponse<String> response = HttpClient.newHttpClient().send(request, HttpResponse.BodyHandlers.ofString());\n",
    "System.out.println(response.body());"
   ]
  },
  {
   "cell_type": "markdown",
   "metadata": {},
   "source": [
    "### Build your own Web Service\n",
    "> To build a Web Service in the backend allows you to control information and errors between your app and the user.  A proper Web Service requires more code: RESTful interface, error handling, and in this case reducing the calls to the service according to update frequency.\n",
    "- There are benefits of building service in Java vs JavaScript:\n",
    "    - Firewall will not be blocked as backend server on AWS is outside the firewall\n",
    "    - Selecting frontend service https://nighthawkcodingsociety.com that has been cleared through IT.\n",
    "    - Many APIs have usage costs or usage limits, backend can serve while limiting direct API access.\n",
    "- Project link: https://github.com/nighthawkcoders/spring_portfolio/blob/master/src/main/java/com/nighthawk/spring_portfolio/mvc/covid/CovidApiController.java\n",
    "\n",
    "```java\n",
    "package com.nighthawk.spring_portfolio.mvc.covid;\n",
    "\n",
    "import java.net.URI;\n",
    "import java.net.http.HttpClient;\n",
    "import java.net.http.HttpRequest;\n",
    "import java.net.http.HttpResponse;\n",
    "import java.util.Date;\n",
    "import java.util.HashMap;\n",
    "\n",
    "import org.json.simple.JSONObject;\n",
    "import org.json.simple.parser.JSONParser;\n",
    "import org.springframework.http.HttpStatus;\n",
    "import org.springframework.http.ResponseEntity;\n",
    "import org.springframework.web.bind.annotation.*;\n",
    "\n",
    "@RestController // annotation to create a RESTful web services\n",
    "@RequestMapping(\"/api/covid\")  //prefix of API\n",
    "public class CovidApiController {\n",
    "    private JSONObject body; //last run result\n",
    "    private HttpStatus status; //last run status\n",
    "    String last_run = null; //last run day of month\n",
    "\n",
    "    // GET Covid 19 Stats\n",
    "    @GetMapping(\"/daily\")   //added to end of prefix as endpoint\n",
    "    public ResponseEntity<JSONObject> getCovid() {\n",
    "\n",
    "        //calls API once a day, sets body and status properties\n",
    "        String today = new Date().toString().substring(0,10); \n",
    "        if (last_run == null || !today.equals(last_run))\n",
    "        {\n",
    "            try {  //APIs can fail (ie Internet or Service down)\n",
    "                \n",
    "                //RapidAPI header\n",
    "                HttpRequest request = HttpRequest.newBuilder()\n",
    "                    .uri(URI.create(\"https://corona-virus-world-and-india-data.p.rapidapi.com/api\"))\n",
    "                    .header(\"x-rapidapi-key\", \"dec069b877msh0d9d0827664078cp1a18fajsn2afac35ae063\")\n",
    "                    .header(\"x-rapidapi-host\", \"corona-virus-world-and-india-data.p.rapidapi.com\")\n",
    "                    .method(\"GET\", HttpRequest.BodyPublishers.noBody())\n",
    "                    .build();\n",
    "\n",
    "                //RapidAPI request and response\n",
    "                HttpResponse<String> response = HttpClient.newHttpClient().send(request, HttpResponse.BodyHandlers.ofString());\n",
    "\n",
    "                //JSONParser extracts text body and parses to JSONObject\n",
    "                this.body = (JSONObject) new JSONParser().parse(response.body());\n",
    "                this.status = HttpStatus.OK;  //200 success\n",
    "                this.last_run = today;\n",
    "            }\n",
    "            catch (Exception e) {  //capture failure info\n",
    "                HashMap<String, String> status = new HashMap<>();\n",
    "                status.put(\"status\", \"RapidApi failure: \" + e);\n",
    "\n",
    "                //Setup object for error\n",
    "                this.body = (JSONObject) status;\n",
    "                this.status = HttpStatus.INTERNAL_SERVER_ERROR; //500 error\n",
    "                this.last_run = null;\n",
    "            }\n",
    "        }\n",
    "\n",
    "        //return JSONObject in RESTful style\n",
    "        return new ResponseEntity<>(body, status);\n",
    "    }\n",
    "}\n",
    "```"
   ]
  }
 ],
 "metadata": {
  "kernelspec": {
   "display_name": "Java",
   "language": "java",
   "name": "java"
  },
  "language_info": {
   "codemirror_mode": "java",
   "file_extension": ".jshell",
   "mimetype": "text/x-java-source",
   "name": "Java",
   "pygments_lexer": "java",
   "version": "11.0.16+8-post-Ubuntu-0ubuntu120.04"
  },
  "orig_nbformat": 4,
  "vscode": {
   "interpreter": {
    "hash": "916dbcbb3f70747c44a77c7bcd40155683ae19c65e1c03b4aa3499c5328201f1"
   }
  }
 },
 "nbformat": 4,
 "nbformat_minor": 2
}
