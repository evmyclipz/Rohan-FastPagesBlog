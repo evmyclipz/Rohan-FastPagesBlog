{
 "cells": [
  {
   "cell_type": "markdown",
   "metadata": {},
   "source": [
    "# Rapid API post\n",
    "\n",
    "- title: Rapid API post\n",
    "- toc: true \n",
    "- badges: true\n",
    "- comments: true\n",
    "- categories: [jupyter]"
   ]
  },
  {
   "cell_type": "code",
   "execution_count": 3,
   "metadata": {},
   "outputs": [
    {
     "name": "stdout",
     "output_type": "stream",
     "text": [
      "{\"status\":true,\"message\":\"Success\",\"timestamp\":1664866535098,\"data\":[{\"id\":\"ar-SA\",\"title\":\"Arabic (Saudi Arabia)\"},{\"id\":\"zh-CN\",\"title\":\"Chinese (China)\"},{\"id\":\"zh-HK\",\"title\":\"Chinese (Hong Kong SAR China)\"},{\"id\":\"zh-TW\",\"title\":\"Chinese (Taiwan)\"},{\"id\":\"cs-CZ\",\"title\":\"Czech (Czech Republic)\"},{\"id\":\"da-DK\",\"title\":\"Danish (Denmark)\"},{\"id\":\"nl-BE\",\"title\":\"Dutch (Belgium)\"},{\"id\":\"nl-NL\",\"title\":\"Dutch (Netherlands)\"},{\"id\":\"en-AU\",\"title\":\"English (Australia)\"},{\"id\":\"en-IE\",\"title\":\"English (Ireland)\"},{\"id\":\"en-ZA\",\"title\":\"English (South Africa)\"},{\"id\":\"en-GB\",\"title\":\"English (United Kingdom)\"},{\"id\":\"en-US\",\"title\":\"English (United States)\"},{\"id\":\"fi-FI\",\"title\":\"Finnish (Finland)\"},{\"id\":\"fr-CA\",\"title\":\"French (Canada)\"},{\"id\":\"fr-FR\",\"title\":\"French (France)\"},{\"id\":\"de-DE\",\"title\":\"German (Germany)\"},{\"id\":\"el-GR\",\"title\":\"Greek (Greece)\"},{\"id\":\"he-IL\",\"title\":\"Hebrew (Israel)\"},{\"id\":\"hi-IN\",\"title\":\"Hindi (India)\"},{\"id\":\"hu-HU\",\"title\":\"Hungarian (Hungary)\"},{\"id\":\"id-ID\",\"title\":\"Indonesian (Indonesia)\"},{\"id\":\"it-IT\",\"title\":\"Italian (Italy)\"},{\"id\":\"ja-JP\",\"title\":\"Japanese (Japan)\"},{\"id\":\"ko-KR\",\"title\":\"Korean (South Korea)\"},{\"id\":\"no-NO\",\"title\":\"Norwegian (Norway)\"},{\"id\":\"pl-PL\",\"title\":\"Polish (Poland)\"},{\"id\":\"pt-BR\",\"title\":\"Portuguese (Brazil)\"},{\"id\":\"pt-PT\",\"title\":\"Portuguese (Portugal)\"},{\"id\":\"ro-RO\",\"title\":\"Romanian (Romania)\"},{\"id\":\"ru-RU\",\"title\":\"Russian (Russia)\"},{\"id\":\"sk-SK\",\"title\":\"Slovak (Slovakia)\"},{\"id\":\"es-MX\",\"title\":\"Spanish (Mexico)\"},{\"id\":\"es-ES\",\"title\":\"Spanish (Spain)\"},{\"id\":\"sv-SE\",\"title\":\"Swedish (Sweden)\"},{\"id\":\"th-TH\",\"title\":\"Thai (Thailand)\"},{\"id\":\"tr-TR\",\"title\":\"Turkish (Turkey)\"}]}\n"
     ]
    }
   ],
   "source": [
    "HttpRequest request = HttpRequest.newBuilder()\n",
    "\t\t.uri(URI.create(\"https://airbnb19.p.rapidapi.com/api/v1/getLanguages\"))\n",
    "\t\t.header(\"X-RapidAPI-Key\", \"3bef89a477msh7eecb5e7498cd51p1095f2jsn9b36f511d7ec\")\n",
    "\t\t.header(\"X-RapidAPI-Host\", \"airbnb19.p.rapidapi.com\")\n",
    "\t\t.method(\"GET\", HttpRequest.BodyPublishers.noBody())\n",
    "\t\t.build();\n",
    "HttpResponse<String> response = HttpClient.newHttpClient().send(request, HttpResponse.BodyHandlers.ofString());\n",
    "System.out.println(response.body());"
   ]
  },
  {
   "cell_type": "code",
   "execution_count": null,
   "metadata": {},
   "outputs": [],
   "source": [
    "package com.nighthawk.spring_portfolio.controllers;\n",
    "\n",
    "\n",
    "import java.net.URI;\n",
    "import java.net.http.HttpClient;\n",
    "import java.net.http.HttpRequest;\n",
    "import java.net.http.HttpResponse;\n",
    "import java.util.Date;\n",
    "import java.util.HashMap;\n",
    "\n",
    "import org.json.simple.parser.JSONParser;\n",
    "import org.json.simple.JSONObject;\n",
    "import org.springframework.http.HttpStatus;\n",
    "import org.springframework.http.ResponseEntity;\n",
    "import org.springframework.web.bind.annotation.*;\n",
    "\n",
    "@RestController\n",
    "public class Coins {\n",
    "    private JSONObject body; //last run result\n",
    "    private HttpStatus status; //last run status\n",
    "    String last_run = null; //last run day of month\n",
    "\n",
    "    @GetMapping(\"/coins\")\n",
    "    public ResponseEntity<JSONObject> getCoins() {\n",
    "\n",
    "        //calls API once a day, sets body and status properties\n",
    "        String today = new Date().toString().substring(0,10); \n",
    "        if (last_run == null || !today.equals(last_run))\n",
    "        {\n",
    "            try {  //APIs can fail (ie Internet or Service down)\n",
    "                \n",
    "                //RapidAPI header\n",
    "                /* \n",
    "                HttpRequest request = HttpRequest.newBuilder()\n",
    "\t\t        .uri(URI.create(\"https://coinranking1.p.rapidapi.com/coins?referenceCurrencyUuid=yhjMzLPhuIDl&timePeriod=24h&tiers%5B0%5D=1&orderBy=marketCap&orderDirection=desc&limit=50&offset=0\"))\n",
    "\t\t        .header(\"X-RapidAPI-Key\", \"3bef89a477msh7eecb5e7498cd51p1095f2jsn9b36f511d7ec\")\n",
    "\t\t        .header(\"X-RapidAPI-Host\", \"coinranking1.p.rapidapi.com\")\n",
    "\t\t        .method(\"GET\", HttpRequest.BodyPublishers.noBody())\n",
    "\t\t        .build();\n",
    "                \n",
    "                \n",
    "                HttpRequest request = HttpRequest.newBuilder()\n",
    "\t\t        .uri(URI.create(\"https://wft-geo-db.p.rapidapi.com/v1/geo/cities\"))\n",
    "\t\t        .header(\"X-RapidAPI-Key\", \"3bef89a477msh7eecb5e7498cd51p1095f2jsn9b36f511d7ec\")\n",
    "\t\t        .header(\"X-RapidAPI-Host\", \"wft-geo-db.p.rapidapi.com\")\n",
    "\t\t        .method(\"GET\", HttpRequest.BodyPublishers.noBody())\n",
    "\t\t        .build();\n",
    "                */\n",
    "\n",
    "                \n",
    "                HttpRequest request = HttpRequest.newBuilder()\n",
    "\t\t        .uri(URI.create(\"https://airbnb19.p.rapidapi.com/api/v1/getLanguages\"))\n",
    "\t\t        .header(\"X-RapidAPI-Key\", \"3bef89a477msh7eecb5e7498cd51p1095f2jsn9b36f511d7ec\")\n",
    "\t\t        .header(\"X-RapidAPI-Host\", \"airbnb19.p.rapidapi.com\")\n",
    "\t\t        .method(\"GET\", HttpRequest.BodyPublishers.noBody())\n",
    "\t\t        .build();\n",
    "               \n",
    "                HttpResponse<String> response = HttpClient.newHttpClient().send(request, HttpResponse.BodyHandlers.ofString());\n",
    "                //System.out.println(response.body());\n",
    "\n",
    "                //System.out.println(response.body());\n",
    "                //JSONParser extracts text body and parses to JSONObject\n",
    "                //this.body = (JSONObject) new JSONParser().parse(response.body());\n",
    "                JSONParser parser = new JSONParser();  \n",
    "                this.body = (JSONObject) parser.parse(response.body());   \n",
    "                this.status = HttpStatus.OK;  //200 success\n",
    "                this.last_run = today;\n",
    "                \n",
    "            }\n",
    "            catch (Exception e) {  //capture failure info\n",
    "                HashMap<String, String> status = new HashMap<>();\n",
    "                status.put(\"status\", \"RapidApi failure: \" + e);\n",
    "\n",
    "                //Setup object for error\n",
    "                this.body = new JSONObject(status);\n",
    "                this.status = HttpStatus.INTERNAL_SERVER_ERROR; //500 error\n",
    "                this.last_run = null;\n",
    "            }\n",
    "        }\n",
    "\n",
    "        //return JSONObject in RESTful style\n",
    "        return new ResponseEntity<>(body, status);\n",
    "    }\n",
    "}"
   ]
  },
  {
   "cell_type": "markdown",
   "metadata": {},
   "source": [
    "### Challenges\n",
    "\n",
    "Some challenges I encountered along the way was in the JSON parser and JSONObject line. This line parses JSONObject data and not any other kind. Initially, my data was in a JSONArray and to convert into JSONObject is not possible, so to fix this error. I had to find a new rapid api which is a JSONObject rather than a JSONArray. \n",
    "\n",
    "For Reference: \n",
    "* JSONObject start with a curly braces {}\n",
    "* JSONArray start with a sqaure brackets []\n",
    "\n",
    "You can find these in the results page of the your rapid api, at the top."
   ]
  }
 ],
 "metadata": {
  "kernelspec": {
   "display_name": "Java",
   "language": "java",
   "name": "java"
  },
  "language_info": {
   "codemirror_mode": "java",
   "file_extension": ".jshell",
   "mimetype": "text/x-java-source",
   "name": "java",
   "pygments_lexer": "java",
   "version": "11.0.16+8-post-Ubuntu-0ubuntu120.04"
  },
  "orig_nbformat": 4,
  "vscode": {
   "interpreter": {
    "hash": "916dbcbb3f70747c44a77c7bcd40155683ae19c65e1c03b4aa3499c5328201f1"
   }
  }
 },
 "nbformat": 4,
 "nbformat_minor": 2
}
