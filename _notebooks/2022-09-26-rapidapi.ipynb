{
 "cells": [
  {
   "cell_type": "markdown",
   "metadata": {},
   "source": [
    "# Rapid API post\n",
    "\n",
    "- title: Rapid API post\n",
    "- toc: true \n",
    "- badges: true\n",
    "- comments: true\n",
    "- categories: [jupyter]"
   ]
  },
  {
   "cell_type": "code",
   "execution_count": 3,
   "metadata": {
    "vscode": {
     "languageId": "java"
    }
   },
   "outputs": [
    {
     "name": "stdout",
     "output_type": "stream",
     "text": [
      "{\"status\":true,\"message\":\"Success\",\"timestamp\":1664866535098,\"data\":[{\"id\":\"ar-SA\",\"title\":\"Arabic (Saudi Arabia)\"},{\"id\":\"zh-CN\",\"title\":\"Chinese (China)\"},{\"id\":\"zh-HK\",\"title\":\"Chinese (Hong Kong SAR China)\"},{\"id\":\"zh-TW\",\"title\":\"Chinese (Taiwan)\"},{\"id\":\"cs-CZ\",\"title\":\"Czech (Czech Republic)\"},{\"id\":\"da-DK\",\"title\":\"Danish (Denmark)\"},{\"id\":\"nl-BE\",\"title\":\"Dutch (Belgium)\"},{\"id\":\"nl-NL\",\"title\":\"Dutch (Netherlands)\"},{\"id\":\"en-AU\",\"title\":\"English (Australia)\"},{\"id\":\"en-IE\",\"title\":\"English (Ireland)\"},{\"id\":\"en-ZA\",\"title\":\"English (South Africa)\"},{\"id\":\"en-GB\",\"title\":\"English (United Kingdom)\"},{\"id\":\"en-US\",\"title\":\"English (United States)\"},{\"id\":\"fi-FI\",\"title\":\"Finnish (Finland)\"},{\"id\":\"fr-CA\",\"title\":\"French (Canada)\"},{\"id\":\"fr-FR\",\"title\":\"French (France)\"},{\"id\":\"de-DE\",\"title\":\"German (Germany)\"},{\"id\":\"el-GR\",\"title\":\"Greek (Greece)\"},{\"id\":\"he-IL\",\"title\":\"Hebrew (Israel)\"},{\"id\":\"hi-IN\",\"title\":\"Hindi (India)\"},{\"id\":\"hu-HU\",\"title\":\"Hungarian (Hungary)\"},{\"id\":\"id-ID\",\"title\":\"Indonesian (Indonesia)\"},{\"id\":\"it-IT\",\"title\":\"Italian (Italy)\"},{\"id\":\"ja-JP\",\"title\":\"Japanese (Japan)\"},{\"id\":\"ko-KR\",\"title\":\"Korean (South Korea)\"},{\"id\":\"no-NO\",\"title\":\"Norwegian (Norway)\"},{\"id\":\"pl-PL\",\"title\":\"Polish (Poland)\"},{\"id\":\"pt-BR\",\"title\":\"Portuguese (Brazil)\"},{\"id\":\"pt-PT\",\"title\":\"Portuguese (Portugal)\"},{\"id\":\"ro-RO\",\"title\":\"Romanian (Romania)\"},{\"id\":\"ru-RU\",\"title\":\"Russian (Russia)\"},{\"id\":\"sk-SK\",\"title\":\"Slovak (Slovakia)\"},{\"id\":\"es-MX\",\"title\":\"Spanish (Mexico)\"},{\"id\":\"es-ES\",\"title\":\"Spanish (Spain)\"},{\"id\":\"sv-SE\",\"title\":\"Swedish (Sweden)\"},{\"id\":\"th-TH\",\"title\":\"Thai (Thailand)\"},{\"id\":\"tr-TR\",\"title\":\"Turkish (Turkey)\"}]}\n"
     ]
    }
   ],
   "source": [
    "HttpRequest request = HttpRequest.newBuilder()\n",
    "\t\t.uri(URI.create(\"https://airbnb19.p.rapidapi.com/api/v1/getLanguages\"))\n",
    "\t\t.header(\"X-RapidAPI-Key\", \"3bef89a477msh7eecb5e7498cd51p1095f2jsn9b36f511d7ec\")\n",
    "\t\t.header(\"X-RapidAPI-Host\", \"airbnb19.p.rapidapi.com\")\n",
    "\t\t.method(\"GET\", HttpRequest.BodyPublishers.noBody())\n",
    "\t\t.build();\n",
    "HttpResponse<String> response = HttpClient.newHttpClient().send(request, HttpResponse.BodyHandlers.ofString());\n",
    "System.out.println(response.body());"
   ]
  }
 ],
 "metadata": {
  "kernelspec": {
   "display_name": "Java",
   "language": "java",
   "name": "java"
  },
  "language_info": {
   "codemirror_mode": "java",
   "file_extension": ".jshell",
   "mimetype": "text/x-java-source",
   "name": "Java",
   "pygments_lexer": "java",
   "version": "11.0.16+8-post-Ubuntu-0ubuntu120.04"
  },
  "orig_nbformat": 4,
  "vscode": {
   "interpreter": {
    "hash": "916dbcbb3f70747c44a77c7bcd40155683ae19c65e1c03b4aa3499c5328201f1"
   }
  }
 },
 "nbformat": 4,
 "nbformat_minor": 2
}
