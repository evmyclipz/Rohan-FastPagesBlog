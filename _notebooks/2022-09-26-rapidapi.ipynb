{
 "cells": [
  {
   "cell_type": "markdown",
   "metadata": {},
   "source": [
    "# Rapid API post\n",
    "\n",
    "- title: Rapid API post\n",
    "- toc: true \n",
    "- badges: true\n",
    "- comments: true\n",
    "- categories: [jupyter]"
   ]
  },
  {
   "cell_type": "code",
   "execution_count": 4,
   "metadata": {},
   "outputs": [
    {
     "name": "stdout",
     "output_type": "stream",
     "text": [
      "{\"status\":\"success\",\"data\":{\"stats\":{\"24hVolume\":\"50213353283.55389\",\"total\":5089},\"markets\":[{\"uuid\":\"MP77r-vKf4\",\"rank\":1,\"base\":{\"uuid\":\"Qwsogvtv82FCd\",\"symbol\":\"BTC\"},\"quote\":{\"uuid\":\"HIVsRcGKkPFtW\",\"symbol\":\"USDT\"},\"exchange\":{\"name\":\"Binance\",\"uuid\":\"-zdvbieRdZ\",\"iconUrl\":\"https://cdn.coinranking.com/mDTK5qrmq/binance.svg\"},\"marketShare\":\"21.02\",\"btcPrice\":\"0.9997433437240185\",\"recommended\":true,\"filters\":[],\"price\":\"19544.769220336657\",\"24hVolume\":\"10553015522.155455\"},{\"uuid\":\"ifeyn_cix4\",\"rank\":2,\"base\":{\"uuid\":\"Qwsogvtv82FCd\",\"symbol\":\"BTC\"},\"quote\":{\"uuid\":\"vSo2fu9iE1s0Y\",\"symbol\":\"BUSD\"},\"exchange\":{\"name\":\"Binance\",\"uuid\":\"-zdvbieRdZ\",\"iconUrl\":\"https://cdn.coinranking.com/mDTK5qrmq/binance.svg\"},\"marketShare\":\"8.23\",\"btcPrice\":\"0.9999039376203765\",\"recommended\":true,\"filters\":[],\"price\":\"19547.908796771168\",\"24hVolume\":\"4134659012.21242\"},{\"uuid\":\"oZxYFuELeuV\",\"rank\":3,\"base\":{\"uuid\":\"Qwsogvtv82FCd\",\"symbol\":\"BTC\"},\"quote\":{\"uuid\":\"HIVsRcGKkPFtW\",\"symbol\":\"USDT\"},\"exchange\":{\"name\":\"Kucoin\",\"uuid\":\"-4x6SL_Cv\",\"iconUrl\":\"https://cdn.coinranking.com/A-hAjR-hN/kucoin.png\"},\"marketShare\":\"5.7\",\"btcPrice\":\"1.0000713140867104\",\"recommended\":true,\"filters\":[],\"price\":\"19552.213108262873\",\"24hVolume\":\"2861043940.149109\"},{\"uuid\":\"VCyUQhMA_N\",\"rank\":4,\"base\":{\"uuid\":\"Qwsogvtv82FCd\",\"symbol\":\"BTC\"},\"quote\":{\"uuid\":\"HIVsRcGKkPFtW\",\"symbol\":\"USDT\"},\"exchange\":{\"name\":\"AAX\",\"uuid\":\"s8lbIYDTH\",\"iconUrl\":\"https://cdn.coinranking.com/JBWyndh_c/853.png\"},\"marketShare\":\"2.51\",\"btcPrice\":\"0.9997946563612747\",\"recommended\":true,\"filters\":[],\"price\":\"19545.772371454947\",\"24hVolume\":\"1257980295.480485\"},{\"uuid\":\"GBYrXaBrz1c\",\"rank\":5,\"base\":{\"uuid\":\"Qwsogvtv82FCd\",\"symbol\":\"BTC\"},\"quote\":{\"uuid\":\"yhjMzLPhuIDl\",\"symbol\":\"USD\"},\"exchange\":{\"name\":\"FTX\",\"uuid\":\"_qq3t0X7Q\",\"iconUrl\":\"https://cdn.coinranking.com/Np95rtMR2/ftx-exchange.svg\"},\"marketShare\":\"2.1\",\"btcPrice\":\"1.0001643600629335\",\"recommended\":true,\"filters\":[],\"price\":\"19553\",\"24hVolume\":\"1055110443.4299\"},{\"uuid\":\"BfkLiwAInu\",\"rank\":6,\"base\":{\"uuid\":\"Qwsogvtv82FCd\",\"symbol\":\"BTC\"},\"quote\":{\"uuid\":\"yhjMzLPhuIDl\",\"symbol\":\"USD\"},\"exchange\":{\"name\":\"Coinbase Pro\",\"uuid\":\"qn5ZJmPFP\",\"iconUrl\":\"https://cdn.coinranking.com/eTtnk9dDn/coinbase.svg\"},\"marketShare\":\"1.73\",\"btcPrice\":\"1.0006170504217817\",\"recommended\":true,\"filters\":[],\"price\":\"19561.85\",\"24hVolume\":\"866557873.3132609\"},{\"uuid\":\"_yCnSctXa4R\",\"rank\":7,\"base\":{\"uuid\":\"Qwsogvtv82FCd\",\"symbol\":\"BTC\"},\"quote\":{\"uuid\":\"HIVsRcGKkPFtW\",\"symbol\":\"USDT\"},\"exchange\":{\"name\":\"Gate.io\",\"uuid\":\"h0n6yGf3J\",\"iconUrl\":\"https://cdn.coinranking.com/aEeq9dvUz/gateio.png\"},\"marketShare\":\"1.61\",\"btcPrice\":\"1.0004285882884187\",\"recommended\":true,\"filters\":[],\"price\":\"19559.198111463633\",\"24hVolume\":\"807799848.7484322\"},{\"uuid\":\"HLkbQtxEKr\",\"rank\":8,\"base\":{\"uuid\":\"Qwsogvtv82FCd\",\"symbol\":\"BTC\"},\"quote\":{\"uuid\":\"HIVsRcGKkPFtW\",\"symbol\":\"USDT\"},\"exchange\":{\"name\":\"DigiFinex\",\"uuid\":\"znlSM6AO_V\",\"iconUrl\":\"https://cdn.coinranking.com/oXtSB9uNs/digi.png\"},\"marketShare\":\"1.51\",\"btcPrice\":\"0.9997843664506596\",\"recommended\":true,\"filters\":[],\"price\":\"19545.571205896274\",\"24hVolume\":\"759534258.4083059\"},{\"uuid\":\"6IRBe1-qtM\",\"rank\":9,\"base\":{\"uuid\":\"Qwsogvtv82FCd\",\"symbol\":\"BTC\"},\"quote\":{\"uuid\":\"HIVsRcGKkPFtW\",\"symbol\":\"USDT\"},\"exchange\":{\"name\":\"Bybit\",\"uuid\":\"TjMe3QlK0\",\"iconUrl\":\"https://cdn.coinranking.com/iTGvYmzJq/bybit-logo.png\"},\"marketShare\":\"1.39\",\"btcPrice\":\"1.0003344687622528\",\"recommended\":true,\"filters\":[],\"price\":\"19556.325588803804\",\"24hVolume\":\"699682846.0642719\"},{\"uuid\":\"omsIWa1l1g\",\"rank\":10,\"base\":{\"uuid\":\"Qwsogvtv82FCd\",\"symbol\":\"BTC\"},\"quote\":{\"uuid\":\"HIVsRcGKkPFtW\",\"symbol\":\"USDT\"},\"exchange\":{\"name\":\"BitMart\",\"uuid\":\"X8P0C7SXai\",\"iconUrl\":\"https://cdn.coinranking.com/0KoAUbthl/bitmart.svg\"},\"marketShare\":\"1.34\",\"btcPrice\":\"1.0008020296815299\",\"recommended\":true,\"filters\":[],\"price\":\"19553.972966964964\",\"24hVolume\":\"674010519.7472186\"},{\"uuid\":\"xKBgc-H3N7k\",\"rank\":11,\"base\":{\"uuid\":\"Qwsogvtv82FCd\",\"symbol\":\"BTC\"},\"quote\":{\"uuid\":\"HIVsRcGKkPFtW\",\"symbol\":\"USDT\"},\"exchange\":{\"name\":\"Changelly PRO\",\"uuid\":\"LtNqM79f9R\",\"iconUrl\":\"https://cdn.coinranking.com/AvbhQzPFY/changelly-pro.png\"},\"marketShare\":\"0.94\",\"btcPrice\":\"0.9995665665519854\",\"recommended\":true,\"filters\":[],\"price\":\"19541.31326431304\",\"24hVolume\":\"471824474.1124353\"},{\"uuid\":\"6P12ZOGaPV\",\"rank\":12,\"base\":{\"uuid\":\"Qwsogvtv82FCd\",\"symbol\":\"BTC\"},\"quote\":{\"uuid\":\"yhjMzLPhuIDl\",\"symbol\":\"USD\"},\"exchange\":{\"name\":\"Bitfinex\",\"uuid\":\"WmdeT9i2q\",\"iconUrl\":\"https://cdn.coinranking.com/VSt4Or6D6/Bitfinex.svg\"},\"marketShare\":\"0.62\",\"btcPrice\":\"1.0014925789420013\",\"recommended\":true,\"filters\":[],\"price\":\"19580\",\"24hVolume\":\"312901473.0379274\"},{\"uuid\":\"6NVfmwRwJEp\",\"rank\":13,\"base\":{\"uuid\":\"Qwsogvtv82FCd\",\"symbol\":\"BTC\"},\"quote\":{\"uuid\":\"HIVsRcGKkPFtW\",\"symbol\":\"USDT\"},\"exchange\":{\"name\":\"OKX\",\"uuid\":\"hUlMcwWZp_\",\"iconUrl\":\"https://cdn.coinranking.com/xcZdYtX6E/okx.png\"},\"marketShare\":\"0.51\",\"btcPrice\":\"0.999753057956891\",\"recommended\":true,\"filters\":[],\"price\":\"19544.959131518197\",\"24hVolume\":\"257674211.5961138\"},{\"uuid\":\"zA494HCGvSe\",\"rank\":14,\"base\":{\"uuid\":\"VLqpJwogdhHNb\",\"symbol\":\"LINK\"},\"quote\":{\"uuid\":\"Qwsogvtv82FCd\",\"symbol\":\"BTC\"},\"exchange\":{\"name\":\"BitMart\",\"uuid\":\"X8P0C7SXai\",\"iconUrl\":\"https://cdn.coinranking.com/0KoAUbthl/bitmart.svg\"},\"marketShare\":\"0.43\",\"btcPrice\":\"1.0000153901858675\",\"recommended\":true,\"filters\":[],\"price\":\"19538.60336640787\",\"24hVolume\":\"217882953.44423172\"},{\"uuid\":\"7SHNQDspoF\",\"rank\":15,\"base\":{\"uuid\":\"Qwsogvtv82FCd\",\"symbol\":\"BTC\"},\"quote\":{\"uuid\":\"HIVsRcGKkPFtW\",\"symbol\":\"USDT\"},\"exchange\":{\"name\":\"Crypto.com\",\"uuid\":\"84SYQYPi5D\",\"iconUrl\":\"https://cdn.coinranking.com/NyAQsixIU/crypto-com.svg\"},\"marketShare\":\"0.4\",\"btcPrice\":\"0.9997808079626965\",\"recommended\":true,\"filters\":[],\"price\":\"19545.50163821528\",\"24hVolume\":\"200574090.35100487\"},{\"uuid\":\"OmPykFeB-a6\",\"rank\":16,\"base\":{\"uuid\":\"Qwsogvtv82FCd\",\"symbol\":\"BTC\"},\"quote\":{\"uuid\":\"Hokyui45Z38f\",\"symbol\":\"GBP\"},\"exchange\":{\"name\":\"Bitfinex\",\"uuid\":\"WmdeT9i2q\",\"iconUrl\":\"https://cdn.coinranking.com/VSt4Or6D6/Bitfinex.svg\"},\"marketShare\":\"0.38\",\"btcPrice\":\"1.0007968244121697\",\"recommended\":true,\"filters\":[],\"price\":\"19566.397429216602\",\"24hVolume\":\"192080275.70000026\"},{\"uuid\":\"HrnBV_i5mZ\",\"rank\":17,\"base\":{\"uuid\":\"Qwsogvtv82FCd\",\"symbol\":\"BTC\"},\"quote\":{\"uuid\":\"aKzUVe4Hh_CON\",\"symbol\":\"USDC\"},\"exchange\":{\"name\":\"Binance\",\"uuid\":\"-zdvbieRdZ\",\"iconUrl\":\"https://cdn.coinranking.com/mDTK5qrmq/binance.svg\"},\"marketShare\":\"0.35\",\"btcPrice\":\"0.9995981146426536\",\"recommended\":true,\"filters\":[],\"price\":\"19541.93002275942\",\"24hVolume\":\"174251969.45266035\"},{\"uuid\":\"eeutpe92T7I\",\"rank\":18,\"base\":{\"uuid\":\"Qwsogvtv82FCd\",\"symbol\":\"BTC\"},\"quote\":{\"uuid\":\"HIVsRcGKkPFtW\",\"symbol\":\"USDT\"},\"exchange\":{\"name\":\"Huobi Global\",\"uuid\":\"xRvYoPjeQ\",\"iconUrl\":\"https://cdn.coinranking.com/ryFpQe0c7/ht.svg\"},\"marketShare\":\"0.34\",\"btcPrice\":\"1.0013874246785461\",\"recommended\":true,\"filters\":[],\"price\":\"19565.410591597178\",\"24hVolume\":\"172905374.86273372\"},{\"uuid\":\"S61gVe2h-Wh\",\"rank\":19,\"base\":{\"uuid\":\"Qwsogvtv82FCd\",\"symbol\":\"BTC\"},\"quote\":{\"uuid\":\"UinC7PrlC4hF\",\"symbol\":\"KRW\"},\"exchange\":{\"name\":\"Upbit\",\"uuid\":\"kKbFzL8Tp70u\",\"iconUrl\":\"https://cdn.coinranking.com/d5MynJaPK/upbit.svg\"},\"marketShare\":\"0.34\",\"btcPrice\":\"1.0101570540306197\",\"recommended\":true,\"filters\":[\"GEO\"],\"price\":\"19749.39758296998\",\"24hVolume\":\"172022666.57521236\"},{\"uuid\":\"S7C_Sm6p9Ig\",\"rank\":20,\"base\":{\"uuid\":\"razxDUgYGNAdQ\",\"symbol\":\"ETH\"},\"quote\":{\"uuid\":\"Qwsogvtv82FCd\",\"symbol\":\"BTC\"},\"exchange\":{\"name\":\"Binance\",\"uuid\":\"-zdvbieRdZ\",\"iconUrl\":\"https://cdn.coinranking.com/mDTK5qrmq/binance.svg\"},\"marketShare\":\"0.34\",\"btcPrice\":\"0.999959405965724\",\"recommended\":true,\"filters\":[],\"price\":\"19548.993191096622\",\"24hVolume\":\"171502588.14082694\"},{\"uuid\":\"m1-PAOKZIZ\",\"rank\":21,\"base\":{\"uuid\":\"Qwsogvtv82FCd\",\"symbol\":\"BTC\"},\"quote\":{\"uuid\":\"yhjMzLPhuIDl\",\"symbol\":\"USD\"},\"exchange\":{\"name\":\"Kraken\",\"uuid\":\"2Vu9j1PmUbx\",\"iconUrl\":\"https://cdn.coinranking.com/jqjP32iqz/kraken.svg\"},\"marketShare\":\"0.33\",\"btcPrice\":\"1.000695932084407\",\"recommended\":true,\"filters\":[],\"price\":\"19551.9\",\"24hVolume\":\"167482588.62540495\"},{\"uuid\":\"6iJK7eXq4ss\",\"rank\":22,\"base\":{\"uuid\":\"Qwsogvtv82FCd\",\"symbol\":\"BTC\"},\"quote\":{\"uuid\":\"aKzUVe4Hh_CON\",\"symbol\":\"USDC\"},\"exchange\":{\"name\":\"BitMart\",\"uuid\":\"X8P0C7SXai\",\"iconUrl\":\"https://cdn.coinranking.com/0KoAUbthl/bitmart.svg\"},\"marketShare\":\"0.33\",\"btcPrice\":\"1.0012178682377257\",\"recommended\":true,\"filters\":[],\"price\":\"19562.097746537067\",\"24hVolume\":\"166574149.49736598\"},{\"uuid\":\"9VjdHS1GPGz\",\"rank\":23,\"base\":{\"uuid\":\"razxDUgYGNAdQ\",\"symbol\":\"ETH\"},\"quote\":{\"uuid\":\"Qwsogvtv82FCd\",\"symbol\":\"BTC\"},\"exchange\":{\"name\":\"BitMart\",\"uuid\":\"X8P0C7SXai\",\"iconUrl\":\"https://cdn.coinranking.com/0KoAUbthl/bitmart.svg\"},\"marketShare\":\"0.23\",\"btcPrice\":\"1.0000153901858673\",\"recommended\":true,\"filters\":[],\"price\":\"19538.60336640787\",\"24hVolume\":\"116567123.72803867\"},{\"uuid\":\"_VusEHNQdqn\",\"rank\":24,\"base\":{\"uuid\":\"Qwsogvtv82FCd\",\"symbol\":\"BTC\"},\"quote\":{\"uuid\":\"5k-_VTxqtCEI\",\"symbol\":\"EUR\"},\"exchange\":{\"name\":\"Binance\",\"uuid\":\"-zdvbieRdZ\",\"iconUrl\":\"https://cdn.coinranking.com/mDTK5qrmq/binance.svg\"},\"marketShare\":\"0.22\",\"btcPrice\":\"0.9995067878338383\",\"recommended\":true,\"filters\":[],\"price\":\"19540.14460311834\",\"24hVolume\":\"111862870.7435002\"},{\"uuid\":\"PQ4RpzkIsje\",\"rank\":25,\"base\":{\"uuid\":\"Qwsogvtv82FCd\",\"symbol\":\"BTC\"},\"quote\":{\"uuid\":\"HIVsRcGKkPFtW\",\"symbol\":\"USDT\"},\"exchange\":{\"name\":\"FTX\",\"uuid\":\"_qq3t0X7Q\",\"iconUrl\":\"https://cdn.coinranking.com/Np95rtMR2/ftx-exchange.svg\"},\"marketShare\":\"0.22\",\"btcPrice\":\"0.9997870434868686\",\"recommended\":true,\"filters\":[],\"price\":\"19545.623541383404\",\"24hVolume\":\"111612907.4762226\"},{\"uuid\":\"muYCc8Vfk4\",\"rank\":26,\"base\":{\"uuid\":\"Qwsogvtv82FCd\",\"symbol\":\"BTC\"},\"quote\":{\"uuid\":\"yhjMzLPhuIDl\",\"symbol\":\"USD\"},\"exchange\":{\"name\":\"Currency.com\",\"uuid\":\"Bpdbp-eS\",\"iconUrl\":\"https://cdn.coinranking.com/laAvvOIp1/currency-com.svg\"},\"marketShare\":\"0.2\",\"btcPrice\":\"1.0000843356112683\",\"recommended\":true,\"filters\":[],\"price\":\"19560.5\",\"24hVolume\":\"102247881.8236\"},{\"uuid\":\"eE4IkhIoO\",\"rank\":27,\"base\":{\"uuid\":\"Qwsogvtv82FCd\",\"symbol\":\"BTC\"},\"quote\":{\"uuid\":\"yhjMzLPhuIDl\",\"symbol\":\"USD\"},\"exchange\":{\"name\":\"Bitstamp\",\"uuid\":\"b_T97fQvy\",\"iconUrl\":\"https://cdn.coinranking.com/hZIwj0Exu/bitstamp.svg\"},\"marketShare\":\"0.18\",\"btcPrice\":\"1.0010322401672067\",\"recommended\":true,\"filters\":[],\"price\":\"19571\",\"24hVolume\":\"87995404.04036765\"},{\"uuid\":\"CaBc0aQbs5\",\"rank\":28,\"base\":{\"uuid\":\"Qwsogvtv82FCd\",\"symbol\":\"BTC\"},\"quote\":{\"uuid\":\"aKzUVe4Hh_CON\",\"symbol\":\"USDC\"},\"exchange\":{\"name\":\"Bybit\",\"uuid\":\"TjMe3QlK0\",\"iconUrl\":\"https://cdn.coinranking.com/iTGvYmzJq/bybit-logo.png\"},\"marketShare\":\"0.17\",\"btcPrice\":\"1.0003064743021373\",\"recommended\":true,\"filters\":[],\"price\":\"19555.77830307708\",\"24hVolume\":\"86944648.38222136\"},{\"uuid\":\"pwXoXA2k_-D\",\"rank\":29,\"base\":{\"uuid\":\"Qwsogvtv82FCd\",\"symbol\":\"BTC\"},\"quote\":{\"uuid\":\"5k-_VTxqtCEI\",\"symbol\":\"EUR\"},\"exchange\":{\"name\":\"Bitfinex\",\"uuid\":\"WmdeT9i2q\",\"iconUrl\":\"https://cdn.coinranking.com/VSt4Or6D6/Bitfinex.svg\"},\"marketShare\":\"0.16\",\"btcPrice\":\"1.0012808031385456\",\"recommended\":true,\"filters\":[],\"price\":\"19575.85960962782\",\"24hVolume\":\"78299942.84342718\"},{\"uuid\":\"3YuDLRkbhd_\",\"rank\":30,\"base\":{\"uuid\":\"Qwsogvtv82FCd\",\"symbol\":\"BTC\"},\"quote\":{\"uuid\":\"UinC7PrlC4hF\",\"symbol\":\"KRW\"},\"exchange\":{\"name\":\"Bithumb\",\"uuid\":\"OBlX6VUtD\",\"iconUrl\":\"https://cdn.coinranking.com/HJC5VoKWl/Bithumb.svg\"},\"marketShare\":\"0.14\",\"btcPrice\":\"1.0112896557385609\",\"recommended\":true,\"filters\":[\"GEO\"],\"price\":\"19770.49715849888\",\"24hVolume\":\"69946295.45867413\"},{\"uuid\":\"1cJ2DfrGAD\",\"rank\":31,\"base\":{\"uuid\":\"razxDUgYGNAdQ\",\"symbol\":\"ETH\"},\"quote\":{\"uuid\":\"Qwsogvtv82FCd\",\"symbol\":\"BTC\"},\"exchange\":{\"name\":\"AAX\",\"uuid\":\"s8lbIYDTH\",\"iconUrl\":\"https://cdn.coinranking.com/JBWyndh_c/853.png\"},\"marketShare\":\"0.13\",\"btcPrice\":\"1.0000003545975822\",\"recommended\":true,\"filters\":[],\"price\":\"19549.79372811903\",\"24hVolume\":\"66702921.44078443\"},{\"uuid\":\"aPhsKoiSCQ\",\"rank\":32,\"base\":{\"uuid\":\"Qwsogvtv82FCd\",\"symbol\":\"BTC\"},\"quote\":{\"uuid\":\"aKzUVe4Hh_CON\",\"symbol\":\"USDC\"},\"exchange\":{\"name\":\"AAX\",\"uuid\":\"s8lbIYDTH\",\"iconUrl\":\"https://cdn.coinranking.com/JBWyndh_c/853.png\"},\"marketShare\":\"0.11\",\"btcPrice\":\"1.0005072332266425\",\"recommended\":true,\"filters\":[],\"price\":\"19559.703097248515\",\"24hVolume\":\"57334979.65806176\"},{\"uuid\":\"f7jYojAqMv\",\"rank\":33,\"base\":{\"uuid\":\"Qwsogvtv82FCd\",\"symbol\":\"BTC\"},\"quote\":{\"uuid\":\"7DLFntuafXpZ\",\"symbol\":\"JPY\"},\"exchange\":{\"name\":\"BitFlyer\",\"uuid\":\"8t10ctWCU\",\"iconUrl\":\"https://cdn.coinranking.com/iGTwIBIAF/bitflyer.svg\"},\"marketShare\":\"0.11\",\"btcPrice\":\"1.0000738237805273\",\"recommended\":true,\"filters\":[],\"price\":\"19552.26217483208\",\"24hVolume\":\"56530407.011484966\"},{\"uuid\":\"nYlgbmyhf\",\"rank\":34,\"base\":{\"uuid\":\"Qwsogvtv82FCd\",\"symbol\":\"BTC\"},\"quote\":{\"uuid\":\"yhjMzLPhuIDl\",\"symbol\":\"USD\"},\"exchange\":{\"name\":\"Gate.io\",\"uuid\":\"h0n6yGf3J\",\"iconUrl\":\"https://cdn.coinranking.com/aEeq9dvUz/gateio.png\"},\"marketShare\":\"0.11\",\"btcPrice\":\"1.0010087117409394\",\"recommended\":true,\"filters\":[],\"price\":\"19570.54\",\"24hVolume\":\"53977644.841706\"},{\"uuid\":\"c2KcX8Fheqj\",\"rank\":35,\"base\":{\"uuid\":\"Qwsogvtv82FCd\",\"symbol\":\"BTC\"},\"quote\":{\"uuid\":\"aKzUVe4Hh_CON\",\"symbol\":\"USDC\"},\"exchange\":{\"name\":\"DigiFinex\",\"uuid\":\"znlSM6AO_V\",\"iconUrl\":\"https://cdn.coinranking.com/oXtSB9uNs/digi.png\"},\"marketShare\":\"0.09\",\"btcPrice\":\"1.0003468682068113\",\"recommended\":true,\"filters\":[],\"price\":\"19556.567995301306\",\"24hVolume\":\"47667220.02142508\"},{\"uuid\":\"4qPrubDSH-E\",\"rank\":36,\"base\":{\"uuid\":\"Qwsogvtv82FCd\",\"symbol\":\"BTC\"},\"quote\":{\"uuid\":\"aKzUVe4Hh_CON\",\"symbol\":\"USDC\"},\"exchange\":{\"name\":\"Changelly PRO\",\"uuid\":\"LtNqM79f9R\",\"iconUrl\":\"https://cdn.coinranking.com/AvbhQzPFY/changelly-pro.png\"},\"marketShare\":\"0.09\",\"btcPrice\":\"0.9994451584062638\",\"recommended\":true,\"filters\":[],\"price\":\"19538.939760948913\",\"24hVolume\":\"45873770.72744754\"},{\"uuid\":\"MgHqIa4TGQv\",\"rank\":37,\"base\":{\"uuid\":\"Qwsogvtv82FCd\",\"symbol\":\"BTC\"},\"quote\":{\"uuid\":\"yhjMzLPhuIDl\",\"symbol\":\"USD\"},\"exchange\":{\"name\":\"Gemini\",\"uuid\":\"g4KrbpvBGZ\",\"iconUrl\":\"https://cdn.coinranking.com/WZWRrgFmC/gemini.svg\"},\"marketShare\":\"0.08\",\"btcPrice\":\"1.000279962346662\",\"recommended\":true,\"filters\":[],\"price\":\"19555.26\",\"24hVolume\":\"40745921.697256245\"},{\"uuid\":\"jdKHrHQ46u0\",\"rank\":38,\"base\":{\"uuid\":\"Qwsogvtv82FCd\",\"symbol\":\"BTC\"},\"quote\":{\"uuid\":\"Dk5T6J0UtCUA\",\"symbol\":\"TRY\"},\"exchange\":{\"name\":\"Binance\",\"uuid\":\"-zdvbieRdZ\",\"iconUrl\":\"https://cdn.coinranking.com/mDTK5qrmq/binance.svg\"},\"marketShare\":\"0.08\",\"btcPrice\":\"1.010242042915771\",\"recommended\":true,\"filters\":[],\"price\":\"19750.01655116878\",\"24hVolume\":\"40398204.554978386\"},{\"uuid\":\"UnIYDkzqr\",\"rank\":39,\"base\":{\"uuid\":\"Qwsogvtv82FCd\",\"symbol\":\"BTC\"},\"quote\":{\"uuid\":\"HIVsRcGKkPFtW\",\"symbol\":\"USDT\"},\"exchange\":{\"name\":\"Coinbase Pro\",\"uuid\":\"qn5ZJmPFP\",\"iconUrl\":\"https://cdn.coinranking.com/eTtnk9dDn/coinbase.svg\"},\"marketShare\":\"0.07\",\"btcPrice\":\"1.000504714180246\",\"recommended\":true,\"filters\":[],\"price\":\"19559.653850428534\",\"24hVolume\":\"36872189.189130485\"},{\"uuid\":\"XcNZkSukO\",\"rank\":40,\"base\":{\"uuid\":\"Qwsogvtv82FCd\",\"symbol\":\"BTC\"},\"quote\":{\"uuid\":\"aKzUVe4Hh_CON\",\"symbol\":\"USDC\"},\"exchange\":{\"name\":\"Crypto.com\",\"uuid\":\"84SYQYPi5D\",\"iconUrl\":\"https://cdn.coinranking.com/NyAQsixIU/crypto-com.svg\"},\"marketShare\":\"0.07\",\"btcPrice\":\"0.9995918870135577\",\"recommended\":true,\"filters\":[],\"price\":\"19541.808273938354\",\"24hVolume\":\"36195018.479928434\"},{\"uuid\":\"_ZavUB6m5D\",\"rank\":41,\"base\":{\"uuid\":\"Qwsogvtv82FCd\",\"symbol\":\"BTC\"},\"quote\":{\"uuid\":\"aKzUVe4Hh_CON\",\"symbol\":\"USDC\"},\"exchange\":{\"name\":\"OKX\",\"uuid\":\"hUlMcwWZp_\",\"iconUrl\":\"https://cdn.coinranking.com/xcZdYtX6E/okx.png\"},\"marketShare\":\"0.07\",\"btcPrice\":\"0.9996712199204676\",\"recommended\":true,\"filters\":[],\"price\":\"19543.359215354332\",\"24hVolume\":\"34594805.92633591\"},{\"uuid\":\"5HtbdxcPg\",\"rank\":42,\"base\":{\"uuid\":\"razxDUgYGNAdQ\",\"symbol\":\"ETH\"},\"quote\":{\"uuid\":\"Qwsogvtv82FCd\",\"symbol\":\"BTC\"},\"exchange\":{\"name\":\"FTX\",\"uuid\":\"_qq3t0X7Q\",\"iconUrl\":\"https://cdn.coinranking.com/Np95rtMR2/ftx-exchange.svg\"},\"marketShare\":\"0.07\",\"btcPrice\":\"0.9999665104161106\",\"recommended\":true,\"filters\":[],\"price\":\"19549.132081586984\",\"24hVolume\":\"33700751.87111275\"},{\"uuid\":\"8mXI0hY2Tt\",\"rank\":43,\"base\":{\"uuid\":\"Qwsogvtv82FCd\",\"symbol\":\"BTC\"},\"quote\":{\"uuid\":\"5k-_VTxqtCEI\",\"symbol\":\"EUR\"},\"exchange\":{\"name\":\"Kraken\",\"uuid\":\"2Vu9j1PmUbx\",\"iconUrl\":\"https://cdn.coinranking.com/jqjP32iqz/kraken.svg\"},\"marketShare\":\"0.06\",\"btcPrice\":\"0.9993148595051016\",\"recommended\":true,\"filters\":[],\"price\":\"19524.91618593864\",\"24hVolume\":\"32095699.43881763\"},{\"uuid\":\"6BJC_vK6kEK\",\"rank\":44,\"base\":{\"uuid\":\"Qwsogvtv82FCd\",\"symbol\":\"BTC\"},\"quote\":{\"uuid\":\"8_Vx2VNt-7YtZ\",\"symbol\":\"USDK\"},\"exchange\":{\"name\":\"OKX\",\"uuid\":\"hUlMcwWZp_\",\"iconUrl\":\"https://cdn.coinranking.com/xcZdYtX6E/okx.png\"},\"marketShare\":\"0.06\",\"btcPrice\":\"0.9992680485023397\",\"recommended\":true,\"filters\":[],\"price\":\"19535.47730008777\",\"24hVolume\":\"30982353.629769847\"},{\"uuid\":\"i7Xtk3HT7P\",\"rank\":45,\"base\":{\"uuid\":\"Qwsogvtv82FCd\",\"symbol\":\"BTC\"},\"quote\":{\"uuid\":\"yhjMzLPhuIDl\",\"symbol\":\"USD\"},\"exchange\":{\"name\":\"OKCoin\",\"uuid\":\"uCHDNBglRH\",\"iconUrl\":\"https://cdn.coinranking.com/QtywTnjyY/okcoin.png\"},\"marketShare\":\"0.06\",\"btcPrice\":\"1.0007100030248506\",\"recommended\":true,\"filters\":[],\"price\":\"19564.7\",\"24hVolume\":\"30536791.9719\"},{\"uuid\":\"YkW6wVKXP_e\",\"rank\":46,\"base\":{\"uuid\":\"Qwsogvtv82FCd\",\"symbol\":\"BTC\"},\"quote\":{\"uuid\":\"aKzUVe4Hh_CON\",\"symbol\":\"USDC\"},\"exchange\":{\"name\":\"Kucoin\",\"uuid\":\"-4x6SL_Cv\",\"iconUrl\":\"https://cdn.coinranking.com/A-hAjR-hN/kucoin.png\"},\"marketShare\":\"0.05\",\"btcPrice\":\"1.000238772585934\",\"recommended\":true,\"filters\":[],\"price\":\"19555.487059047675\",\"24hVolume\":\"27576717.302790433\"},{\"uuid\":\"81QwzJz3WV\",\"rank\":47,\"base\":{\"uuid\":\"Qwsogvtv82FCd\",\"symbol\":\"BTC\"},\"quote\":{\"uuid\":\"Hokyui45Z38f\",\"symbol\":\"GBP\"},\"exchange\":{\"name\":\"Binance\",\"uuid\":\"-zdvbieRdZ\",\"iconUrl\":\"https://cdn.coinranking.com/mDTK5qrmq/binance.svg\"},\"marketShare\":\"0.05\",\"btcPrice\":\"0.9993078310650058\",\"recommended\":true,\"filters\":[],\"price\":\"19536.25504070608\",\"24hVolume\":\"26754367.037321117\"},{\"uuid\":\"Dct9Lqg7W7O\",\"rank\":48,\"base\":{\"uuid\":\"Qwsogvtv82FCd\",\"symbol\":\"BTC\"},\"quote\":{\"uuid\":\"7DLFntuafXpZ\",\"symbol\":\"JPY\"},\"exchange\":{\"name\":\"Bitfinex\",\"uuid\":\"WmdeT9i2q\",\"iconUrl\":\"https://cdn.coinranking.com/VSt4Or6D6/Bitfinex.svg\"},\"marketShare\":\"0.05\",\"btcPrice\":\"1.0011690907775164\",\"recommended\":true,\"filters\":[],\"price\":\"19573.675541492972\",\"24hVolume\":\"26686319.787025873\"},{\"uuid\":\"DRoLrwKvbv\",\"rank\":49,\"base\":{\"uuid\":\"razxDUgYGNAdQ\",\"symbol\":\"ETH\"},\"quote\":{\"uuid\":\"Qwsogvtv82FCd\",\"symbol\":\"BTC\"},\"exchange\":{\"name\":\"Kucoin\",\"uuid\":\"-4x6SL_Cv\",\"iconUrl\":\"https://cdn.coinranking.com/A-hAjR-hN/kucoin.png\"},\"marketShare\":\"0.05\",\"btcPrice\":\"0.9999715372669036\",\"recommended\":true,\"filters\":[],\"price\":\"19550.262389732456\",\"24hVolume\":\"23867869.734861843\"},{\"uuid\":\"XnAt0Nv7hl\",\"rank\":50,\"base\":{\"uuid\":\"VLqpJwogdhHNb\",\"symbol\":\"LINK\"},\"quote\":{\"uuid\":\"Qwsogvtv82FCd\",\"symbol\":\"BTC\"},\"exchange\":{\"name\":\"Binance\",\"uuid\":\"-zdvbieRdZ\",\"iconUrl\":\"https://cdn.coinranking.com/mDTK5qrmq/binance.svg\"},\"marketShare\":\"0.05\",\"btcPrice\":\"0.9999594059657241\",\"recommended\":true,\"filters\":[],\"price\":\"19548.993191096622\",\"24hVolume\":\"22862920.016270638\"}]}}\n"
     ]
    }
   ],
   "source": [
    "import java.net.URI;\n",
    "import java.net.http.HttpClient;\n",
    "import java.net.http.HttpRequest;\n",
    "import java.net.http.HttpResponse;\n",
    "\n",
    "//RapidAPI header  https://rapidapi.com/Coinranking/api/coinranking1/\n",
    "HttpRequest request = HttpRequest.newBuilder()\n",
    "\t\t.uri(URI.create(\"https://coinranking1.p.rapidapi.com/coin/Qwsogvtv82FCd/markets?referenceCurrencyUuid=yhjMzLPhuIDl&limit=50&offset=0&orderBy=24hVolume&orderDirection=desc\"))\n",
    "\t\t.header(\"X-RapidAPI-Key\", \"3bef89a477msh7eecb5e7498cd51p1095f2jsn9b36f511d7ec\")\n",
    "\t\t.header(\"X-RapidAPI-Host\", \"coinranking1.p.rapidapi.com\")\n",
    "\t\t.method(\"GET\", HttpRequest.BodyPublishers.noBody())\n",
    "\t\t.build();\n",
    "HttpResponse<String> response = HttpClient.newHttpClient().send(request, HttpResponse.BodyHandlers.ofString());\n",
    "System.out.println(response.body());"
   ]
  },
  {
   "cell_type": "markdown",
   "metadata": {},
   "source": [
    "### Build your own Web Service\n",
    "> To build a Web Service in the backend allows you to control information and errors between your app and the user.  A proper Web Service requires more code: RESTful interface, error handling, and in this case reducing the calls to the service according to update frequency.\n",
    "- There are benefits of building service in Java vs JavaScript:\n",
    "    - Firewall will not be blocked as backend server on AWS is outside the firewall\n",
    "    - Selecting frontend service https://nighthawkcodingsociety.com that has been cleared through IT.\n",
    "    - Many APIs have usage costs or usage limits, backend can serve while limiting direct API access.\n",
    "- Project link: https://github.com/nighthawkcoders/spring_portfolio/blob/master/src/main/java/com/nighthawk/spring_portfolio/mvc/covid/CovidApiController.java\n",
    "\n",
    "```java\n",
    "package com.nighthawk.spring_portfolio.mvc.covid;\n",
    "\n",
    "import java.net.URI;\n",
    "import java.net.http.HttpClient;\n",
    "import java.net.http.HttpRequest;\n",
    "import java.net.http.HttpResponse;\n",
    "import java.util.Date;\n",
    "import java.util.HashMap;\n",
    "\n",
    "import org.json.simple.JSONObject;\n",
    "import org.json.simple.parser.JSONParser;\n",
    "import org.springframework.http.HttpStatus;\n",
    "import org.springframework.http.ResponseEntity;\n",
    "import org.springframework.web.bind.annotation.*;\n",
    "\n",
    "@RestController // annotation to create a RESTful web services\n",
    "@RequestMapping(\"/api/covid\")  //prefix of API\n",
    "public class CovidApiController {\n",
    "    private JSONObject body; //last run result\n",
    "    private HttpStatus status; //last run status\n",
    "    String last_run = null; //last run day of month\n",
    "\n",
    "    // GET Covid 19 Stats\n",
    "    @GetMapping(\"/daily\")   //added to end of prefix as endpoint\n",
    "    public ResponseEntity<JSONObject> getCovid() {\n",
    "\n",
    "        //calls API once a day, sets body and status properties\n",
    "        String today = new Date().toString().substring(0,10); \n",
    "        if (last_run == null || !today.equals(last_run))\n",
    "        {\n",
    "            try {  //APIs can fail (ie Internet or Service down)\n",
    "                \n",
    "                //RapidAPI header\n",
    "                HttpRequest request = HttpRequest.newBuilder()\n",
    "                    .uri(URI.create(\"https://corona-virus-world-and-india-data.p.rapidapi.com/api\"))\n",
    "                    .header(\"x-rapidapi-key\", \"dec069b877msh0d9d0827664078cp1a18fajsn2afac35ae063\")\n",
    "                    .header(\"x-rapidapi-host\", \"corona-virus-world-and-india-data.p.rapidapi.com\")\n",
    "                    .method(\"GET\", HttpRequest.BodyPublishers.noBody())\n",
    "                    .build();\n",
    "\n",
    "                //RapidAPI request and response\n",
    "                HttpResponse<String> response = HttpClient.newHttpClient().send(request, HttpResponse.BodyHandlers.ofString());\n",
    "\n",
    "                //JSONParser extracts text body and parses to JSONObject\n",
    "                this.body = (JSONObject) new JSONParser().parse(response.body());\n",
    "                this.status = HttpStatus.OK;  //200 success\n",
    "                this.last_run = today;\n",
    "            }\n",
    "            catch (Exception e) {  //capture failure info\n",
    "                HashMap<String, String> status = new HashMap<>();\n",
    "                status.put(\"status\", \"RapidApi failure: \" + e);\n",
    "\n",
    "                //Setup object for error\n",
    "                this.body = (JSONObject) status;\n",
    "                this.status = HttpStatus.INTERNAL_SERVER_ERROR; //500 error\n",
    "                this.last_run = null;\n",
    "            }\n",
    "        }\n",
    "\n",
    "        //return JSONObject in RESTful style\n",
    "        return new ResponseEntity<>(body, status);\n",
    "    }\n",
    "}\n",
    "```"
   ]
  }
 ],
 "metadata": {
  "kernelspec": {
   "display_name": "Java",
   "language": "java",
   "name": "java"
  },
  "language_info": {
   "codemirror_mode": "java",
   "file_extension": ".jshell",
   "mimetype": "text/x-java-source",
   "name": "java",
   "pygments_lexer": "java",
   "version": "11.0.16+8-post-Ubuntu-0ubuntu120.04"
  },
  "orig_nbformat": 4,
  "vscode": {
   "interpreter": {
    "hash": "916dbcbb3f70747c44a77c7bcd40155683ae19c65e1c03b4aa3499c5328201f1"
   }
  }
 },
 "nbformat": 4,
 "nbformat_minor": 2
}
