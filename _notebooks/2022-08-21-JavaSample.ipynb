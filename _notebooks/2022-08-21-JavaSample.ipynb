{
 "cells": [
  {
   "cell_type": "markdown",
   "metadata": {},
   "source": [
    "# Fastpages Notebook Blog My Java Post\n",
    "> Fastpage for Jupyter notebook with Java.\n"
   ]
  },
  {
   "cell_type": "code",
   "execution_count": 1,
   "metadata": {},
   "outputs": [
    {
     "name": "stdout",
     "output_type": "stream",
     "text": [
      "Hello World\n"
     ]
    }
   ],
   "source": [
    "String msg = \"Hello World\";\n",
    "System.out.println(msg);"
   ]
  },
  {
   "cell_type": "code",
   "execution_count": 28,
   "metadata": {},
   "outputs": [
    {
     "name": "stdout",
     "output_type": "stream",
     "text": [
      "The average of some three numbers is 527.6903034895832"
     ]
    }
   ],
   "source": [
    "//This demonstrates the average of three different primitive data types\n",
    "public class DefineNewprg{\n",
    "    public static void main(String[] args) {\n",
    "        int x = 990;\n",
    "        float y = 36.98f;\n",
    "        double w = 556.090930;\n",
    "        double z;\n",
    "        String avg, navg;\n",
    "        //To control output\n",
    "        boolean displayavg = false;\n",
    "\n",
    "        z = (x+y+w)/3;\n",
    "\n",
    "        //To display result in human language\n",
    "        avg = \"The average of some three numbers is \"+z;\n",
    "        navg = \"Average cannot be computed\";\n",
    "        if (!displayavg)\n",
    "            System.out.print(avg);\n",
    "        else \n",
    "            System.out.print(navg);\n",
    "\n",
    "    }\n",
    "   \n",
    "    \n",
    "}\n",
    "\n",
    "DefineNewprg.main(null)"
   ]
  },
  {
   "cell_type": "code",
   "execution_count": 29,
   "metadata": {},
   "outputs": [
    {
     "name": "stdout",
     "output_type": "stream",
     "text": [
      "Average cannot be computed"
     ]
    }
   ],
   "source": [
    "//This demonstrates the average of three different primitive data types\n",
    "public class DefineNewprg{\n",
    "    public static void main(String[] args) {\n",
    "        int x = 990;\n",
    "        float y = 36.98f;\n",
    "        double w = 556.090930;\n",
    "        double z;\n",
    "        String avg, navg;\n",
    "        //To control output\n",
    "        boolean displayavg = false;\n",
    "\n",
    "        z = (x+y+w)/3;\n",
    "\n",
    "        //To display result in human language\n",
    "        avg = \"The average of some three numbers is \"+z;\n",
    "        navg = \"Average cannot be computed\";\n",
    "        if (displayavg)\n",
    "            System.out.print(avg);\n",
    "        else \n",
    "            System.out.print(navg);\n",
    "\n",
    "    }\n",
    "   \n",
    "    \n",
    "}\n",
    "\n",
    "DefineNewprg.main(null)"
   ]
  },
  {
   "cell_type": "code",
   "execution_count": 27,
   "metadata": {},
   "outputs": [
    {
     "name": "stdout",
     "output_type": "stream",
     "text": [
      "Celsius<->Farenheit conversion\n",
      "Enter celsius:21.0\n",
      "In Farenheit:69.80000000000001\n",
      "Enter farenheit:90.0\n",
      "In Celsius:32.22222222222222\n"
     ]
    }
   ],
   "source": [
    "import java.util.Scanner;\n",
    "\n",
    "public class Conversion{\n",
    "    public static void main(String[] args) {\n",
    "        Scanner input,input2;\n",
    "        String beh=\"Celsius<->Farenheit conversion\";\n",
    "        double celsius, faren, celsius2, faren2;\n",
    "\n",
    "        System.out.println(beh);\n",
    "        \n",
    "\n",
    "        \n",
    "        input = new Scanner(System.in);\n",
    "        System.out.print(\"Enter celsius:\");\n",
    "        celsius = input.nextFloat();\n",
    "        faren =(celsius * 1.8) +32;\n",
    "        System.out.println(celsius);\n",
    "        System.out.println(\"In Farenheit:\"+faren);\n",
    "\n",
    "        input2 = new Scanner(System.in);\n",
    "        System.out.print(\"Enter farenheit:\");\n",
    "        faren2 = input2.nextFloat();\n",
    "        celsius2 =(faren2-32)*5/9;\n",
    "        System.out.println(faren2);\n",
    "        System.out.println(\"In Celsius:\"+celsius2);\n",
    "        \n",
    "        \n",
    "        \n",
    "\n",
    "\n",
    "\n",
    "    }\n",
    "}\n",
    "Conversion.main(null)"
   ]
  },
  {
   "cell_type": "markdown",
   "metadata": {},
   "source": [
    "# My First object oriented programm\n",
    "\n",
    "This program prompts the user for the first, second, third and fourth number in a matrix, which are taken as input and show output through by assigning the numbers from left to right and top to bottom. Then, once 4 number are given, it prompts them for another 4 for the second matrix and adds them to produce output.\n",
    "\n",
    "Objects Used\n",
    "\n",
    "* Scanner object is imported to obtain inputs.\n",
    "* Under Matrix2by2, there are 2 other objects which function to store the matrix.\n",
    "\n",
    "College board topics/Member\n",
    "\n",
    "* A 2D array was created to store values of the matrix\n",
    "\n",
    "Methods\n",
    "\n",
    "* SetData, print, display, add"
   ]
  },
  {
   "cell_type": "code",
   "execution_count": 4,
   "metadata": {},
   "outputs": [
    {
     "name": "stdout",
     "output_type": "stream",
     "text": [
      "Enter 1st matrix.\n",
      "Enter first number of the first matrix\n",
      "java.util.InputMismatchExceptionNot a number: try again\n",
      "Enter first number of the first matrix\n",
      "Enter second number of the first matrix\n",
      "java.util.InputMismatchExceptionNot a number: try again\n",
      "Enter first number of the first matrix\n",
      "Enter second number of the first matrix\n",
      "Enter third number of the first matrix\n",
      "Enter fourth number of the first matrix\n",
      "\n",
      "|6 7|\n",
      " - - \n",
      "|8 5|\n",
      "\n",
      "Enter 2nd matrix\n",
      "Enter first number of the first matrix\n",
      "Enter second number of the first matrix\n",
      "Enter third number of the first matrix\n",
      "Enter fourth number of the first matrix\n",
      "\n",
      "|0 0|\n",
      " - - \n",
      "|0 0|\n",
      "\n",
      "The output of matrix addition is \n",
      "\n",
      "|6 7|\n",
      " - - \n",
      "|8 5|\n",
      "\n"
     ]
    }
   ],
   "source": [
    "import java.util.Scanner;\n",
    "\n",
    " public class Matrix2by2 { // A class is defined here\n",
    "    public int arr[][];\n",
    "    \n",
    "    public Matrix2by2()\n",
    "    {\n",
    "        arr = new int[2][2];\n",
    "    }\n",
    "      \n",
    "    private void setData(int a,int b,int c,int d) { \n",
    "        this.arr[0][0]=a;\n",
    "        this.arr[0][1]=b;\n",
    "        this.arr[1][0]=c;\n",
    "        this.arr[1][1]=d;\n",
    "        \n",
    "        this.display(); \n",
    "    }\n",
    "    \n",
    "    public void print() {\n",
    "        Scanner ms=new Scanner(System.in);\n",
    "        int a,b,c,d;\n",
    "\n",
    "        boolean quit = false;\n",
    "        while(!quit) {\n",
    "            try {\n",
    "                System.out.println(\"Enter first number of the first matrix\");\n",
    "                a = ms.nextInt();\n",
    "                System.out.println(\"Enter second number of the first matrix\");\n",
    "                b = ms.nextInt();\n",
    "                System.out.println(\"Enter third number of the first matrix\");\n",
    "                c = ms.nextInt();\n",
    "                System.out.println(\"Enter fourth number of the first matrix\");\n",
    "                d = ms.nextInt();\n",
    "                this.setData(a,b,c,d);\n",
    "                quit=true;\n",
    "            } catch (Exception e) {\n",
    "                ms.nextLine();\n",
    "                System.out.println( e +\"Not a number: try again\");\n",
    "            }\n",
    "            }\n",
    "        \n",
    "        ms.close();\n",
    "        \n",
    "    }\n",
    "\n",
    "    private void display() {\n",
    "        System.out.println();\n",
    "        System.out.println(\"|\"+this.arr[0][0]+\" \"+this.arr[0][1]+\"|\");\n",
    "        System.out.println(\" - - \");\n",
    "        System.out.println(\"|\"+this.arr[1][0]+\" \"+this.arr[1][1]+\"|\");\n",
    "        System.out.println();\n",
    "    }\n",
    "\n",
    "    public void add(int[][] a1) {\n",
    "        this.arr[0][0]+=a1[0][0];\n",
    "        this.arr[0][1]+=a1[0][1];\n",
    "        this.arr[1][0]+=a1[1][0];\n",
    "        this.arr[1][1]+=a1[1][1];\n",
    "\n",
    "        display();\n",
    "    }\n",
    "\n",
    "    public static void main(String[] not) {\n",
    "        Matrix2by2 matrixOp1 = new Matrix2by2();\n",
    "        Matrix2by2 matrixOp2 = new Matrix2by2();\n",
    "        \n",
    "        System.out.println(\"Enter 1st matrix.\");\n",
    "        matrixOp1.print();\n",
    "\n",
    "        System.out.println(\"Enter 2nd matrix\");\n",
    "        matrixOp2.print();\n",
    "       \n",
    "        System.out.println(\"The output of matrix addition is \");\n",
    "        matrixOp1.add(matrixOp2.arr);\n",
    "       \n",
    "        }\n",
    "        public static void main(String[] args) {\n",
    "            new Matrix2by2();\n",
    "        }\n",
    "    \n",
    "\n",
    "}\n",
    "Matrix2by2.main(null)"
   ]
  }
 ],
 "metadata": {
  "kernelspec": {
   "display_name": "Java",
   "language": "java",
   "name": "java"
  },
  "language_info": {
   "codemirror_mode": "java",
   "file_extension": ".jshell",
   "mimetype": "text/x-java-source",
   "name": "java",
   "pygments_lexer": "java",
   "version": "11.0.16+8-post-Ubuntu-0ubuntu120.04"
  },
  "orig_nbformat": 4
 },
 "nbformat": 4,
 "nbformat_minor": 2
}
