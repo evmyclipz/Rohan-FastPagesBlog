{
 "cells": [
  {
   "cell_type": "markdown",
   "metadata": {},
   "source": [
    "# Fastpages Notebook Blog My Java Post\n",
    "> Fastpage for Jupyter notebook with Java.\n"
   ]
  },
  {
   "cell_type": "code",
   "execution_count": 1,
   "metadata": {},
   "outputs": [
    {
     "name": "stdout",
     "output_type": "stream",
     "text": [
      "Hello World\n"
     ]
    }
   ],
   "source": [
    "String msg = \"Hello World\";\n",
    "System.out.println(msg);"
   ]
  },
  {
   "cell_type": "code",
   "execution_count": 28,
   "metadata": {},
   "outputs": [
    {
     "name": "stdout",
     "output_type": "stream",
     "text": [
      "The average of some three numbers is 527.6903034895832"
     ]
    }
   ],
   "source": [
    "//This demonstrates the average of three different primitive data types\n",
    "public class DefineNewprg{\n",
    "    public static void main(String[] args) {\n",
    "        int x = 990;\n",
    "        float y = 36.98f;\n",
    "        double w = 556.090930;\n",
    "        double z;\n",
    "        String avg, navg;\n",
    "        //To control output\n",
    "        boolean displayavg = false;\n",
    "\n",
    "        z = (x+y+w)/3;\n",
    "\n",
    "        //To display result in human language\n",
    "        avg = \"The average of some three numbers is \"+z;\n",
    "        navg = \"Average cannot be computed\";\n",
    "        if (!displayavg)\n",
    "            System.out.print(avg);\n",
    "        else \n",
    "            System.out.print(navg);\n",
    "\n",
    "    }\n",
    "   \n",
    "    \n",
    "}\n",
    "\n",
    "DefineNewprg.main(null)"
   ]
  },
  {
   "cell_type": "code",
   "execution_count": 29,
   "metadata": {},
   "outputs": [
    {
     "name": "stdout",
     "output_type": "stream",
     "text": [
      "Average cannot be computed"
     ]
    }
   ],
   "source": [
    "//This demonstrates the average of three different primitive data types\n",
    "public class DefineNewprg{\n",
    "    public static void main(String[] args) {\n",
    "        int x = 990;\n",
    "        float y = 36.98f;\n",
    "        double w = 556.090930;\n",
    "        double z;\n",
    "        String avg, navg;\n",
    "        //To control output\n",
    "        boolean displayavg = false;\n",
    "\n",
    "        z = (x+y+w)/3;\n",
    "\n",
    "        //To display result in human language\n",
    "        avg = \"The average of some three numbers is \"+z;\n",
    "        navg = \"Average cannot be computed\";\n",
    "        if (displayavg)\n",
    "            System.out.print(avg);\n",
    "        else \n",
    "            System.out.print(navg);\n",
    "\n",
    "    }\n",
    "   \n",
    "    \n",
    "}\n",
    "\n",
    "DefineNewprg.main(null)"
   ]
  },
  {
   "cell_type": "code",
   "execution_count": 27,
   "metadata": {},
   "outputs": [
    {
     "name": "stdout",
     "output_type": "stream",
     "text": [
      "Celsius<->Farenheit conversion\n",
      "Enter celsius:21.0\n",
      "In Farenheit:69.80000000000001\n",
      "Enter farenheit:90.0\n",
      "In Celsius:32.22222222222222\n"
     ]
    }
   ],
   "source": [
    "import java.util.Scanner;\n",
    "\n",
    "public class Conversion{\n",
    "    public static void main(String[] args) {\n",
    "        Scanner input,input2;\n",
    "        String beh=\"Celsius<->Farenheit conversion\";\n",
    "        double celsius, faren, celsius2, faren2;\n",
    "\n",
    "        System.out.println(beh);\n",
    "        \n",
    "\n",
    "        \n",
    "        input = new Scanner(System.in);\n",
    "        System.out.print(\"Enter celsius:\");\n",
    "        celsius = input.nextFloat();\n",
    "        faren =(celsius * 1.8) +32;\n",
    "        System.out.println(celsius);\n",
    "        System.out.println(\"In Farenheit:\"+faren);\n",
    "\n",
    "        input2 = new Scanner(System.in);\n",
    "        System.out.print(\"Enter farenheit:\");\n",
    "        faren2 = input2.nextFloat();\n",
    "        celsius2 =(faren2-32)*5/9;\n",
    "        System.out.println(faren2);\n",
    "        System.out.println(\"In Celsius:\"+celsius2);\n",
    "        \n",
    "        \n",
    "        \n",
    "\n",
    "\n",
    "\n",
    "    }\n",
    "}\n",
    "Conversion.main(null)"
   ]
  },
  {
   "cell_type": "code",
   "execution_count": 1,
   "metadata": {},
   "outputs": [
    {
     "name": "stdout",
     "output_type": "stream",
     "text": [
      "Wrapper Classs Integer with value 10\n"
     ]
    }
   ],
   "source": [
    "public class WrapperClass{\n",
    "    public static void main(String[] args)\n",
    "    {\n",
    "        int val=10;\n",
    "        Integer integer = new Integer(val);\n",
    "\n",
    "        int res = integer.intValue();\n",
    "        System.out.println(\"Wrapper Classs Integer with value \"+res);\n",
    "    }\n",
    "}\n",
    "\n",
    "WrapperClass.main(null)"
   ]
  }
 ],
 "metadata": {
  "kernelspec": {
   "display_name": "Java",
   "language": "java",
   "name": "java"
  },
  "language_info": {
   "codemirror_mode": "java",
   "file_extension": ".jshell",
   "mimetype": "text/x-java-source",
   "name": "java",
   "pygments_lexer": "java",
   "version": "11.0.16+8-post-Ubuntu-0ubuntu120.04"
  },
  "orig_nbformat": 4
 },
 "nbformat": 4,
 "nbformat_minor": 2
}
