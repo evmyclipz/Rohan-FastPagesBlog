{
 "cells": [
  {
   "cell_type": "markdown",
   "metadata": {},
   "source": [
    "# Fastpages Notebook Blog My Java Post\n",
    "> Fastpage for Jupyter notebook with Java.\n"
   ]
  },
  {
   "cell_type": "code",
   "execution_count": 1,
   "metadata": {},
   "outputs": [
    {
     "name": "stdout",
     "output_type": "stream",
     "text": [
      "Hello World\n"
     ]
    }
   ],
   "source": [
    "String msg = \"Hello World\";\n",
    "System.out.println(msg);"
   ]
  },
  {
   "cell_type": "code",
   "execution_count": 18,
   "metadata": {},
   "outputs": [
    {
     "name": "stdout",
     "output_type": "stream",
     "text": [
      "The Sum of 990 and 39.89 is 1029.8900146484375\n",
      "Flag with value true is of type boolean Primitive data type\n"
     ]
    }
   ],
   "source": [
    "public class DefinePrimitives {\n",
    "    public static void main(String[] args) {\n",
    "        int x= 990;\n",
    "        float y= 39.89f;\n",
    "        double z;\n",
    "        boolean flag=true;\n",
    "\n",
    "        z= x + y;\n",
    "\n",
    "        String str = \"The Sum of \"+x+\" and \"+y+\" is \"+z;\n",
    "         \n",
    "        System.out.println(str);\n",
    "\n",
    "        str = \"Flag with value \"+flag+\" is of type boolean Primitive data type\";\n",
    "\n",
    "        System.out.println(str);\n",
    "        \n",
    "    }\n",
    "}\n",
    "\n",
    "DefinePrimitives.main(null)"
   ]
  }
 ],
 "metadata": {
  "kernelspec": {
   "display_name": "Java",
   "language": "java",
   "name": "java"
  },
  "language_info": {
   "codemirror_mode": "java",
   "file_extension": ".jshell",
   "mimetype": "text/x-java-source",
   "name": "java",
   "pygments_lexer": "java",
   "version": "11.0.16+8-post-Ubuntu-0ubuntu120.04"
  },
  "orig_nbformat": 4
 },
 "nbformat": 4,
 "nbformat_minor": 2
}
