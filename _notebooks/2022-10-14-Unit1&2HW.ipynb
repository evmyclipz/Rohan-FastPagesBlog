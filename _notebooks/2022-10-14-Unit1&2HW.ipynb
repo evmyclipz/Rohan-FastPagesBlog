{
 "cells": [
  {
   "cell_type": "markdown",
   "metadata": {},
   "source": [
    "# Unit 1 & 2 homework\n",
    "\n",
    "- title: Unit 1 & 2 homework\n",
    "- toc: true \n",
    "- badges: true\n",
    "- comments: true\n",
    "- categories: [jupyter]"
   ]
  },
  {
   "cell_type": "markdown",
   "metadata": {},
   "source": [
    "### Unit 2"
   ]
  },
  {
   "cell_type": "code",
   "execution_count": 1,
   "metadata": {},
   "outputs": [],
   "source": [
    "public class Goblin {\n",
    "    private String name;\n",
    "    private int HP;\n",
    "    private int DMG;\n",
    "    private double hitChance;\n",
    "\n",
    "    public String getName() {\n",
    "        return name;\n",
    "    }\n",
    "\n",
    "    public int getHP() {\n",
    "        return HP;\n",
    "    }\n",
    "\n",
    "    public int getDMG() {\n",
    "        return DMG;\n",
    "    }\n",
    "\n",
    "    public double getHitChance() {\n",
    "        return hitChance;\n",
    "    }\n",
    "\n",
    "    public boolean isAlive() {\n",
    "        if (this.HP > 0) {\n",
    "            return true;\n",
    "        } else {\n",
    "            return false;\n",
    "        }\n",
    "    }\n",
    "\n",
    "    public void setName(String newName) {\n",
    "        this.name = newName;\n",
    "    }\n",
    "\n",
    "    public void setHP(int newHP) {\n",
    "        this.HP = newHP;\n",
    "    }\n",
    "\n",
    "    public void takeDMG(int takenDamage) {\n",
    "        this.HP -= takenDamage;\n",
    "    }\n",
    "\n",
    "    public void setDMG(int newDMG) {\n",
    "        this.DMG = newDMG;\n",
    "    }\n",
    "\n",
    "    public void setHitChance(double newHitChance) {\n",
    "        \n",
    "        this.hitChance = newHitChance;\n",
    "    }\n",
    "}"
   ]
  },
  {
   "cell_type": "code",
   "execution_count": 2,
   "metadata": {},
   "outputs": [
    {
     "name": "stdout",
     "output_type": "stream",
     "text": [
      "Missed\n",
      "Missed\n",
      "Hit\n",
      "jeffrey takes 1 damage\n",
      "jeffrey HP: 11\n",
      "Hit\n",
      "Gunther the great takes 2 damage\n",
      "Gunther the great HP: 2\n",
      "Hit\n",
      "jeffrey takes 1 damage\n",
      "jeffrey HP: 10\n",
      "Missed\n",
      "Hit\n",
      "Gunther the great takes 2 damage\n",
      "Gunther the great HP: 0\n",
      "Gunther the great has perished\n"
     ]
    }
   ],
   "source": [
    "import java.util.Random;\n",
    "public class Duel {\n",
    "\n",
    "    \n",
    "    public static void fight(Goblin goblin1, Goblin goblin2) {\n",
    "        while (goblin1.isAlive() && goblin2.isAlive()) {\n",
    "            for(int i=0; i < 15; i++)\n",
    "            {\n",
    "                Random x = new Random();\n",
    "                double rand = x.nextDouble();\n",
    "                if (rand < goblin1.getHitChance()) {\n",
    "                    System.out.println(\"Missed\");\n",
    "                }\n",
    "                else {\n",
    "                    System.out.println(\"Hit\");\n",
    "                    break;\n",
    "                }\n",
    "            }\n",
    "            goblin1.takeDMG(goblin2.getDMG());\n",
    "            System.out.println(goblin1.getName() + \" takes \" + goblin2.getDMG() + \" damage\");\n",
    "            System.out.println(goblin1.getName() + \" HP: \" + goblin1.getHP());\n",
    "\n",
    "            if (!goblin1.isAlive()) {\n",
    "                System.out.println(goblin1.getName() + \" has perished\");\n",
    "                break;\n",
    "            }\n",
    "            for(int i=0; i < 15; i++)\n",
    "            {\n",
    "                Random x = new Random();\n",
    "                double rand = x.nextDouble();\n",
    "                if (rand < goblin1.getHitChance()) {\n",
    "                    System.out.println(\"Missed\");\n",
    "                }\n",
    "                else {\n",
    "                    System.out.println(\"Hit\");\n",
    "                    break;\n",
    "                }\n",
    "            }\n",
    "\n",
    "            goblin2.takeDMG(goblin1.getDMG());\n",
    "            System.out.println(goblin2.getName() + \" takes \" + goblin1.getDMG() + \" damage\");\n",
    "            System.out.println(goblin2.getName() + \" HP: \" + goblin2.getHP());\n",
    "\n",
    "            if (!goblin2.isAlive()) {\n",
    "                System.out.println(goblin2.getName() + \" has perished\");\n",
    "                break;\n",
    "            }\n",
    "        }\n",
    "    }\n",
    "\n",
    "    public static void main(String[] args) {\n",
    "        Goblin goblin1 = new Goblin();\n",
    "        goblin1.setName(\"jeffrey\");\n",
    "        goblin1.setHP(12);\n",
    "        goblin1.setDMG(2);\n",
    "        goblin1.setHitChance(0.50);\n",
    "        \n",
    "        Goblin goblin2 = new Goblin();\n",
    "        goblin2.setName(\"Gunther the great\");\n",
    "        goblin2.setHP(4);\n",
    "        goblin2.setDMG(1);\n",
    "        goblin2.setHitChance(0.50);\n",
    "        \n",
    "        \n",
    "        fight(goblin1, goblin2);\n",
    "    }\n",
    "}\n",
    "\n",
    "Duel.main(null);"
   ]
  },
  {
   "cell_type": "markdown",
   "metadata": {},
   "source": [
    "### Unit 1"
   ]
  },
  {
   "cell_type": "markdown",
   "metadata": {},
   "source": [
    "#### 2006 2a and 3a"
   ]
  },
  {
   "cell_type": "code",
   "execution_count": null,
   "metadata": {},
   "outputs": [],
   "source": [
    "private double purchasePrice() {\n",
    "    double x = this.getListPrice()*(1+rate);\n",
    "    return x;\n",
    "}"
   ]
  },
  {
   "cell_type": "code",
   "execution_count": null,
   "metadata": {},
   "outputs": [],
   "source": [
    "public int compareCustomer(Customer Other) {\n",
    "    if(getName().compareTo(other.getName()) != 0){\n",
    "        if(getName().compareTo(other.getName()) > 0) {\n",
    "            return 1;\n",
    "        } \n",
    "        else if (getName().compareTo(other.getName()) < 0) {\n",
    "            return -1;\n",
    "        }\n",
    "    }\n",
    "    else {\n",
    "        if (getID() > other.getID()) {\n",
    "            return 1;\n",
    "        }\n",
    "        else if(getID() < other.getID()) {\n",
    "            return -1;\n",
    "        }\n",
    "        else {\n",
    "            return 0;\n",
    "        }\n",
    "    }\n",
    "}"
   ]
  },
  {
   "cell_type": "code",
   "execution_count": 18,
   "metadata": {},
   "outputs": [
    {
     "name": "stdout",
     "output_type": "stream",
     "text": [
      "true\n",
      "114\n"
     ]
    }
   ],
   "source": [
    "String s1 = \"Rohan\";\n",
    "System.out.println(s1.equalsIgnoreCase(\"rohan\"));\n",
    "char ch = 'r';\n",
    "int x = ch;\n",
    "System.out.println(x);"
   ]
  },
  {
   "cell_type": "markdown",
   "metadata": {},
   "source": [
    "### Problem\n",
    "\n",
    "* I didn't know we had to use compareTo function to compare the names so, initially just did getName for this customer and other customer, but after looking at the scoring guide, I looked up the compareTo function online and implemented it."
   ]
  }
 ],
 "metadata": {
  "kernelspec": {
   "display_name": "Java",
   "language": "java",
   "name": "java"
  },
  "language_info": {
   "codemirror_mode": "java",
   "file_extension": ".jshell",
   "mimetype": "text/x-java-source",
   "name": "java",
   "pygments_lexer": "java",
   "version": "3.9.12 (main, Apr  5 2022, 06:56:58) \n[GCC 7.5.0]"
  },
  "orig_nbformat": 4,
  "vscode": {
   "interpreter": {
    "hash": "e5fac65c297e042e477f193dd578cca6f2bb3fa0ab7e11b01d43ef300f56e9d1"
   }
  }
 },
 "nbformat": 4,
 "nbformat_minor": 2
}
