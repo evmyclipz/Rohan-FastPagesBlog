{
 "cells": [
  {
   "cell_type": "markdown",
   "metadata": {},
   "source": [
    "# Unit 1 & 2 homework\n",
    "\n",
    "- title: Unit 1 & 2 homework\n",
    "- toc: true \n",
    "- badges: true\n",
    "- comments: true\n",
    "- categories: [jupyter]"
   ]
  },
  {
   "cell_type": "code",
   "execution_count": 2,
   "metadata": {},
   "outputs": [],
   "source": [
    "public class Goblin {\n",
    "    private String name;\n",
    "    private int HP;\n",
    "    private int DMG;\n",
    "    private double hitChance;\n",
    "\n",
    "    public String getName() {\n",
    "        return name;\n",
    "    }\n",
    "\n",
    "    public int getHP() {\n",
    "        return HP;\n",
    "    }\n",
    "\n",
    "    public int getDMG() {\n",
    "        return DMG;\n",
    "    }\n",
    "\n",
    "    public double getHitChance() {\n",
    "        return hitChance;\n",
    "    }\n",
    "\n",
    "    public boolean isAlive() {\n",
    "        if (this.HP > 0) {\n",
    "            return true;\n",
    "        } else {\n",
    "            return false;\n",
    "        }\n",
    "    }\n",
    "\n",
    "    public void setName(String newName) {\n",
    "        this.name = newName;\n",
    "    }\n",
    "\n",
    "    public void setHP(int newHP) {\n",
    "        this.HP = newHP;\n",
    "    }\n",
    "\n",
    "    public void takeDMG(int takenDamage) {\n",
    "        this.HP -= takenDamage;\n",
    "    }\n",
    "\n",
    "    public void setDMG(int newDMG) {\n",
    "        this.DMG = newDMG;\n",
    "    }\n",
    "\n",
    "    public void setHitChance(double newHitChance) {\n",
    "        \n",
    "        this.hitChance = newHitChance;\n",
    "    }\n",
    "}"
   ]
  },
  {
   "cell_type": "code",
   "execution_count": 26,
   "metadata": {},
   "outputs": [
    {
     "name": "stdout",
     "output_type": "stream",
     "text": [
      "Missed\n",
      "Hit\n",
      "jeffrey takes 1 damage\n",
      "jeffrey HP: 11\n",
      "Gunther the great takes 2 damage\n",
      "Gunther the great HP: 2\n",
      "Hit\n",
      "jeffrey takes 1 damage\n",
      "jeffrey HP: 10\n",
      "Gunther the great takes 2 damage\n",
      "Gunther the great HP: 0\n",
      "Gunther the great has perished\n"
     ]
    }
   ],
   "source": [
    "import java.util.Random;\n",
    "public class Duel {\n",
    "\n",
    "    \n",
    "    public static void fight(Goblin goblin1, Goblin goblin2) {\n",
    "        while (goblin1.isAlive() && goblin2.isAlive()) {\n",
    "            for(int i=0; i < 15; i++)\n",
    "            {\n",
    "                Random x = new Random();\n",
    "                double rand = x.nextDouble();\n",
    "                if (rand < goblin1.getHitChance()) {\n",
    "                    System.out.println(\"Missed\");\n",
    "                }\n",
    "                else {\n",
    "                    System.out.println(\"Hit\");\n",
    "                    break;\n",
    "                }\n",
    "            }\n",
    "            goblin1.takeDMG(goblin2.getDMG());\n",
    "            System.out.println(goblin1.getName() + \" takes \" + goblin2.getDMG() + \" damage\");\n",
    "            System.out.println(goblin1.getName() + \" HP: \" + goblin1.getHP());\n",
    "\n",
    "            if (!goblin1.isAlive()) {\n",
    "                System.out.println(goblin1.getName() + \" has perished\");\n",
    "                break;\n",
    "            }\n",
    "\n",
    "            goblin2.takeDMG(goblin1.getDMG());\n",
    "            System.out.println(goblin2.getName() + \" takes \" + goblin1.getDMG() + \" damage\");\n",
    "            System.out.println(goblin2.getName() + \" HP: \" + goblin2.getHP());\n",
    "\n",
    "            if (!goblin2.isAlive()) {\n",
    "                System.out.println(goblin2.getName() + \" has perished\");\n",
    "                break;\n",
    "            }\n",
    "        }\n",
    "    }\n",
    "\n",
    "    public static void main(String[] args) {\n",
    "        Goblin goblin1 = new Goblin();\n",
    "        goblin1.setName(\"jeffrey\");\n",
    "        goblin1.setHP(12);\n",
    "        goblin1.setDMG(2);\n",
    "        goblin1.setHitChance(0.50);\n",
    "        \n",
    "        Goblin goblin2 = new Goblin();\n",
    "        goblin2.setName(\"Gunther the great\");\n",
    "        goblin2.setHP(4);\n",
    "        goblin2.setDMG(1);\n",
    "        goblin2.setHitChance(0.50);\n",
    "        \n",
    "        \n",
    "        fight(goblin1, goblin2);\n",
    "    }\n",
    "}\n",
    "\n",
    "Duel.main(null);"
   ]
  },
  {
   "cell_type": "code",
   "execution_count": 46,
   "metadata": {},
   "outputs": [
    {
     "name": "stdout",
     "output_type": "stream",
     "text": [
      "0.3137690801795574"
     ]
    }
   ],
   "source": [
    "import java.util.Random;\n",
    "\n",
    "Random x = new Random();\n",
    "//int up = 1;\n",
    "double rand = x.nextDouble();\n",
    "System.out.print(rand);"
   ]
  },
  {
   "cell_type": "code",
   "execution_count": 45,
   "metadata": {},
   "outputs": [
    {
     "name": "stdout",
     "output_type": "stream",
     "text": [
      "Random integer value from 0 to24 : 8\n",
      "Random float value between 0.0 and 1.0 : 0.07085866\n",
      "Random double value between 0.0 and 1.0 : 0.38681485489204626\n"
     ]
    }
   ],
   "source": [
    "import java.util.Random;\n",
    "class GenerateRandom {\n",
    "    public static void main( String args[] ) {\n",
    "      Random rand = new Random(); //instance of random class\n",
    "      int upperbound = 25;\n",
    "        //generate random values from 0-24\n",
    "      int int_random = rand.nextInt(upperbound); \n",
    "      double double_random=rand.nextDouble();\n",
    "      float float_random=rand.nextFloat();\n",
    "      \n",
    "      System.out.println(\"Random integer value from 0 to\" + (upperbound-1) + \" : \"+ int_random);\n",
    "      System.out.println(\"Random float value between 0.0 and 1.0 : \"+float_random);\n",
    "      System.out.println(\"Random double value between 0.0 and 1.0 : \"+double_random);\n",
    "    }\n",
    "}\n",
    "GenerateRandom.main(null)"
   ]
  }
 ],
 "metadata": {
  "kernelspec": {
   "display_name": "Java",
   "language": "java",
   "name": "java"
  },
  "language_info": {
   "codemirror_mode": "java",
   "file_extension": ".jshell",
   "mimetype": "text/x-java-source",
   "name": "java",
   "pygments_lexer": "java",
   "version": "11.0.16+8-post-Ubuntu-0ubuntu120.04"
  },
  "orig_nbformat": 4
 },
 "nbformat": 4,
 "nbformat_minor": 2
}
