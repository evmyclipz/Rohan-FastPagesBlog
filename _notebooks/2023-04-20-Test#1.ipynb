{
 "cells": [
  {
   "attachments": {},
   "cell_type": "markdown",
   "metadata": {},
   "source": [
    "# Test #1\n",
    "  \n",
    "- title: Test #1\n",
    "- toc: true \n",
    "- badges: true\n",
    "- comments: true\n",
    "- categories: [jupyter]"
   ]
  },
  {
   "attachments": {},
   "cell_type": "markdown",
   "metadata": {},
   "source": [
    "### Part 1"
   ]
  },
  {
   "cell_type": "code",
   "execution_count": 3,
   "metadata": {
    "vscode": {
     "languageId": "java"
    }
   },
   "outputs": [
    {
     "name": "stdout",
     "output_type": "stream",
     "text": [
      "Title: Percy Jackson\n",
      "Title: Harry Potter\n",
      "2\n"
     ]
    }
   ],
   "source": [
    "import java.time.LocalDateTime;\n",
    "\n",
    "public class Book {\n",
    "    \n",
    "    //unique id\n",
    "    long id;\n",
    "    String title;\n",
    "    static int bookCount = 0;\n",
    "    \n",
    "    public Book(String title) {\n",
    "        this.title = title;\n",
    "    }\n",
    "\n",
    "   \n",
    "    public String toString() {\n",
    "        return \"Title: \"+title;\n",
    "    }\n",
    "\n",
    "    public static int getBookCount() {\n",
    "        return bookCount;\n",
    "    }\n",
    "\n",
    "    public long getShelfLife() {\n",
    "        LocalDateTime currentTime = LocalDateTime.now();\n",
    "        long shelfLife = ChronoUnit.DAYS.between(datePublished, currentTime);\n",
    "        return shelfLife\n",
    "    }\n",
    "     \n",
    "    public static void main(String[] args) {\n",
    "        Book book1 = new Book(\"Percy Jackson\");\n",
    "        bookCount++;\n",
    "        Book book2 = new Book(\"Harry Potter\");\n",
    "        bookCount++;\n",
    "\n",
    "        System.out.println(book1);\n",
    "        System.out.println(book2);\n",
    "\n",
    "        System.out.println(getBookCount());\n",
    "    }\n",
    "    \n",
    "}\n",
    "Book.main(null)"
   ]
  },
  {
   "attachments": {},
   "cell_type": "markdown",
   "metadata": {},
   "source": [
    "### Part 2"
   ]
  },
  {
   "cell_type": "code",
   "execution_count": 6,
   "metadata": {
    "vscode": {
     "languageId": "java"
    }
   },
   "outputs": [
    {
     "name": "stdout",
     "output_type": "stream",
     "text": [
      "Title: Global Survival\n"
     ]
    }
   ],
   "source": [
    "public class Novel extends Book {\n",
    "\n",
    "    String author;\n",
    "\n",
    "    public Novel(String title) {\n",
    "        super(title);\n",
    "    }\n",
    "\n",
    "    public void setAuthor(String author) {\n",
    "        this.author = author;\n",
    "    }\n",
    "\n",
    "    public String getAuthor() {\n",
    "        return author;\n",
    "    }\n",
    "\n",
    "    public static void main(String[] args) {\n",
    "        Novel novel1 = new Novel(\"Global Survival\");\n",
    "\n",
    "        System.out.println(novel1);\n",
    "    }\n",
    "}\n",
    "Novel.main(null)"
   ]
  },
  {
   "cell_type": "code",
   "execution_count": 8,
   "metadata": {
    "vscode": {
     "languageId": "java"
    }
   },
   "outputs": [
    {
     "name": "stdout",
     "output_type": "stream",
     "text": [
      "Title: Physics 101\n"
     ]
    }
   ],
   "source": [
    "public class Textbook extends Book {\n",
    "\n",
    "    String pubComp;\n",
    "\n",
    "    public Textbook(String title) {\n",
    "        super(title);\n",
    "    }\n",
    "\n",
    "    public void setPubComp(String pubComp) {\n",
    "        this.pubComp = pubComp;\n",
    "    }\n",
    "\n",
    "    public String getPubComp() {\n",
    "        return pubComp;\n",
    "    }\n",
    "\n",
    "    public static void main(String[] args) {\n",
    "        Textbook Textbook1 = new Textbook(\"Physics 101\");\n",
    "\n",
    "        System.out.println(Textbook1);\n",
    "    }\n",
    "    \n",
    "}\n",
    "Textbook.main(null)\n"
   ]
  }
 ],
 "metadata": {
  "kernelspec": {
   "display_name": "Java",
   "language": "java",
   "name": "java"
  },
  "language_info": {
   "codemirror_mode": "java",
   "file_extension": ".jshell",
   "mimetype": "text/x-java-source",
   "name": "Java",
   "pygments_lexer": "java",
   "version": "17.0.5+8-Ubuntu-2ubuntu120.04"
  },
  "orig_nbformat": 4
 },
 "nbformat": 4,
 "nbformat_minor": 2
}
