{
 "cells": [
  {
   "attachments": {},
   "cell_type": "markdown",
   "metadata": {},
   "source": [
    "# Test #1\n",
    "  \n",
    "- title: Test #1\n",
    "- toc: true \n",
    "- badges: true\n",
    "- comments: true\n",
    "- categories: [jupyter]"
   ]
  },
  {
   "attachments": {},
   "cell_type": "markdown",
   "metadata": {},
   "source": [
    "### Part 1"
   ]
  },
  {
   "cell_type": "code",
   "execution_count": 27,
   "metadata": {},
   "outputs": [
    {
     "name": "stdout",
     "output_type": "stream",
     "text": [
      "Percy Jackson\n",
      "Harry Potter\n",
      "13\n"
     ]
    }
   ],
   "source": [
    "import java.time.LocalDateTime;\n",
    "\n",
    "public class Book {\n",
    "    \n",
    "    //unique id\n",
    "    long id;\n",
    "    String title;\n",
    "    static int bookCount = 0;\n",
    "    static long startTime;\n",
    "    static ArrayList<Book> library = new ArrayList<Book>();\n",
    "    \n",
    "    public Book(String title) {\n",
    "        startTime = System.nanoTime();\n",
    "        this.title = title;\n",
    "        bookCount++;\n",
    "        library.add()\n",
    "    }\n",
    "   \n",
    "    public String toString() {\n",
    "        return title;\n",
    "    }\n",
    "\n",
    "    public static int getBookCount() {\n",
    "        return bookCount;\n",
    "    }\n",
    "     \n",
    "    public static void main(String[] args) {\n",
    "        Book book1 = new Book(\"Percy Jackson\");\n",
    "        Book book2 = new Book(\"Harry Potter\");\n",
    "\n",
    "\n",
    "        System.out.println(book1);\n",
    "        System.out.println(book2);\n",
    "\n",
    "        System.out.println(getBookCount());\n",
    "    }\n",
    "    \n",
    "}\n",
    "Book.main(null)"
   ]
  },
  {
   "attachments": {},
   "cell_type": "markdown",
   "metadata": {},
   "source": [
    "### Part 2"
   ]
  },
  {
   "cell_type": "code",
   "execution_count": 32,
   "metadata": {},
   "outputs": [
    {
     "name": "stdout",
     "output_type": "stream",
     "text": [
      "Barron's Computer Science A\n",
      "Angels and Demons\n",
      "Lion, Witch, and a Wardrobe\n",
      "The Da Vincii Code, Dan Brown\n",
      "Prinde and Prejudice, Jane Austen\n",
      "e=MC^2 a Biography, Pan Books (January 1, 2001)\n",
      "The Practice of Programming, Addison-Wesley Professional Computing\n",
      "34\n",
      "ShelfLife of Angels and Demons: 1495900ns\n"
     ]
    }
   ],
   "source": [
    "import java.lang.Math;\n",
    "\n",
    "public class Novel extends Book {\n",
    "\n",
    "    String author;\n",
    "\n",
    "    public Novel(String title) {\n",
    "        super(title);\n",
    "    }\n",
    "\n",
    "    public void setAuthor(String author) {\n",
    "        this.author = author;\n",
    "    }\n",
    "\n",
    "    public String getAuthor() {\n",
    "        return author;\n",
    "    }\n",
    "\n",
    "    public static long getShelfLife() {\n",
    "        long endTime = System.nanoTime();\n",
    "        long elapsedTime = Math.abs(startTime - endTime);\n",
    "        return elapsedTime;\n",
    "    }\n",
    "\n",
    "    public static void main(String[] args) { \n",
    "        Novel novel1 = new Novel(\"Barron's Computer Science A\");\n",
    "        Novel novel2 = new Novel(\"Angels and Demons\");\n",
    "        Novel novel3 = new Novel(\"Lion, Witch, and a Wardrobe\");\n",
    "        Novel novel4 = new Novel(\"The Da Vincii Code, Dan Brown\");\n",
    "        Novel novel5 = new Novel(\"Prinde and Prejudice, Jane Austen\");\n",
    "        Novel novel6 = new Novel(\"e=MC^2 a Biography, Pan Books (January 1, 2001)\");\n",
    "        Novel novel7 = new Novel(\"The Practice of Programming, Addison-Wesley Professional Computing\");\n",
    "        \n",
    "        System.out.println(novel1);\n",
    "        System.out.println(novel2);\n",
    "        System.out.println(novel3);\n",
    "        System.out.println(novel4);\n",
    "        System.out.println(novel5);\n",
    "        System.out.println(novel6);\n",
    "        System.out.println(novel7);\n",
    "\n",
    "        System.out.println(getBookCount());\n",
    "\n",
    "        System.out.println(\"ShelfLife of \"+novel2+\": \"+ novel2.getShelfLife()+\"ns\");\n",
    "        \n",
    "    }\n",
    "}\n",
    "Novel.main(null)"
   ]
  },
  {
   "cell_type": "code",
   "execution_count": 8,
   "metadata": {},
   "outputs": [
    {
     "name": "stdout",
     "output_type": "stream",
     "text": [
      "Title: Physics 101\n"
     ]
    }
   ],
   "source": [
    "import java.lang.Math;\n",
    "\n",
    "public class Textbook extends Book {\n",
    "\n",
    "    String pubComp;\n",
    "\n",
    "    public Textbook(String title) {\n",
    "        super(title);\n",
    "    }\n",
    "\n",
    "    public void setPubComp(String pubComp) {\n",
    "        this.pubComp = pubComp;\n",
    "    }\n",
    "\n",
    "    public String getPubComp() {\n",
    "        return pubComp;\n",
    "    }\n",
    "\n",
    "    public static long getShelfLife() {\n",
    "        long endTime = System.nanoTime();\n",
    "        long elapsedTime = Math.abs(startTime - endTime);\n",
    "        return elapsedTime;\n",
    "    }\n",
    "\n",
    "    public static void main(String[] args) {\n",
    "        Textbook Textbook1 = new Textbook(\"Physics 101\");\n",
    "\n",
    "        System.out.println(Textbook1);\n",
    "    }\n",
    "    \n",
    "}\n",
    "Textbook.main(null)\n"
   ]
  }
 ],
 "metadata": {
  "kernelspec": {
   "display_name": "Java",
   "language": "java",
   "name": "java"
  },
  "language_info": {
   "codemirror_mode": "java",
   "file_extension": ".jshell",
   "mimetype": "text/x-java-source",
   "name": "java",
   "pygments_lexer": "java",
   "version": "17.0.5+8-Ubuntu-2ubuntu120.04"
  },
  "orig_nbformat": 4
 },
 "nbformat": 4,
 "nbformat_minor": 2
}
