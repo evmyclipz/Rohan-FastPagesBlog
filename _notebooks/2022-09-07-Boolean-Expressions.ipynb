{
 "cells": [
  {
   "cell_type": "markdown",
   "metadata": {},
   "source": [
    "# Lesson on Boolean expressions "
   ]
  },
  {
   "cell_type": "markdown",
   "metadata": {},
   "source": [
    "# Covers:\n",
    "* If-else, if-elseif-else.\n",
    "* Simple Code using Boolean expressions.\n",
    "* chains of if-elseif-elseif-elseif-elseif-else.\n",
    "* Switches and exampe on Switches.\n",
    "* De Morgan's Law description and program example."
   ]
  },
  {
   "cell_type": "markdown",
   "metadata": {},
   "source": [
    "# 2 W's and 1 How of boolean expressions:\n",
    "\n",
    "* What?-if and else are conditional statements which execute upon fulfillment.\n",
    "* Why?-To give computer intelligence by teaching it decision making skills.\n",
    "* How?- In java, we write the if statement and then in parenthesis write a condition"
   ]
  },
  {
   "cell_type": "code",
   "execution_count": 7,
   "metadata": {
    "vscode": {
     "languageId": "java"
    }
   },
   "outputs": [
    {
     "name": "stdout",
     "output_type": "stream",
     "text": [
      "The world is flat\n",
      "The world is a sphere\n"
     ]
    }
   ],
   "source": [
    "boolean x = true ;\n",
    "if(x) {\n",
    "    System.out.println(\"The world is flat\");\n",
    "}\n",
    "else {\n",
    "    System.out.println(\"The world is a sphere\");\n",
    "}\n",
    "boolean x = !true ;\n",
    "if(x) {\n",
    "    System.out.println(\"The world is flat\");\n",
    "}\n",
    "else {\n",
    "    System.out.println(\"The world is a sphere\");\n",
    "}"
   ]
  }
 ],
 "metadata": {
  "kernelspec": {
   "display_name": "Java",
   "language": "java",
   "name": "java"
  },
  "language_info": {
   "codemirror_mode": "java",
   "file_extension": ".jshell",
   "mimetype": "text/x-java-source",
   "name": "Java",
   "pygments_lexer": "java",
   "version": "11.0.16+8-post-Ubuntu-0ubuntu120.04"
  },
  "orig_nbformat": 4
 },
 "nbformat": 4,
 "nbformat_minor": 2
}
