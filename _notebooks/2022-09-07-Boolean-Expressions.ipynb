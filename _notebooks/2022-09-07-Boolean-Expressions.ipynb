{
 "cells": [
  {
   "cell_type": "markdown",
   "metadata": {},
   "source": [
    "# Lesson on boolean expressions\n",
    "> A tutorial on various types of choices\n",
    "\n",
    "- toc: true \n",
    "- badges: true\n",
    "- comments: true\n",
    "- categories: [jupyter]\n",
    "- image: images/DeMorgan(1).png"
   ]
  },
  {
   "cell_type": "markdown",
   "metadata": {},
   "source": [
    "# Covers:\n",
    "* If-else and Simple Code using Boolean expressions.\n",
    "* chains of if-elseif-elseif-elseif-elseif-else.\n",
    "* Switches and exampe on Switches.\n",
    "* De Morgan's Law description and program example."
   ]
  },
  {
   "cell_type": "markdown",
   "metadata": {},
   "source": [
    "# 2 W's and 1 How of boolean expressions:\n",
    "\n",
    "* What?-if and else are conditional statements which execute upon fulfillment.\n",
    "* Why?-To give computer intelligence by teaching it decision making skills.\n",
    "* How?- In java, we write the if statement and then in parenthesis write a condition"
   ]
  },
  {
   "cell_type": "code",
   "execution_count": 7,
   "metadata": {
    "vscode": {
     "languageId": "java"
    }
   },
   "outputs": [
    {
     "name": "stdout",
     "output_type": "stream",
     "text": [
      "The world is flat\n",
      "The world is a sphere\n"
     ]
    }
   ],
   "source": [
    "boolean x = true ;//make the condition true to print if statement\n",
    "if(x) {\n",
    "    System.out.println(\"The world is flat\");\n",
    "}\n",
    "else {\n",
    "    System.out.println(\"The world is a sphere\");\n",
    "}\n",
    "//(!) operator to make it false\n",
    "boolean x = !true ;//make it false to print the else statement\n",
    "if(x) {\n",
    "    System.out.println(\"The world is flat\");\n",
    "}\n",
    "else {\n",
    "    System.out.println(\"The world is a sphere\");\n",
    "}"
   ]
  },
  {
   "cell_type": "markdown",
   "metadata": {},
   "source": [
    "# Chain of choices\n",
    "\n",
    "* Creation of a if-elseif-else chain lets you give the computer more than 2 choices to pick from, but remember only one can execute at a time.\n",
    "* Switch is another version of if-elseif-else chain that does the same function as described above.\n",
    "    * But, if one does not break out of switch, it will run all the cases."
   ]
  },
  {
   "cell_type": "code",
   "execution_count": 28,
   "metadata": {
    "vscode": {
     "languageId": "java"
    }
   },
   "outputs": [
    {
     "name": "stdout",
     "output_type": "stream",
     "text": [
      "Print your grade in CSA\n",
      "You FAIL!!!!!!!!!!!!!!!!!\n"
     ]
    }
   ],
   "source": [
    "import java.util.Scanner;\n",
    "public class Grade {\n",
    "\n",
    "    public static void main(String[] args) {\n",
    "        int g;\n",
    "        Scanner k = new Scanner(System.in);\n",
    "        System.out.println(\"Print your grade in CSA\");\n",
    "        g = k.nextInt();\n",
    "        //this is the start of the chain\n",
    "        if(g>90) { //the computer will pick its choice depending on user input. But only one choice.\n",
    "            System.out.println(\"You got A!!!!\");\n",
    "        }\n",
    "        else if(g>80&&g<90) { //checks if input is between 80 and 90\n",
    "            System.out.println(\"You got B(its okay)\");\n",
    "        }\n",
    "        else if(g>70&&g<80) { //checks if input is between 70 and 80\n",
    "            System.out.println(\"You got C(Its not okay)\");\n",
    "        }\n",
    "        else if(g>60&&g<70) { //checks if input is between 60 and 70\n",
    "            System.out.println(\"You got D(OH MY GOD)\");\n",
    "        }\n",
    "        else { //checks if input is below 60\n",
    "            System.out.println(\"You FAIL!!!!!!!!!!!!!!!!!\");\n",
    "        }\n",
    "\n",
    "    }\n",
    "}\n",
    "Grade.main(null)"
   ]
  },
  {
   "cell_type": "code",
   "execution_count": 16,
   "metadata": {
    "vscode": {
     "languageId": "java"
    }
   },
   "outputs": [
    {
     "name": "stdout",
     "output_type": "stream",
     "text": [
      "You got A!!!!\n"
     ]
    }
   ],
   "source": [
    "import java.util.Scanner;\n",
    "\n",
    "public class Grade {\n",
    "    public static void main(String[] args) {\n",
    "        int g,i;\n",
    "        Scanner k = new Scanner(System.in);\n",
    "        g = k.nextInt();\n",
    "        if(g>=90) { //the computer will pick its choice depending on user input. But only one choice.\n",
    "            i=1;\n",
    "        }\n",
    "        else if(g>=80&&g<90) { //checks if input is between 80 and 90 and gives case number\n",
    "            i=2;\n",
    "        }\n",
    "        else if(g>=70&&g<80) { //checks if input is between 70 and 80 and gives case number\n",
    "            i=3;\n",
    "        }\n",
    "        else if(g>=60&&g<70) { //checks if input is between 60 and 70 and gives case number\n",
    "            i=4;\n",
    "        }\n",
    "        else {  //checks if input is below 60 and gives case number\n",
    "            i=5;\n",
    "        }\n",
    "        // based on i value, one of the cases will run\n",
    "        switch(i) {\n",
    "            case 1: \n",
    "                System.out.println(\"You got A!!!!\");\n",
    "                break;\n",
    "            case 2:\n",
    "                System.out.println(\"You got B(its okay)\");\n",
    "                break;\n",
    "            case 3:\n",
    "                System.out.println(\"You got C(Its not okay\");\n",
    "                break;\n",
    "            case 4:\n",
    "                System.out.println(\"You got D(OH MY GOD\");\n",
    "                break;\n",
    "            default:\n",
    "                System.out.println(\"You got F!!!!!!!!!!!!!!!\");    \n",
    "\n",
    "        }\n",
    "\n",
    "    }\n",
    "}\n",
    "Grade.main(null)"
   ]
  },
  {
   "cell_type": "markdown",
   "metadata": {},
   "source": [
    "# De Morgan's Law\n",
    "Description: relates conjunction and disjunction by negating them\n",
    "\n",
    "Vocab to understand:\n",
    "1. +=Union/conjunction.\n",
    "2. *= intersection/disjunction\n",
    "3. (condition)'= opposite of condition"
   ]
  },
  {
   "cell_type": "markdown",
   "metadata": {},
   "source": [
    "![](my_icons/DeMorgan(1).png) "
   ]
  },
  {
   "cell_type": "markdown",
   "metadata": {},
   "source": [
    "De Morgan's Laws:\n",
    "1. A'+B'=(A*B)'\n",
    "2. (A+B)'=A'*B'"
   ]
  },
  {
   "cell_type": "code",
   "execution_count": 27,
   "metadata": {
    "vscode": {
     "languageId": "java"
    }
   },
   "outputs": [
    {
     "name": "stdout",
     "output_type": "stream",
     "text": [
      "The world is a cube\n",
      "The world is again a cube\n",
      "The world is a sphere\n",
      "The world is again a sphere\n"
     ]
    }
   ],
   "source": [
    "boolean a = false, b = false;\n",
    "if(a|b) {\n",
    "    System.out.print(\"The world is cylinder\");\n",
    "}\n",
    "if(!a|!b) { //1st law expression of the left hand side\n",
    "    System.out.println(\"The world is a cube\");\n",
    "}\n",
    "if(!(a&b)) { //1st law expression of the right hand side\n",
    "    System.out.println(\"The world is again a cube\");\n",
    "}\n",
    "if(!(a|b)) { //2nd Law expression of left hand side\n",
    "    System.out.println(\"The world is a sphere\");\n",
    "}\n",
    "if(!a&!b) { //2nd Law expression of right hand side\n",
    "    System.out.println(\"The world is again a sphere\");\n",
    "}"
   ]
  }
 ],
 "metadata": {
  "kernelspec": {
   "display_name": "Java",
   "language": "java",
   "name": "java"
  },
  "language_info": {
   "codemirror_mode": "java",
   "file_extension": ".jshell",
   "mimetype": "text/x-java-source",
   "name": "Java",
   "pygments_lexer": "java",
   "version": "11.0.16+8-post-Ubuntu-0ubuntu120.04"
  },
  "orig_nbformat": 4
 },
 "nbformat": 4,
 "nbformat_minor": 2
}
