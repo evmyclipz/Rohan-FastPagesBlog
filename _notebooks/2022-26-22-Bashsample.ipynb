{
 "cells": [
  {
   "cell_type": "markdown",
   "metadata": {},
   "source": [
    "# Making Directory and deleting stuff\n",
    "Clones reposoitary, deleted not needed files\n",
    "\n",
    "* toc:true\n",
    "* comments:true"
   ]
  },
  {
   "cell_type": "code",
   "execution_count": 3,
   "metadata": {
    "vscode": {
     "languageId": "shellscript"
    }
   },
   "outputs": [
    {
     "name": "stdout",
     "output_type": "stream",
     "text": [
      "Using conditional statement to create a project directory and project\n",
      "Directory /home/mrohan/vscode exists.\n",
      "Directory /home/mrohan/vscode/testRep does not exists... cloning https://github.com/evmyclipz/testRep.git\n",
      "Cloning into 'testRep'...\n",
      "remote: Enumerating objects: 66, done.\u001b[K\n",
      "remote: Counting objects: 100% (66/66), done.\u001b[K\n",
      "remote: Compressing objects: 100% (54/54), done.\u001b[K\n",
      "remote: Total 66 (delta 1), reused 48 (delta 1), pack-reused 0\u001b[K\n",
      "Unpacking objects: 100% (66/66), 389.53 KiB | 745.00 KiB/s, done.\n",
      "Directory /home/mrohan/vscode/testRep exists.\n"
     ]
    }
   ],
   "source": [
    "echo \"Using conditional statement to create a project directory and project\"\n",
    "\n",
    "# Variable section\n",
    "export project_dir=$HOME/vscode  # change vscode to different name to test git clone\n",
    "export project=$project_dir/testRep  # change APCSP to name of project from git clone\n",
    "export project_repo=\"https://github.com/evmyclipz/testRep.git\"  # change to project of choice\n",
    "\n",
    "cd ~    # start in home directory\n",
    "\n",
    "# Conditional block to make a project directory\n",
    "if [ ! -d $project_dir ]\n",
    "then \n",
    "    echo \"Directory $project_dir does not exists... makinng directory $project_dir\"\n",
    "    mkdir -p $project_dir\n",
    "fi\n",
    "echo \"Directory $project_dir exists.\" \n",
    "\n",
    "# Conditional block to git clone a project from project_repo\n",
    "if [ ! -d $project ]\n",
    "then\n",
    "    echo \"Directory $project does not exists... cloning $project_repo\"\n",
    "    cd $project_dir\n",
    "    git clone $project_repo\n",
    "    cd ~\n",
    "fi\n",
    "echo \"Directory $project exists.\" "
   ]
  },
  {
   "cell_type": "code",
   "execution_count": 2,
   "metadata": {
    "vscode": {
     "languageId": "shellscript"
    }
   },
   "outputs": [
    {
     "name": "stdout",
     "output_type": "stream",
     "text": [
      "Directory Exists\n",
      "Git Directory exists but I am removing files......\n",
      "rmdir: failed to remove '/home/mrohan/vscode/testRep/src': No such file or directory\n",
      "rmdir: failed to remove '/home/mrohan/vscode/testRep/volumes': No such file or directory\n",
      "Git Directory exists but I am removing it......\n",
      "rmdir: failed to remove '/home/mrohan/vscode/testRep': Directory not empty\n",
      "Directory does not exist\n"
     ]
    }
   ],
   "source": [
    "\n",
    "export project_dir=$HOME/vscode  # change vscode to different name to test git clone\n",
    "export project=$project_dir/testRep  # change APCSP to name of project from git clone\n",
    "export project_repo=\"https://github.com/evmyclipz/testRep.git\"  # change to project of choice\n",
    "\n",
    "cd ~\n",
    "\n",
    "if [ ! -d $project_dir ]\n",
    "then\n",
    "    echo \"Directory does not exist\"\n",
    "fi\n",
    "    echo \"Directory Exists\"\n",
    "\n",
    "if [ -d $project ]\n",
    "then\n",
    "    echo \"Git Directory exists but I am removing files......\"\n",
    "    rm -rf $project/*\n",
    "    rm -rf $project/src/*\n",
    "    rm -rf $project/volumes/*\n",
    "    rmdir -p $project/src\n",
    "    rmdir -p $project/volumes\n",
    "    echo \"Git Directory exists but I am removing it......\"\n",
    "    rmdir -p $project\n",
    "fi\n",
    "    echo  \"Directory does not exist\""
   ]
  }
 ],
 "metadata": {
  "kernelspec": {
   "display_name": "Bash",
   "language": "bash",
   "name": "bash"
  },
  "language_info": {
   "codemirror_mode": "shell",
   "file_extension": ".sh",
   "mimetype": "text/x-sh",
   "name": "bash"
  },
  "orig_nbformat": 4
 },
 "nbformat": 4,
 "nbformat_minor": 2
}
