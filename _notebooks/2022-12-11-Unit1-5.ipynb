{
 "cells": [
  {
   "attachments": {},
   "cell_type": "markdown",
   "metadata": {},
   "source": [
    "# Unit 1-5 Jupyter Notebooks\n",
    "> Lesson notes and code Unit 1-5 with vocab.\n",
    "\n",
    "- toc: true \n",
    "- badges: true\n",
    "- comments: true\n",
    "- categories: [jupyter]"
   ]
  },
  {
   "attachments": {},
   "cell_type": "markdown",
   "metadata": {},
   "source": [
    "### Find the average of three \n",
    "\n",
    "* Casting(division): (type) is used to convert into type.\n",
    "* Casting(trucated): I used the float value to round Double and int can be used to round long int.\n",
    "* Concatenation: The result displayed here is assigned to string. The double and floating point variable  are concatenated to string.\n",
    "* Wrapper Class: To convert String to integer."
   ]
  },
  {
   "cell_type": "code",
   "execution_count": 6,
   "metadata": {},
   "outputs": [
    {
     "name": "stdout",
     "output_type": "stream",
     "text": [
      "The average of some three numbers is 413.02273249999996 is truncated to 413.02274"
     ]
    }
   ],
   "source": [
    "//This demonstrates the average of three different primitive data types\n",
    "public class Example{\n",
    "    public static void main(String[] args) {\n",
    "        int x = 990;\n",
    "        String val=\"70\";\n",
    "        Integer a = Integer.parseInt(val); //Using Wrapper class\n",
    "        int y = 36;\n",
    "        double w = 556.090930;\n",
    "        double z;\n",
    "        float res;\n",
    "        String avg, navg;\n",
    "        //To control output\n",
    "        boolean displayavg = false;\n",
    "\n",
    "        z = (double)((x+y+w+a)/4); //Casting sum of of x,y,z divided by 3 for accuracy.\n",
    "        res=(float)z; //using casting for rounding big doubles.\n",
    "\n",
    "        //To display result in human language using concatenation operator '+' \n",
    "        avg = \"The average of some three numbers is \"+z+\" is truncated to \"+res; //concatenation\n",
    "        navg = \"Average cannot be computed\";\n",
    "        if (!displayavg)\n",
    "            System.out.print(avg);\n",
    "        else \n",
    "            System.out.print(navg);\n",
    "\n",
    "    }\n",
    "   \n",
    "    \n",
    "}\n",
    "\n",
    "Example.main(null)"
   ]
  },
  {
   "attachments": {},
   "cell_type": "markdown",
   "metadata": {},
   "source": [
    "#### Using Math.random\n"
   ]
  },
  {
   "cell_type": "code",
   "execution_count": null,
   "metadata": {},
   "outputs": [],
   "source": [
    "import java.lang.Math;\n",
    "class Level {\n",
    "    int score;\n",
    "    /** Returns true if the player reached the goal on this level and returns false otherwise */\n",
    "    public boolean goalReached() {\n",
    "        double x;\n",
    "        x = Math.random();\n",
    "        if(x>=0.5) {\n",
    "            return true;    \n",
    "        } \n",
    "        else {\n",
    "            return false;\n",
    "        }/* implementation not shown */ \n",
    "    }\n",
    "    /** Returns the number of points (a positive integer) recorded for this level */\n",
    "    public int getPoints() { \n",
    "        return score;\n",
    "    } \n",
    "    public void setPoints(int s) {\n",
    "        score = s;\n",
    "    }\n",
    "}\n",
    "public class Game {\n",
    "    private Level levelOne;\n",
    "    private Level levelTwo;\n",
    "    private Level levelThree;\n",
    "    /** Postcondition: All instance variables have been initialized. */\n",
    "\n",
    "    public Game()\n",
    "    {\n",
    "        levelOne = new Level();\n",
    "        levelTwo = new Level();\n",
    "        levelThree = new Level();\n",
    "        levelOne.setPoints(200);\n",
    "        levelTwo.setPoints(100);\n",
    "        levelThree.setPoints(500);\n",
    "    }\n",
    "    /** Returns true if this game is a bonus game and returns false otherwise */\n",
    "    public boolean isBonus()\n",
    "    {\n",
    "        double b;\n",
    "        b = Math.random();\n",
    "        if(b>=0.5) {\n",
    "            return true;\n",
    "        }\n",
    "        else {\n",
    "            return false;\n",
    "        }\n",
    "    }\n",
    "    /** Simulates the play of this Game (consisting of three levels) and updates all relevant\n",
    "    * game data\n",
    "    */\n",
    "    public void play()\n",
    "    { /* implementation not shown */ }\n",
    "    /** Returns the score earned in the most recently played game, as described in part (a) */\n",
    "\n",
    "    //public int playManyTimes(int num)\n",
    "    //{ /* to be implemented in part (b) */ }\n",
    "    // There may be instance variables, constructors, and methods that are not shown.\n",
    "    \n",
    "    //Simulates the play of num games and returns the highest score earned\n",
    "    public int getScore() {\n",
    "        int score = 0;\n",
    "        if (levelOne.goalReached()) {\n",
    "            score += levelOne.getPoints(); \n",
    "            if (levelTwo.goalReached()) {\n",
    "                score += levelTwo.getPoints();\n",
    "                if (levelThree.goalReached()) {\n",
    "                    score += levelThree.getPoints();\n",
    "                }\n",
    "                else {\n",
    "                    score = score;\n",
    "                }\n",
    "            }\n",
    "            else {\n",
    "                score = score;\n",
    "            }\n",
    "        } \n",
    "        else {\n",
    "            score = score;\n",
    "        }   \n",
    "\n",
    "        if (isBonus()) {\n",
    "            score = score * 3;\n",
    "        }\n",
    "        return score;\n",
    "    }\n",
    "    public static void main(String[] args) {\n",
    "        Game np = new Game();\n",
    "        System.out.println(\"Score returned \"+np.getScore());\n",
    "    }\n",
    "    \n",
    "\n",
    "\n",
    "}\n",
    "Game.main(null)\n"
   ]
  },
  {
   "attachments": {},
   "cell_type": "markdown",
   "metadata": {},
   "source": [
    "### Grades example for compound Boolean Expression\n",
    "\n",
    "* Uses && to check if input is between 2 numbers"
   ]
  },
  {
   "cell_type": "code",
   "execution_count": 8,
   "metadata": {},
   "outputs": [
    {
     "name": "stdout",
     "output_type": "stream",
     "text": [
      "Print your grade in CSA\n",
      "You got A!!!!\n"
     ]
    }
   ],
   "source": [
    "import java.util.Scanner;\n",
    "public class Grade {\n",
    "\n",
    "    public static void main(String[] args) {\n",
    "        int g;\n",
    "        Scanner k = new Scanner(System.in);\n",
    "        System.out.println(\"Print your grade in CSA\");\n",
    "        g = k.nextInt();\n",
    "        //this is the start of the chain\n",
    "        if(g>90) { //the computer will pick its choice depending on user input. But only one choice.\n",
    "            System.out.println(\"You got A!!!!\");\n",
    "        }\n",
    "        else if(g>80&&g<90) { //checks if input is between 80 and 90\n",
    "            System.out.println(\"You got B(its okay)\");\n",
    "        }\n",
    "        else if(g>70&&g<80) { //checks if input is between 70 and 80\n",
    "            System.out.println(\"You got C(Its not okay)\");\n",
    "        }\n",
    "        else if(g>60&&g<70) { //checks if input is between 60 and 70\n",
    "            System.out.println(\"You got D(OH MY GOD)\");\n",
    "        }\n",
    "        else { //checks if input is below 60\n",
    "            System.out.println(\"You FAIL!!!!!!!!!!!!!!!!!\");\n",
    "        }\n",
    "\n",
    "    }\n",
    "}\n",
    "Grade.main(null)"
   ]
  },
  {
   "attachments": {},
   "cell_type": "markdown",
   "metadata": {},
   "source": [
    "### De Morgan's Law\n",
    "Description: relates conjunction and disjunction by negating them\n",
    "\n",
    "Vocab to understand:\n",
    "1. +=Union/conjunction.\n",
    "2. *= intersection/disjunction\n",
    "3. (condition)'= opposite of condition"
   ]
  },
  {
   "attachments": {},
   "cell_type": "markdown",
   "metadata": {},
   "source": [
    "![](my_icons/DeMorgan.png)"
   ]
  },
  {
   "cell_type": "code",
   "execution_count": 9,
   "metadata": {},
   "outputs": [
    {
     "name": "stdout",
     "output_type": "stream",
     "text": [
      "The world is a cube\n",
      "The world is again a cube\n",
      "The world is a sphere\n",
      "The world is again a sphere\n"
     ]
    }
   ],
   "source": [
    "boolean a = false, b = false;\n",
    "if(a|b) {\n",
    "    System.out.print(\"The world is cylinder\");\n",
    "}\n",
    "if(!a|!b) { //1st law expression of the left hand side\n",
    "    System.out.println(\"The world is a cube\");\n",
    "}\n",
    "if(!(a&b)) { //1st law expression of the right hand side\n",
    "    System.out.println(\"The world is again a cube\");\n",
    "}\n",
    "if(!(a|b)) { //2nd Law expression of left hand side\n",
    "    System.out.println(\"The world is a sphere\");\n",
    "}\n",
    "if(!a&!b) { //2nd Law expression of right hand side\n",
    "    System.out.println(\"The world is again a sphere\");\n",
    "}"
   ]
  },
  {
   "attachments": {},
   "cell_type": "markdown",
   "metadata": {},
   "source": [
    "### Using FRQ example\n",
    "\n",
    "* Accessor Methods: Getter\n",
    "* Mutator Methods: Setters\n",
    "* Constructor: Automatically return the object and no return type is added to distinguish between a normal method and constructer method."
   ]
  },
  {
   "cell_type": "code",
   "execution_count": 18,
   "metadata": {},
   "outputs": [
    {
     "name": "stdout",
     "output_type": "stream",
     "text": [
      "C2 succeeds C1\n"
     ]
    }
   ],
   "source": [
    "public class Customer{\n",
    "private int ID;\n",
    "private String name;\n",
    "\n",
    "public Customer(int id,String n1)\n",
    "{\n",
    "    ID=id;\n",
    "    name=n1;\n",
    "}\n",
    "\n",
    "public String getName()\n",
    "{\n",
    "    return name;\n",
    "}\n",
    "\n",
    "public int getID() //Accessors\n",
    "{\n",
    "    return ID;\n",
    "}\n",
    "\n",
    "public void setID(int ID) //Mutators\n",
    "{\n",
    "    this.ID = ID;\n",
    "}\n",
    "\n",
    "public void setName(String name)\n",
    "{\n",
    "    this.name = name;\n",
    "}\n",
    "/*\n",
    " * Another Accessor Method\n",
    " */\n",
    "public int compareCustomer(Customer other) {\n",
    "\n",
    "    /*\n",
    "     * Compare Strings \n",
    "     */\n",
    "    if(name.compareTo(other.getName()) != 0){   \n",
    "        if(name.compareTo(other.getName()) > 0) {\n",
    "            return 1;\n",
    "        } \n",
    "        else if (name.compareTo(other.getName()) < 0) {\n",
    "            return -1;\n",
    "        }\n",
    "    }\n",
    "    else {\n",
    "        /*\n",
    "         * Compare Numbers\n",
    "         */\n",
    "        if (ID > other.getID()) {\n",
    "            return 1;\n",
    "        }\n",
    "        else if(ID < other.getID()) {\n",
    "            return -1;\n",
    "        }\n",
    "        else {\n",
    "            return 0;\n",
    "        }\n",
    "    }\n",
    "\n",
    "    return 0;\n",
    "}\n",
    "\n",
    "public static void main(String[] args)\n",
    "{\n",
    "    Customer c1 = new Customer(34,\"ABCDEF\");\n",
    "    Customer c2= new Customer(56,\"QWERTY\");\n",
    "\n",
    "    /*\n",
    "     * Comparing Objects\n",
    "     */\n",
    "    if(c1.compareCustomer(c2)>=0)\n",
    "        System.out.println(\"C1 succeeds C2\");\n",
    "    else\n",
    "      System.out.println(\"C2 succeeds C1\");\n",
    "\n",
    "}\n",
    "\n",
    "}\n",
    "\n",
    "Customer.main(null);"
   ]
  },
  {
   "attachments": {},
   "cell_type": "markdown",
   "metadata": {},
   "source": [
    "### Loops\n",
    "\n",
    "* For Loop used to add, remove and traverse throug 1-D array\n",
    "* Enhance for loop to shorten code\n",
    "* While loop to check first condition\n",
    "* Creating Class to create a prototype for the object and make it do things\n",
    "* Naming conventions include naming member variables\n",
    "  * For class, first letter caps\n",
    "  * For method, firstword small and next words start with caps Ex. digitList"
   ]
  },
  {
   "cell_type": "code",
   "execution_count": 23,
   "metadata": {},
   "outputs": [
    {
     "name": "stdout",
     "output_type": "stream",
     "text": [
      "true\n"
     ]
    }
   ],
   "source": [
    "import java.util.*;\n",
    "/**\n",
    " * 2017 1\n",
    " */\n",
    "public class Digit {\n",
    "    private ArrayList<Integer> digitList;\n",
    "\n",
    "    public Digit(int num) {\n",
    "        digitList = new ArrayList<Integer>();\n",
    "        int temp = num, nod = 0;\n",
    "        while(temp > 0) {\n",
    "            digitList.add(temp % 10);\n",
    "            temp = temp/10;\n",
    "            nod++;\n",
    "        }\n",
    "        int[] arr = new int[nod];\n",
    "        for(int i=0; i < arr.length; i++) {\n",
    "            arr[i] = digitList.get(nod-1);\n",
    "            nod--;\n",
    "        }\n",
    "        digitList.clear();\n",
    "        for(int i = 0; i < arr.length; i++) {\n",
    "            digitList.add(i, arr[i]);\n",
    "        }\n",
    "    }\n",
    "\n",
    "    public boolean isStrictlyIncreasing() {\n",
    "        /*for(int i = 1; i < digitList.size(); i++) {\n",
    "            // if(digitList.get(i) > digitList.get(i-1)) {}\n",
    "            // else{\n",
    "            //     return false;\n",
    "            // }\n",
    "            if(!(digitList.get(i) > digitList.get(i-1)))\n",
    "                return false;\n",
    "        }*/\n",
    "        int i=1;\n",
    "        if(i < digitList.size())\n",
    "        {\n",
    "            do\n",
    "            {\n",
    "                if(!(digitList.get(i) > digitList.get(i-1)))\n",
    "                    return false;\n",
    "                i++;\n",
    "            }while(i < digitList.size());\n",
    "        }\n",
    "        return true;\n",
    "    }\n",
    "    \n",
    "    public void print() {\n",
    "        for(int i : digitList) {\n",
    "            System.out.println(i);\n",
    "        }\n",
    "    }\n",
    "\n",
    "    public static void main(String[] args) {\n",
    "        Digit d1 = new Digit(0);\n",
    "        \n",
    "        d1.print();\n",
    "        System.out.println(d1.isStrictlyIncreasing());\n",
    "    }\n",
    "}\n",
    "\n",
    "Digit.main(null)"
   ]
  },
  {
   "attachments": {},
   "cell_type": "markdown",
   "metadata": {},
   "source": [
    "### Loops extended\n",
    "\n",
    "* Nested loop to traverse through 2D array"
   ]
  },
  {
   "cell_type": "code",
   "execution_count": 24,
   "metadata": {},
   "outputs": [
    {
     "name": "stdout",
     "output_type": "stream",
     "text": [
      "10\n",
      "20\n",
      "30\n",
      "40\n",
      "50\n",
      "60\n"
     ]
    }
   ],
   "source": [
    "int[][] arr=new int[3][2];\n",
    "int x=1;\n",
    "\n",
    "for(int i=0;i<3;i++)\n",
    "    for(int j=0;j<2;j++)\n",
    "        arr[i][j]=x++*10;\n",
    "\n",
    "\n",
    "for(int i=0;i<3;i++)\n",
    "    for(int j=0;j<2;j++)\n",
    "        System.out.println(arr[i][j]);\n"
   ]
  },
  {
   "attachments": {},
   "cell_type": "markdown",
   "metadata": {},
   "source": [
    "### Static Variables\n",
    "* Static Variables decrease memory usage if values of multiple variables are same \n",
    "* are allocated in compile time.\n",
    "* Are accessed by class name itself"
   ]
  },
  {
   "cell_type": "code",
   "execution_count": 29,
   "metadata": {},
   "outputs": [
    {
     "name": "stdout",
     "output_type": "stream",
     "text": [
      "3\n",
      "3\n",
      "3\n",
      "Accessing static variable using class name:3\n"
     ]
    }
   ],
   "source": [
    "public class Counter {\n",
    "    static int x = 0;\n",
    "\n",
    "    Counter() \n",
    "    {\n",
    "        x++;\n",
    "    }\n",
    "\n",
    "    void display() \n",
    "    {\n",
    "        System.out.println(x);\n",
    "    }\n",
    "\n",
    "    public static void main(String[] args)\n",
    "    {\n",
    "        Counter c1 = new Counter();\n",
    "        Counter c2 = new Counter();\n",
    "        Counter c3 = new Counter();\n",
    "\n",
    "        c1.display();\n",
    "        c2.display();\n",
    "        c3.display();\n",
    "\n",
    "        System.out.println(\"Accessing static variable using class name:\"+Counter.x);\n",
    "    }\n",
    "}\n",
    "Counter.main(null)"
   ]
  },
  {
   "attachments": {},
   "cell_type": "markdown",
   "metadata": {},
   "source": [
    "### Inheritance (To do)\n",
    "\n",
    "* Add a getAge method in the Person super class\n",
    "* Create a new subclass Student with additional members of your choice to personalize the Student class\n",
    "* Create a new subclass Teacher with additiona members of your choice\n",
    "* Override the toString method using the @Override to print a Student and teacher object with new members\n",
    "* Print the student and teacher."
   ]
  },
  {
   "cell_type": "code",
   "execution_count": null,
   "metadata": {},
   "outputs": [],
   "source": [
    "public class Person {\n",
    "    private String name;\n",
    "    private String birthday;\n",
    " \n",
    "    public Person (String name, String birthday){\n",
    "       this.name = name;\n",
    "       this.birthday = birthday;\n",
    "    }\n",
    " \n",
    "    public String getName(){\n",
    "       return name;\n",
    "    }\n",
    " }\n",
    " \n",
    " public class Student extends Person {\n",
    "    private int grade;\n",
    "    private double gpa;\n",
    " \n",
    "    public Student (String name, String birthday, int grade, double gpa) {\n",
    "       super(name, birthday);\n",
    "       this.grade = grade;\n",
    "       this.gpa = gpa;\n",
    "    }\n",
    " \n",
    "    public int getGrade(){\n",
    "       return grade;\n",
    "    }\n",
    " }"
   ]
  }
 ],
 "metadata": {
  "kernelspec": {
   "display_name": "Java",
   "language": "java",
   "name": "java"
  },
  "language_info": {
   "codemirror_mode": "java",
   "file_extension": ".jshell",
   "mimetype": "text/x-java-source",
   "name": "java",
   "pygments_lexer": "java",
   "version": "3.8.10 (default, Jun 22 2022, 20:18:18) \n[GCC 9.4.0]"
  },
  "orig_nbformat": 4,
  "vscode": {
   "interpreter": {
    "hash": "916dbcbb3f70747c44a77c7bcd40155683ae19c65e1c03b4aa3499c5328201f1"
   }
  }
 },
 "nbformat": 4,
 "nbformat_minor": 2
}
