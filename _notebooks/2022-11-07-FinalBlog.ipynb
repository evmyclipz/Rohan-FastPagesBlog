{
 "cells": [
  {
   "cell_type": "markdown",
   "metadata": {},
   "source": [
    "# Final Blog\n",
    "\n",
    "- title: Final Blog\n",
    "- toc: true \n",
    "- badges: true\n",
    "- comments: true\n",
    "- categories: [jupyter]"
   ]
  },
  {
   "cell_type": "markdown",
   "metadata": {},
   "source": [
    "### Trimester Notes\n",
    "\n",
    "Notes for CSA(Unit 1)\n",
    "\n",
    "#### Vocab:\n",
    "1. sequence: Severeal line of code\n",
    "2. Key & Value: Eg. title: Home of the nighthawks.\n",
    "3. Wrapper Class: wraps around to create an object and contains primitive data types.\n",
    "4. Method Signature: Has a class name and parameters.\n",
    "5. Constructer: constructs an object using sub-class name to perform super-class actions.\n",
    "6. Inheritance: creating new class from existing class.\n",
    "\n",
    "#### Data types are divided into two groups:\n",
    "\n",
    "1. Primitive data types - includes byte, short, int, long, float, double, boolean and char\n",
    "2. Non-primitive data types - such as String, Arrays and Classes \n",
    "\n",
    "#### Primitive Data Types\n",
    "\n",
    "A primitive data type specifies the size and type of variable values, and it has no additional methods.\n",
    "\n",
    "There are eight primitive data types in Java:\n",
    "\n",
    "\n",
    "| Data Type\t| Size\t | Description                                                                      | \n",
    "|-----------|--------|----------------------------------------------------------------------------------|\n",
    "| byte\t    | 1 byte | Stores whole numbers from -128 to 127                                            | \n",
    "| short\t    | 2 bytes| Stores whole numbers from -32,768 to 32,767                                      |\n",
    "| int\t    | 4 bytes| Stores whole numbers from -2,147,483,648 to 2,147,483,647                        |\n",
    "|long\t    | 8 bytes| Stores whole numbers from -9,223,372,036,854,775,808 to 9,223,372,036,854,775,807|\n",
    "|float\t    | 4 bytes| Stores fractional numbers. Sufficient for storing 6 to 7 decimal digits          |\n",
    "|double\t    | 8 bytes| Stores fractional numbers. Sufficient for storing 15 decimal digits              |\n",
    "|boolean\t| 1 bit\t | Stores true or false values                                                      |\n",
    "|char\t    | 2 bytes| Stores a single character/letter or ASCII values                                 |\n",
    "\n",
    "#### Non-Primitive Data Types\n",
    "\n",
    "Non-primitive data types are called reference types because they refer to objects.\n",
    "\n",
    "The main difference between primitive and non-primitive data types are:\n",
    "\n",
    "* Primitive types are predefined (already defined) in Java. Non-primitive types are created by the programmer and is not defined by Java (except for String).\n",
    "* Non-primitive types can be used to call methods to perform certain operations, while primitive types cannot.\n",
    "* A primitive type has always a value, while non-primitive types can be null.\n",
    "* A primitive type starts with a lowercase letter, while non-primitive types starts with an uppercase letter.\n",
    "* The size of a primitive type depends on the data type, while non-primitive types have all the same size.\n",
    "* Examples of non-primitive types are Strings, Arrays, Classes, Interface, etc. You will learn more about these in a later chapter.\n",
    "\n",
    "#### Frontend Development\n",
    "\n",
    "Front-end web development is the development of the graphical user interface of a website, through the use of HTML, CSS, and JavaScript, so that users can view and interact with that website.\n",
    "\n",
    "* Config.yaml can be used to create there user interfaces.\n",
    "* CSS style layout is provided by using Themes provided through GH Pages. Each page we make we assume the defined theme and insert our HTML fragments, local page style, and local page JavaScript.\n",
    "* Fastpages defaults to the minima theme. Review the the README.md for style or layout customizations.\n",
    "* Jekyll is in charge of deployment of the pages(fastpages is deployed using Jekyll).\n",
    "* Liquid is a language and an example of this is in tags.html of APCSA repo.\n",
    "* Challenge: Use liquid to build the APCSA schedule homepage(it is originally built using html).\n",
    "* Learn liquid\n",
    "* HTML generation is done through liquid(a template language like Jinja2 or thymleaf).\n",
    "* Javascript can also be used to build user interfaces(it was used to build calculator, Binary, graphs, snake game.)\n",
    "* Make a game, create cos and sin in calculator \n",
    "\n",
    "#### Tips\n",
    "\n",
    "* Create a about me page to build resumes or get ideas to create a resume.\n",
    "* update blog regularly.\n",
    "* Create a menu\n",
    "* Use the Docker to update the changes repidly."
   ]
  },
  {
   "cell_type": "markdown",
   "metadata": {},
   "source": [
    "### Unit 1-6 HW\n",
    "\n",
    "* [Unit 1 & 2](https://evmyclipz.github.io/sample1_blog/jupyter/2022/10/14/Unit1&2HW.html)\n",
    "* [Unit 3, 4, 5, 6](https://evmyclipz.github.io/sample1_blog/jupyter/2022/10/24/Unit345.html)"
   ]
  },
  {
   "cell_type": "markdown",
   "metadata": {},
   "source": [
    "### Score on the Practice MC\n",
    "\n",
    "* I scored 34/40 on the MC, questions 3,19,22,24,25 and 29 were wrong.\n",
    "* Question 3:"
   ]
  },
  {
   "cell_type": "markdown",
   "metadata": {},
   "source": [
    "![](my_icons/q3.png)"
   ]
  },
  {
   "cell_type": "markdown",
   "metadata": {},
   "source": [
    "* I thought, if i make member variable myC if made public, but i missed one point that it can be manipulated too.\n",
    "* Question 19:"
   ]
  },
  {
   "cell_type": "markdown",
   "metadata": {},
   "source": [
    "![](my_icons/q19.png)"
   ]
  },
  {
   "cell_type": "markdown",
   "metadata": {},
   "source": [
    "* I missed that !(!(a!=b))  results into (a!=b) as ! and ! negate each other.\n",
    "* Question 24:"
   ]
  },
  {
   "cell_type": "markdown",
   "metadata": {},
   "source": [
    "![](my_icons/q24.png)"
   ]
  },
  {
   "cell_type": "markdown",
   "metadata": {},
   "source": [
    "* Miss calculation of value variable resulted in wrong option selection\n",
    "* Question 25:"
   ]
  },
  {
   "cell_type": "markdown",
   "metadata": {},
   "source": [
    "![](my_icons/q25.png)"
   ]
  },
  {
   "cell_type": "markdown",
   "metadata": {},
   "source": [
    "* II choice is the best fit, as the methods in it would compare with other rbox in one implementation itself.\n",
    "* But with I choice also serves the problem.\n",
    "* Question 29:"
   ]
  },
  {
   "cell_type": "markdown",
   "metadata": {},
   "source": [
    "![](my_icons/q29.png)"
   ]
  },
  {
   "cell_type": "markdown",
   "metadata": {},
   "source": [
    "* I didn't notice k<=25, purely a mistake\n",
    "  "
   ]
  }
 ],
 "metadata": {
  "kernelspec": {
   "display_name": "Java",
   "language": "java",
   "name": "java"
  },
  "language_info": {
   "codemirror_mode": "java",
   "file_extension": ".jshell",
   "mimetype": "text/x-java-source",
   "name": "Java",
   "pygments_lexer": "java",
   "version": "11.0.16+8-post-Ubuntu-0ubuntu120.04"
  },
  "orig_nbformat": 4,
  "vscode": {
   "interpreter": {
    "hash": "916dbcbb3f70747c44a77c7bcd40155683ae19c65e1c03b4aa3499c5328201f1"
   }
  }
 },
 "nbformat": 4,
 "nbformat_minor": 2
}
