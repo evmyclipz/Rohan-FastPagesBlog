{
 "cells": [
  {
   "cell_type": "code",
   "execution_count": 6,
   "metadata": {
    "vscode": {
     "languageId": "java"
    }
   },
   "outputs": [
    {
     "ename": "UnresolvedReferenceException",
     "evalue": "Attempt to use definition snippet with unresolved references in Snippet:ClassKey(NamarRep)#16-\n\npublic class NamarRep extends JFrame implements ActionListener {\n    private JFrame frame;\n    private JMenuBar menubar;\n    private JMenu menu;\n    private JMenu menu1;\n    private JLabel message = new JLabel(\"Enter Decimal Number:\");\n    private JTextField numVal = new JTextField();\n    public String[] NUM = { // 1D Array of Menu Choices\n        \"Hex\", \"Binary\", \"Octal\"\n    };\n\n    public String[] NUM1 = { // 1D Array of Menu Choices\n        \"Sine\", \"Cosine\", \"Tangent\"\n    };\n    \n    public NamarRep(String title) {\n\t    // Initializing Key Objects\n        frame = new JFrame(title);\n\t    menubar = new JMenuBar();\n\t    menu = new JMenu(\"Number Representations\");\n        menu1 = new JMenu(\"Trigonometric Functions\");\n        numVal.setText(\"                             \");\n\n        //Initializing Menu objects and adding actions\n        for (String mx : NUM) {\n            JMenuItem m = new JMenuItem(mx);\n            m.addActionListener(this);\n            menu.add(m); \n        }\n\n        //Initializing Menu objects and adding actions\n        for (String mx : NUM1) {\n            JMenuItem m = new JMenuItem(mx);\n            m.addActionListener(this);\n            menu1.add(m); \n        }\n\n        menubar.add(menu);\n        menubar.add(menu1);\n        frame.setJMenuBar(menubar);\n        frame.setLayout(new BorderLayout());\n        frame.setLayout(50,30);\n        //frame.add(message,BorderLayout.EAST);\n        //frame.add(numVal,BorderLayout,WEST);\n\n        frame.setDefaultCloseOperation(JFrame.EXIT_ON_CLOSE);\n        \n\n        frame.setSize(600,400);\n\n        frame.setVisible(true);\n\n}\n\npublic void actionPerformed(ActionEvent e) {\n    String s = e.getActionCommand();\n    double value=0;\n    if(s.equals(NUM1[0])) {\n        value = Math.sin(Math.toRadians(Double.parseDouble(numVal.getText())));\n        numVal.setText(String.valueOf(value));\n    }\n    \n}\n\n    public static void main(String[] args) {\n        NamarRep np= new NamarRep(\"My Menu\");\n    }\n}",
     "output_type": "error",
     "traceback": []
    }
   ],
   "source": [
    "import java.awt.*;\n",
    "import java.awt.event.*;\n",
    "import javax.swing.*;\n",
    "import java.lang.Math.*;\n",
    "\n",
    "public class NamarRep extends JFrame implements ActionListener {\n",
    "    private JFrame frame;\n",
    "    private JMenuBar menubar;\n",
    "    private JMenu menu;\n",
    "    private JMenu menu1;\n",
    "    private JLabel message = new JLabel(\"Enter Decimal Number:\");\n",
    "    private JTextField numVal = new JTextField();\n",
    "    public String[] NUM = { // 1D Array of Menu Choices\n",
    "        \"Hex\", \"Binary\", \"Octal\"\n",
    "    };\n",
    "\n",
    "    public String[] NUM1 = { // 1D Array of Menu Choices\n",
    "        \"Sine\", \"Cosine\", \"Tangent\"\n",
    "    };\n",
    "    \n",
    "    public NamarRep(String title) {\n",
    "\t    // Initializing Key Objects\n",
    "        frame = new JFrame(title);\n",
    "\t    menubar = new JMenuBar();\n",
    "\t    menu = new JMenu(\"Number Representations\");\n",
    "        menu1 = new JMenu(\"Trigonometric Functions\");\n",
    "        numVal.setText(\"                             \");\n",
    "\n",
    "        //Initializing Menu objects and adding actions\n",
    "        for (String mx : NUM) {\n",
    "            JMenuItem m = new JMenuItem(mx);\n",
    "            m.addActionListener(this);\n",
    "            menu.add(m); \n",
    "        }\n",
    "\n",
    "        //Initializing Menu objects and adding actions\n",
    "        for (String mx : NUM1) {\n",
    "            JMenuItem m = new JMenuItem(mx);\n",
    "            m.addActionListener(this);\n",
    "            menu1.add(m); \n",
    "        }\n",
    "\n",
    "        menubar.add(menu);\n",
    "        menubar.add(menu1);\n",
    "        frame.setJMenuBar(menubar);\n",
    "        frame.setLayout(new BorderLayout());\n",
    "        frame.setLayout(50,30);\n",
    "        //frame.add(message,BorderLayout.EAST);\n",
    "        //frame.add(numVal,BorderLayout,WEST);\n",
    "\n",
    "        frame.setDefaultCloseOperation(JFrame.EXIT_ON_CLOSE);\n",
    "        \n",
    "\n",
    "        frame.setSize(600,400);\n",
    "\n",
    "        frame.setVisible(true);\n",
    "\n",
    "}\n",
    "\n",
    "public void actionPerformed(ActionEvent e) {\n",
    "    String s = e.getActionCommand();\n",
    "    double value=0;\n",
    "    if(s.equals(NUM1[0])) {\n",
    "        value = Math.sin(Math.toRadians(Double.parseDouble(numVal.getText())));\n",
    "        numVal.setText(String.valueOf(value));\n",
    "    }\n",
    "    \n",
    "}\n",
    "\n",
    "    public static void main(String[] args) {\n",
    "        NamarRep np= new NamarRep(\"My Menu\");\n",
    "    }\n",
    "}\n",
    "\n",
    "NamarRep.main(null)\n"
   ]
  }
 ],
 "metadata": {
  "kernelspec": {
   "display_name": "Java",
   "language": "java",
   "name": "java"
  },
  "language_info": {
   "codemirror_mode": "java",
   "file_extension": ".jshell",
   "mimetype": "text/x-java-source",
   "name": "Java",
   "pygments_lexer": "java",
   "version": "11.0.16+8-post-Ubuntu-0ubuntu120.04"
  },
  "orig_nbformat": 4
 },
 "nbformat": 4,
 "nbformat_minor": 2
}
