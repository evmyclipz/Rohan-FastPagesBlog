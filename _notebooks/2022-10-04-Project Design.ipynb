{
 "cells": [
  {
   "cell_type": "markdown",
   "metadata": {},
   "source": [
    "# Project Design\n",
    "\n",
    "- title: Project Design\n",
    "- toc: true \n",
    "- badges: true\n",
    "- comments: true\n",
    "- categories: [jupyter]"
   ]
  },
  {
   "cell_type": "markdown",
   "metadata": {},
   "source": [
    "### Project \n",
    "\n",
    "We are going to make an fitness application and hopefully upload onto the app store.\n",
    "\n",
    "Recently, fitness has become very popular and many students are going to gym than ever, but not all the students have a specefic plan on how to workout. As a result, this creates a demand for a fitness application. \n",
    "\n",
    "We will use multiple rapid api on fitness to get low calories recipes, excersizes and calorie calculator. Using this information, we will try to give users an ideal meal prep, workout schedules, workouts and calorie controller to make students strong and buff. \n",
    "\n",
    "#### Unique\n",
    "\n",
    "Something different from other ftiness application is that our application is designed specifically for high school students, in a way that balances their school and workout schedule.  "
   ]
  },
  {
   "cell_type": "markdown",
   "metadata": {},
   "source": [
    "### [Our Wireframe](https://prometheus.my.canva.site/)"
   ]
  }
 ],
 "metadata": {
  "kernelspec": {
   "display_name": "Java",
   "language": "java",
   "name": "java"
  },
  "language_info": {
   "name": "java"
  },
  "orig_nbformat": 4
 },
 "nbformat": 4,
 "nbformat_minor": 2
}
