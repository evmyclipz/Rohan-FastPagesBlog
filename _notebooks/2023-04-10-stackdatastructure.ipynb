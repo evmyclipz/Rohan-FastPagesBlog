{
 "cells": [
  {
   "attachments": {},
   "cell_type": "markdown",
   "metadata": {},
   "source": [
    "# Stack Data Structures\n",
    "  \n",
    "- title: Sorts\n",
    "- toc: true \n",
    "- badges: true\n",
    "- comments: true\n",
    "- categories: [jupyter]"
   ]
  },
  {
   "attachments": {},
   "cell_type": "markdown",
   "metadata": {},
   "source": [
    "### Notes\n",
    "\n",
    "* Last in first out\n",
    "    * In order to access things at the bottom, we need to .pop() everything up top"
   ]
  },
  {
   "cell_type": "code",
   "execution_count": 12,
   "metadata": {
    "vscode": {
     "languageId": "java"
    }
   },
   "outputs": [
    {
     "ename": "CompilationException",
     "evalue": "",
     "output_type": "error",
     "traceback": [
      "\u001b[1m\u001b[30m|   \u001b[1m\u001b[30m        \u001b[0m\u001b[1m\u001b[30m\u001b[41mStack<String>\u001b[0m\u001b[1m\u001b[30m stack = new Stack<String>();\u001b[0m",
      "\u001b[1m\u001b[31mtype Stack does not take parameters\u001b[0m",
      "",
      "\u001b[1m\u001b[30m|   \u001b[1m\u001b[30m        Stack<String> stack = new \u001b[0m\u001b[1m\u001b[30m\u001b[41mStack<String>\u001b[0m\u001b[1m\u001b[30m();\u001b[0m",
      "\u001b[1m\u001b[31mtype Stack does not take parameters\u001b[0m",
      ""
     ]
    }
   ],
   "source": [
    "import java.util.Stack;\n",
    "\n",
    "public class Stack {\n",
    "    public static void main(String[] args) {\n",
    "        Stack<String> stack = new Stack<String>();\n",
    "\n",
    "        System.out.printn(stack.empty());\n",
    "\n",
    "    }\n",
    "}\n",
    "Stack.main(null)\n"
   ]
  }
 ],
 "metadata": {
  "kernelspec": {
   "display_name": "Java",
   "language": "java",
   "name": "java"
  },
  "language_info": {
   "codemirror_mode": "java",
   "file_extension": ".jshell",
   "mimetype": "text/x-java-source",
   "name": "Java",
   "pygments_lexer": "java",
   "version": "11.0.16+8-post-Ubuntu-0ubuntu120.04"
  },
  "orig_nbformat": 4
 },
 "nbformat": 4,
 "nbformat_minor": 2
}
