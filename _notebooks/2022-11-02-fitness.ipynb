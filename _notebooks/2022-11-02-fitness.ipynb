{
 "cells": [
  {
   "cell_type": "markdown",
   "metadata": {},
   "source": [
    "# Fetch of Backend Fitness\n",
    "- layout: default\n",
    "- description: Introduction to Fitness App   \n",
    "- badges: true\n",
    "- comments: true\n",
    "- categories: [jupyter]\n"
   ]
  },
  {
   "cell_type": "markdown",
   "metadata": {},
   "source": [
    "<table>\n",
    "        <thead>\n",
    "          <tr>\n",
    "              <th>\"ID No.\"</th>\n",
    "              <th>\"Exercise Name\"</th>\n",
    "              <th>\"Time Period or Reps\"</th>\n",
    "          </tr>\n",
    "        </thead>\n",
    "        <tbody id=\"refid\"></tbody>\n",
    "        </table>\n",
    "       <button onclick=\"trial() \">Try it</button>\n",
    "        <script>\n",
    "          function trial()\n",
    "        {\n",
    "                    const url = \"https://fitness.nighthawkcoders.tk/api/v1/fitnessApp/api/v1/fitnessApp\";\n",
    "                    //const url = \"http://localhost:8080/api/v1/fitnessApp\";\n",
    "\n",
    "\n",
    "                    const resultContainer  = document.getElementById(\"refid\");\n",
    "\n",
    "                    fetch(url)\n",
    "                    .then(res => res.json())\n",
    "                    .then((data) => {\n",
    "                    alert(\"Fetching data..........\");\n",
    "\n",
    "                    for (const rs of data)\n",
    "                    {\n",
    "                               \n",
    "                        const tr = document.createElement(\"tr\");\n",
    "                        const n1 = document.createElement(\"td\");\n",
    "                        const n2 = document.createElement(\"td\");    \n",
    "                        const n3 = document.createElement(\"td\");\n",
    "                        n1.innerHTML = rs.id;\n",
    "                        n2.innerHTML = rs.exerciseName;\n",
    "                        n3.innerHTML = rs.timePeriod;\n",
    "                            \n",
    "                        tr.appendChild(n1);\n",
    "                        tr.appendChild(n2);\n",
    "                        tr.appendChild(n3);\n",
    "                        // add HTML to container\n",
    "                       \n",
    "                        resultContainer.appendChild(tr);\n",
    "                       // alert(rs.exerciseName);\n",
    "                    }\n",
    "\n",
    "                    })\n",
    "                    .catch(err => { throw err });\n",
    "                \n",
    "                }\n",
    "        </script>\n"
   ]
  }
 ],
 "metadata": {
  "kernelspec": {
   "display_name": "Python 3.8.10 64-bit",
   "language": "python",
   "name": "python3"
  },
  "language_info": {
   "codemirror_mode": {
    "name": "ipython",
    "version": 3
   },
   "file_extension": ".py",
   "mimetype": "text/x-python",
   "name": "python",
   "nbconvert_exporter": "python",
   "pygments_lexer": "ipython3",
   "version": "3.8.10"
  },
  "orig_nbformat": 4,
  "vscode": {
   "interpreter": {
    "hash": "916dbcbb3f70747c44a77c7bcd40155683ae19c65e1c03b4aa3499c5328201f1"
   }
  }
 },
 "nbformat": 4,
 "nbformat_minor": 2
}
