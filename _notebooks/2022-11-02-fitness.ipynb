{
 "cells": [
  {
   "cell_type": "markdown",
   "metadata": {},
   "source": [
    "# Fetch of Backend Fitness\n",
    "- layout: default\n",
    "- description: Introduction to Fitness App   \n",
    "- badges: true\n",
    "- comments: true\n",
    "- categories: [jupyter]\n"
   ]
  },
  {
   "cell_type": "markdown",
   "metadata": {},
   "source": [
    "<table>\n",
    "        <thead>\n",
    "          <tr>\n",
    "              <th>\"ID No.\"</th>\n",
    "              <th>\"Exercise Name\"</th>\n",
    "              <th>\"Time Period or Reps\"</th>\n",
    "          </tr>\n",
    "        </thead>\n",
    "        <tbody id=\"refid\"></tbody>\n",
    "        </table>\n",
    "        <script>\n",
    "        {    \n",
    "                   const resultContainer1  = document.getElementById(\"refid\");\n",
    "                    const url = \"https://fitness.nighthawkcoders.tk/api/v1/fitnessApp\";\n",
    "                    //const url = \"http://localhost:8080/api/v1/fitnessApp\";\n",
    "                    // prepare fetch GET options\n",
    "                  const options = {\n",
    "                  method: 'GET', // *GET, POST, PUT, DELETE, etc.\n",
    "                  mode: 'cors', // no-cors, *cors, same-origin\n",
    "                  cache: 'default', // *default, no-cache, reload, force-cache, only-if-cached\n",
    "                  credentials: 'same-origin', // include, same-origin, omit\n",
    "                  headers: {\n",
    "                    'Content-Type': 'application/json'\n",
    "                    // 'Content-Type': 'application/x-www-form-urlencoded',\n",
    "                  },\n",
    "                };\n",
    "                // prepare fetch PUT options, clones with JS Spread Operator (...)\n",
    "                const put_options = {...options, method: 'PUT'}; // clones and replaces method\n",
    "                // fetch the API\n",
    "                fetch(url, options)\n",
    "                  // response is a RESTful \"promise\" on any successful fetch\n",
    "                  .then(response => {\n",
    "                    // check for response errors\n",
    "                    if (response.status !== 200) {\n",
    "                        error('GET API response failure: ' + response.status);\n",
    "                        return;\n",
    "                    }\n",
    "                    response.json().then(data => {\n",
    "                    console.log(data);\n",
    "                    for (const rs of data)\n",
    "                    {\n",
    "                        const tr1 = document.createElement(\"tr\");\n",
    "                        const n11 = document.createElement(\"td\");\n",
    "                        const n21 = document.createElement(\"td\");    \n",
    "                        const n31 = document.createElement(\"td\");\n",
    "                        n11.innerHTML = rs.id;\n",
    "                        n21.innerHTML = rs.exerciseName;\n",
    "                        n31.innerHTML = rs.timePeriod;\n",
    "                        tr1.appendChild(n11);\n",
    "                        tr1.appendChild(n21);\n",
    "                        tr1.appendChild(n31);\n",
    "                        // add HTML to container\n",
    "                        resultContainer1.appendChild(tr1);\n",
    "                       // alert(rs.exerciseName);\n",
    "                    }\n",
    "      })\n",
    "  })\n",
    "  // catch fetch errors (ie Nginx ACCESS to server blocked)\n",
    "  .catch(err => {\n",
    "    error(err + \" \" + url);\n",
    "  });\n",
    "  }\n",
    "  </script>\n"
   ]
  }
 ],
 "metadata": {
  "kernelspec": {
   "display_name": "Python 3.8.10 64-bit",
   "language": "python",
   "name": "python3"
  },
  "language_info": {
   "name": "python",
   "version": "3.8.10"
  },
  "orig_nbformat": 4,
  "vscode": {
   "interpreter": {
    "hash": "916dbcbb3f70747c44a77c7bcd40155683ae19c65e1c03b4aa3499c5328201f1"
   }
  }
 },
 "nbformat": 4,
 "nbformat_minor": 2
}
