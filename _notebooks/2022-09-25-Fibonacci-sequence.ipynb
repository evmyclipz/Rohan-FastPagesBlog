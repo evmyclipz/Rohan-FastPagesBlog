{
 "cells": [
  {
   "cell_type": "markdown",
   "metadata": {},
   "source": [
    "# Fibonacci Sequence \n",
    "\n",
    "- title: Fibonacci Sequence\n",
    "- toc: true \n",
    "- badges: true\n",
    "- comments: true\n",
    "- categories: [jupyter]"
   ]
  },
  {
   "cell_type": "markdown",
   "metadata": {},
   "source": [
    "My code segment that is used to complete the for, while and recussive code segments is the fibo method and the fibR method. This serves as a parent class that is first declared as class Fibonacci and is later extended to three different sub-classes, in which it is defined. Each one gives their own implementation for generating fibonacci series.\n",
    "\n"
   ]
  },
  {
   "cell_type": "code",
   "execution_count": 3,
   "metadata": {},
   "outputs": [],
   "source": [
    "public class Fibonacci {\n",
    "    protected void fibo(int n) { \n",
    "        \n",
    "    }\n",
    "    protected int fibR(int n) {\n",
    "        return 0;\n",
    "    }\n",
    "}\n"
   ]
  },
  {
   "cell_type": "markdown",
   "metadata": {},
   "source": [
    "### Iteration using For"
   ]
  },
  {
   "cell_type": "code",
   "execution_count": 2,
   "metadata": {},
   "outputs": [
    {
     "name": "stdout",
     "output_type": "stream",
     "text": [
      "Enter number of terms that is greater than 2 \n",
      "Standard Sequence\n",
      "0 \n",
      "0 1 \n",
      "0 1 1 \n",
      "0 1 1 2 \n"
     ]
    }
   ],
   "source": [
    "import java.util.Scanner;\n",
    "\n",
    "public class Fibonacchi extends Fibonacci {\n",
    "\n",
    "    public Fibonacchi() {\n",
    "        super();\n",
    "    }\n",
    "    \n",
    "    public int ar[];\n",
    "    public Fibonacchi(int n) {\n",
    "        ar = new int[n]; \n",
    "    }\n",
    "    public void fibo(int n) {\n",
    "        ar[0]=0;\n",
    "        ar[1]=1;\n",
    "        if (n==1) {\n",
    "            ar[0]=0;\n",
    "        }\n",
    "        if(n==2) {\n",
    "            ar[0]=0;\n",
    "            ar[1]=1;\n",
    "        }\n",
    "        for(int i=2;i<n;i++) { //use of for loop\n",
    "            ar[i]=ar[i-1]+ar[i-2];\n",
    "        }\n",
    "        print(n);\n",
    "    }\n",
    "\n",
    "    private void print(int n) {\n",
    "        for(int i=0;i<n;i++) {\n",
    "            System.out.print(ar[i]+\" \");\n",
    "        }\n",
    "        System.out.println();\n",
    "    }\n",
    "    \n",
    "    public static void main(String[] args) {\n",
    "        int n;\n",
    "        Scanner sc = new Scanner(System.in);\n",
    "        System.out.println(\"Enter number of terms that is greater than 2 \");\n",
    "        n = sc.nextInt()+1;\n",
    "        if (n<2) {\n",
    "            System.out.println(\"Booboo, you entered a wrong number. Please try again later\");\n",
    "        }\n",
    "        else {\n",
    "            System.out.println(\"Standard Sequence\");\n",
    "            Fibonacchi f= new Fibonacchi(n);\n",
    "            for(int i = 1; i<n;i++) {\n",
    "                f.fibo(i);\n",
    "            }\n",
    "        }\n",
    "        \n",
    "\n",
    "    }\n",
    "}\n",
    "Fibonacchi.main(null)"
   ]
  },
  {
   "cell_type": "markdown",
   "metadata": {},
   "source": [
    "### Recursion Method\n",
    "\n",
    "* Calling a function inside of the same function is called recursive approach of solving a problem besides iterative approach.\n",
    "* The iterative approach is defined in the Fibonacchi(for) and FibonacciW(while) classes. "
   ]
  },
  {
   "cell_type": "code",
   "execution_count": 4,
   "metadata": {},
   "outputs": [
    {
     "name": "stdout",
     "output_type": "stream",
     "text": [
      "Enter number of terms\n",
      "0 \n",
      "0 1 \n",
      "0 1 1 \n",
      "0 1 1 2 \n"
     ]
    }
   ],
   "source": [
    "import java.util.Scanner;\n",
    "\n",
    "\n",
    "public class FibonacciR extends Fibonacci {\n",
    "    \n",
    "    public FibonacciR() {\n",
    "        super();\n",
    "    }\n",
    "\n",
    "    public int fibR(int n) {\n",
    "        if(n==0) {\n",
    "            return n;\n",
    "        }\n",
    "        else if(n==1) {\n",
    "            return n;\n",
    "        }\n",
    "        else {\n",
    "            return fibR(n-1) + fibR(n-2); //use of recursion\n",
    "        }\n",
    "    }\n",
    "\n",
    "    public void print(int n)\n",
    "    {\n",
    "        for(int i=0;i<n;i++) {\n",
    "            System.out.print(fibR(i)+\" \");\n",
    "        }\n",
    "        System.out.println();\n",
    "    }\n",
    "\n",
    "    public static void main(String[] args) {\n",
    "        Scanner sc = new Scanner(System.in);\n",
    "        System.out.println(\"Enter number of terms\");\n",
    "        int n = sc.nextInt()+1;\n",
    "        if (n<2) {\n",
    "            System.out.println(\"Booboo, you entered a wrong number. Please try again later\");\n",
    "        }\n",
    "        else {\n",
    "            FibonacciR fi= new FibonacciR();\n",
    "            for(int i=1;i<n;i++)\n",
    "                fi.print(i);\n",
    "        }    \n",
    "    }\n",
    "}\n",
    "FibonacciR.main(null)"
   ]
  },
  {
   "cell_type": "markdown",
   "metadata": {},
   "source": [
    "### Iteration using While loop"
   ]
  },
  {
   "cell_type": "code",
   "execution_count": 5,
   "metadata": {},
   "outputs": [
    {
     "name": "stdout",
     "output_type": "stream",
     "text": [
      "Enter number of terms\n",
      "Standard Sequence\n",
      "0 \n",
      "0 1 \n",
      "0 1 1 \n",
      "0 1 1 2 \n"
     ]
    }
   ],
   "source": [
    "import java.util.Scanner;\n",
    "\n",
    "public class FibonacciW extends Fibonacci {\n",
    "\n",
    "    public FibonacciW() {\n",
    "        super();\n",
    "    }\n",
    "\n",
    "    public int ar[];\n",
    "    public FibonacciW(int n) {\n",
    "        ar = new int[n]; \n",
    "    }\n",
    "\n",
    "    public void fibo(int n) {\n",
    "        ar[0]=0;\n",
    "        ar[1]=1;\n",
    "        if (n==1) {\n",
    "            ar[0]=0;\n",
    "        }\n",
    "        if(n==2) {\n",
    "            ar[0]=0;\n",
    "            ar[1]=1;\n",
    "        }\n",
    "        int i = 2;\n",
    "        while(i<n) { //use of while loop\n",
    "            ar[i]=ar[i-1]+ar[i-2];\n",
    "            i++;\n",
    "        }\n",
    "        print(n);\n",
    "    }\n",
    "\n",
    "    private void print(int n) {\n",
    "        int i=0;\n",
    "        while(i<n) {\n",
    "            System.out.print(ar[i]+\" \");\n",
    "            i++;\n",
    "        }\n",
    "        System.out.println();\n",
    "    }\n",
    "    public static void main(String[] args) {\n",
    "        int n;\n",
    "        Scanner sc = new Scanner(System.in);\n",
    "        System.out.println(\"Enter number of terms\");\n",
    "        n = sc.nextInt()+1;\n",
    "        if (n<2) {\n",
    "            System.out.println(\"Booboo, you entered a wrong number. Please try again later\");\n",
    "        }\n",
    "        else {\n",
    "            System.out.println(\"Standard Sequence\");\n",
    "            FibonacciW f= new FibonacciW(n);\n",
    "            for(int i = 1; i<n;i++) {\n",
    "                f.fibo(i);\n",
    "            }\n",
    "        }\n",
    "\n",
    "    }\n",
    "}\n",
    "FibonacciW.main(null)"
   ]
  }
 ],
 "metadata": {
  "kernelspec": {
   "display_name": "Java",
   "language": "java",
   "name": "java"
  },
  "language_info": {
   "codemirror_mode": "java",
   "file_extension": ".jshell",
   "mimetype": "text/x-java-source",
   "name": "java",
   "pygments_lexer": "java",
   "version": "11.0.16+8-post-Ubuntu-0ubuntu120.04"
  },
  "orig_nbformat": 4,
  "vscode": {
   "interpreter": {
    "hash": "916dbcbb3f70747c44a77c7bcd40155683ae19c65e1c03b4aa3499c5328201f1"
   }
  }
 },
 "nbformat": 4,
 "nbformat_minor": 2
}
