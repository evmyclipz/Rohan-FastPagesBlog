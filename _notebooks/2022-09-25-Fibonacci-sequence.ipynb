{
 "cells": [
  {
   "cell_type": "markdown",
   "metadata": {},
   "source": [
    "# Fibonacci Sequence \n",
    "\n",
    "- title: Fibonacci Sequence\n",
    "- toc: true \n",
    "- badges: true\n",
    "- comments: true\n",
    "- categories: [jupyter]"
   ]
  },
  {
   "cell_type": "code",
   "execution_count": 18,
   "metadata": {
    "vscode": {
     "languageId": "java"
    }
   },
   "outputs": [
    {
     "name": "stdout",
     "output_type": "stream",
     "text": [
      "Enter number of terms that is greater than 2 \n",
      "Standard Sequence\n",
      "0 \n",
      "0 1 \n",
      "0 1 1 \n",
      "0 1 1 2 \n",
      "0 1 1 2 3 \n",
      "0 1 1 2 3 5 \n",
      "0 1 1 2 3 5 8 \n",
      "0 1 1 2 3 5 8 13 \n",
      "0 1 1 2 3 5 8 13 21 \n",
      "0 1 1 2 3 5 8 13 21 34 \n"
     ]
    }
   ],
   "source": [
    "import java.util.Scanner;\n",
    "\n",
    "public class Fibonacchi {\n",
    "\n",
    "    public int ar[];\n",
    "    public Fibonacchi(int n) {\n",
    "        ar = new int[n]; \n",
    "    }\n",
    "    public void fibo(int n) {\n",
    "        ar[0]=0;\n",
    "        ar[1]=1;\n",
    "        if (n==1) {\n",
    "            ar[0]=0;\n",
    "        }\n",
    "        if(n==2) {\n",
    "            ar[0]=0;\n",
    "            ar[1]=1;\n",
    "        }\n",
    "        for(int i=2;i<n;i++) {\n",
    "            ar[i]=ar[i-1]+ar[i-2];\n",
    "        }\n",
    "        print(n);\n",
    "    }\n",
    "\n",
    "    private void print(int n) {\n",
    "        for(int i=0;i<n;i++) {\n",
    "            System.out.print(ar[i]+\" \");\n",
    "        }\n",
    "        System.out.println();\n",
    "    }\n",
    "    public static void main(String[] args) {\n",
    "        int n;\n",
    "        Scanner sc = new Scanner(System.in);\n",
    "        System.out.println(\"Enter number of terms that is greater than 2 \");\n",
    "        n = sc.nextInt()+1;\n",
    "        if (n<2) {\n",
    "            System.out.println(\"Booboo, you entered a wrong number. Please try again later\");\n",
    "        }\n",
    "        else {\n",
    "            System.out.println(\"Standard Sequence\");\n",
    "            Fibonacchi f= new Fibonacchi(n);\n",
    "            for(int i = 1; i<n;i++) {\n",
    "                f.fibo(i);\n",
    "            }\n",
    "        }\n",
    "        \n",
    "\n",
    "    }\n",
    "}\n",
    "Fibonacchi.main(null)"
   ]
  },
  {
   "cell_type": "code",
   "execution_count": 9,
   "metadata": {
    "vscode": {
     "languageId": "java"
    }
   },
   "outputs": [],
   "source": [
    "public class Fibonacci {\n",
    "    public static int fib(int n) {\n",
    "        if(n<=1) {\n",
    "            return n;\n",
    "        }\n",
    "        else {\n",
    "            return fib(n-1) + fib(n-2);\n",
    "        }\n",
    "    }\n",
    "\n",
    "    public static void main(String[] args) {\n",
    "        int n=9;\n",
    "        if(n<0) {\n",
    "            System.out.println(\"No negetives\");\n",
    "        }\n",
    "        else \n",
    "            System.out.println(fib(n));\n",
    "    }\n",
    "}"
   ]
  },
  {
   "cell_type": "code",
   "execution_count": 44,
   "metadata": {
    "vscode": {
     "languageId": "java"
    }
   },
   "outputs": [
    {
     "ename": "CompilationException",
     "evalue": "",
     "output_type": "error",
     "traceback": [
      "\u001b[1m\u001b[30m|   \u001b[1m\u001b[30m    ar[\u001b[0m\u001b[1m\u001b[30m\u001b[41m\u001b[0m\u001b[1m\u001b[30m0]=0;\u001b[0m",
      "\u001b[1m\u001b[31m']' expected\u001b[0m",
      "",
      "\u001b[1m\u001b[30m|   \u001b[1m\u001b[30m    ar[\u001b[0m\u001b[1m\u001b[30m\u001b[41m\u001b[0m\u001b[1m\u001b[30m1]=1;\u001b[0m",
      "\u001b[1m\u001b[31m']' expected\u001b[0m",
      ""
     ]
    }
   ],
   "source": [
    "import java.util.Scanner;\n",
    "\n",
    "public class Fibonacchi {\n",
    "\n",
    "    public int ar[];\n",
    "    \n",
    "    ar[0]=0;\n",
    "    \n",
    "    ar[1]=1;\n",
    "\n",
    "    public void fibo(int n) {\n",
    "        int i;\n",
    "        while(i<=n) {\n",
    "            ar[i]=ar[i-1]+ar[i-2];\n",
    "        }\n",
    "    }\n",
    "    public static void main(String[] args) {\n",
    "        int n;\n",
    "        Fibonacchi f= new Fibonacchi();\n",
    "        Scanner sc = new Scanner(System.in);\n",
    "        System.out.println(\"Enter number of terms\");\n",
    "        n = sc.nextInt();\n",
    "        f.fibo(n);\n",
    "        System.out.println(\"Standard Sequence\");\n",
    "        for(int i=0;i<=n;i++) {\n",
    "            System.out.println(ar[i]);\n",
    "        }\n",
    "\n",
    "    }\n",
    "}"
   ]
  }
 ],
 "metadata": {
  "kernelspec": {
   "display_name": "Java",
   "language": "java",
   "name": "java"
  },
  "language_info": {
   "codemirror_mode": "java",
   "file_extension": ".jshell",
   "mimetype": "text/x-java-source",
   "name": "Java",
   "pygments_lexer": "java",
   "version": "11.0.16+8-post-Ubuntu-0ubuntu120.04"
  },
  "orig_nbformat": 4,
  "vscode": {
   "interpreter": {
    "hash": "916dbcbb3f70747c44a77c7bcd40155683ae19c65e1c03b4aa3499c5328201f1"
   }
  }
 },
 "nbformat": 4,
 "nbformat_minor": 2
}
