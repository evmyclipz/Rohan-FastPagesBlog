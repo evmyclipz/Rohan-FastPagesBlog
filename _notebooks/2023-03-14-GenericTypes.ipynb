{
 "cells": [
  {
   "attachments": {},
   "cell_type": "markdown",
   "metadata": {},
   "source": [
    "# Data Management with LL and interfaces\n",
    "  \n",
    "- title: Data Management with LL and interfaces\n",
    "- toc: true \n",
    "- badges: true\n",
    "- comments: true\n",
    "- categories: [jupyter]"
   ]
  },
  {
   "attachments": {},
   "cell_type": "markdown",
   "metadata": {},
   "source": [
    "### Classes and Objects\n",
    "\n",
    "##### Constructing Objects using classes\n",
    "* Constructor header with parameters\n",
    "* Accessors methods and getName and getAge and getLocation methods\n",
    "* Mutator methods with each have a parameter\n",
    "\n",
    "##### Calling methods on objects\n",
    "* Ex. Person teacher = new Person(\"Mr. Schultz\", 39, \"Ohio\")\n",
    "* Class objectName = new Class(parameters)\n",
    "* `object.method` to call methods on objects\n",
    "* Ex. teacher.getLocation(); or teacher.changeLocation(\"Florida\");\n",
    "\n",
    "##### Calling Static methods in classes\n",
    "* THe math class provides static methods that we can utilize through the `class.method()` convention\n",
    "* math class : static int abs(int x); \n",
    "* Ex. Math.abs(-45) // print 45\n",
    "\n",
    "##### Using the String class\n",
    "* String word = \"theater\" where the first letter starts with the index 0.\n",
    "* `object.method()` \n",
    "* Ex. word.length();\n",
    "\n",
    "\n",
    "Practice: MC\n",
    "* Its choice D because it passes the parameters in the correct manner with int and double.\n",
    "* Its choice E because it creates the object p1 and p2 and passes it into the new object with the line\n",
    "\n",
    "Practice: FRQ\n",
    "`public class CombinedTable{\n",
    "    private SingleTable table1;\n",
    "    private SingleTable table2;\n",
    "\n",
    "    public CombinedTable(SingleTable t1, SingleTable t2){\n",
    "        table1 = t1;\n",
    "        table2 = t2\n",
    "    }\n",
    "\n",
    "    public boolean canSeat(int n) {\n",
    "        if(table1.getNumSeats() + table2.getNumSeats() - 2 >= n)\n",
    "        {\n",
    "            return true;\n",
    "        }\n",
    "        else {\n",
    "            return false;\n",
    "        }\n",
    "    }\n",
    "\n",
    "    public double getDesirability() {\n",
    "        if(table1.getHeight() == table2.getHeight()) {\n",
    "            return table1.getViewQuality() + table2.getViewQuality()/2;\n",
    "        }\n",
    "        else{\n",
    "            return table1.getViewQuality() + table2.getViewQuality()/2 - 10;\n",
    "        }\n",
    "    }\n",
    "}`"
   ]
  },
  {
   "cell_type": "markdown",
   "metadata": {},
   "source": []
  }
 ],
 "metadata": {
  "kernelspec": {
   "display_name": "Java",
   "language": "java",
   "name": "java"
  },
  "language_info": {
   "name": "java"
  },
  "orig_nbformat": 4
 },
 "nbformat": 4,
 "nbformat_minor": 2
}
