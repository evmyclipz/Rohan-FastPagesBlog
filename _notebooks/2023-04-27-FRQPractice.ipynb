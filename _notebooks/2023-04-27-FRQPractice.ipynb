{
 "cells": [
  {
   "attachments": {},
   "cell_type": "markdown",
   "metadata": {},
   "source": [
    "# FRQ Practice\n",
    "  \n",
    "- title: FRQ Practice\n",
    "- toc: true \n",
    "- badges: true\n",
    "- comments: true\n",
    "- categories: [jupyter]"
   ]
  },
  {
   "cell_type": "code",
   "execution_count": 5,
   "metadata": {
    "vscode": {
     "languageId": "java"
    }
   },
   "outputs": [
    {
     "name": "stdout",
     "output_type": "stream",
     "text": [
      "5175000.0\n",
      "4680000.0\n"
     ]
    }
   ],
   "source": [
    "public interface Item {\n",
    "    double purchasePrice();\n",
    "}\n",
    "public abstract class TaxableItem implements Item {\n",
    "    private double taxRate;\n",
    "    public abstract double getListPrice();\n",
    "\n",
    "    public TaxableItem(double rate) {\n",
    "        taxRate = rate;\n",
    "    }\n",
    "\n",
    "    public double purchasePrice() {\n",
    "        return getListPrice()*(1+taxRate);\n",
    "    } \n",
    "}\n",
    "\n",
    "public class Vehicle extends TaxableItem {\n",
    "    private double dealerCost;\n",
    "    private double dealerMarkUp;\n",
    "\n",
    "    public Vehicle(double dealerCost, double dealerMarkUp, double taxRate) {\n",
    "        super(taxRate);\n",
    "        this.dealerCost = dealerCost;\n",
    "        this.dealerMarkUp = dealerMarkUp;\n",
    "    }\n",
    "\n",
    "    public void changeMarkup(double dealerMarkUp) {\n",
    "        this.dealerMarkUp = dealerMarkUp;\n",
    "    }\n",
    "\n",
    "    public double getListPrice() {\n",
    "        return dealerMarkUp + dealerCost;\n",
    "    }\n",
    "\n",
    "    public static void main(String[] args) {\n",
    "        Vehicle AgeraR = new Vehicle(3000000.00, 450000.00, 0.50);\n",
    "        double price = AgeraR.purchasePrice();\n",
    "\n",
    "        System.out.println(price);\n",
    "\n",
    "        AgeraR.changeMarkup(120000.00);\n",
    "        double price1 = AgeraR.purchasePrice();\n",
    "\n",
    "        System.out.println(price1);\n",
    "\n",
    "    }\n",
    "}\n",
    "Vehicle.main(null)"
   ]
  }
 ],
 "metadata": {
  "kernelspec": {
   "display_name": "Java",
   "language": "java",
   "name": "java"
  },
  "language_info": {
   "codemirror_mode": "java",
   "file_extension": ".jshell",
   "mimetype": "text/x-java-source",
   "name": "Java",
   "pygments_lexer": "java",
   "version": "11.0.16+8-post-Ubuntu-0ubuntu120.04"
  },
  "orig_nbformat": 4
 },
 "nbformat": 4,
 "nbformat_minor": 2
}
