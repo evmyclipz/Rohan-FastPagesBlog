{
 "cells": [
  {
   "attachments": {},
   "cell_type": "markdown",
   "metadata": {},
   "source": [
    "# FRQ Practice\n",
    "  \n",
    "- title: FRQ Practice\n",
    "- toc: true \n",
    "- badges: true\n",
    "- comments: true\n",
    "- categories: [jupyter]"
   ]
  },
  {
   "cell_type": "code",
   "execution_count": 5,
   "metadata": {
    "vscode": {
     "languageId": "java"
    }
   },
   "outputs": [
    {
     "name": "stdout",
     "output_type": "stream",
     "text": [
      "5175000.0\n",
      "4680000.0\n"
     ]
    }
   ],
   "source": [
    "public interface Item {\n",
    "    double purchasePrice();\n",
    "}\n",
    "public abstract class TaxableItem implements Item {\n",
    "    private double taxRate;\n",
    "    public abstract double getListPrice();\n",
    "\n",
    "    public TaxableItem(double rate) {\n",
    "        taxRate = rate;\n",
    "    }\n",
    "\n",
    "    public double purchasePrice() {\n",
    "        return getListPrice()*(1+taxRate);\n",
    "    } \n",
    "}\n",
    "\n",
    "public class Vehicle extends TaxableItem {\n",
    "    private double dealerCost;\n",
    "    private double dealerMarkUp;\n",
    "\n",
    "    public Vehicle(double dealerCost, double dealerMarkUp, double taxRate) {\n",
    "        super(taxRate);\n",
    "        this.dealerCost = dealerCost;\n",
    "        this.dealerMarkUp = dealerMarkUp;\n",
    "    }\n",
    "\n",
    "    public void changeMarkup(double dealerMarkUp) {\n",
    "        this.dealerMarkUp = dealerMarkUp;\n",
    "    }\n",
    "\n",
    "    public double getListPrice() {\n",
    "        return dealerMarkUp + dealerCost;\n",
    "    }\n",
    "\n",
    "    public static void main(String[] args) {\n",
    "        Vehicle AgeraR = new Vehicle(3000000.00, 450000.00, 0.50);\n",
    "        double price = AgeraR.purchasePrice();\n",
    "\n",
    "        System.out.println(price);\n",
    "\n",
    "        AgeraR.changeMarkup(120000.00);\n",
    "        double price1 = AgeraR.purchasePrice();\n",
    "\n",
    "        System.out.println(price1);\n",
    "\n",
    "    }\n",
    "}\n",
    "Vehicle.main(null)"
   ]
  },
  {
   "attachments": {},
   "cell_type": "markdown",
   "metadata": {},
   "source": [
    "### FRQ Practice - 2D arrays"
   ]
  },
  {
   "cell_type": "code",
   "execution_count": 6,
   "metadata": {
    "vscode": {
     "languageId": "java"
    }
   },
   "outputs": [
    {
     "name": "stdout",
     "output_type": "stream",
     "text": [
      "0.3\n",
      "0.7\n",
      "0.8\n",
      "1.1\n",
      "1.4\n",
      "0.4\n",
      "0.2\n",
      "0.5\n",
      "0.1\n",
      "0.9\n",
      "0.6\n",
      "1.6\n",
      "0.8\n"
     ]
    }
   ],
   "source": [
    "public class SkyView {\n",
    "    private double[][] view;\n",
    "\n",
    "    public SkyView(int numRows, int numCols, double[] scanned) {\n",
    "        this.view = new double[numRows][numCols];\n",
    "        if(numRows > 0 && numCols > 0) {\n",
    "            int index = 0;\n",
    "            for(int i = 0; i < numRows; i++) {\n",
    "                if(i%2 != 0) {\n",
    "                    for(int j = numCols-1; j >= 0; j--) {\n",
    "                        this.view[i][j] = scanned[index];\n",
    "                        index++;\n",
    "                    }\n",
    "                }\n",
    "                else {\n",
    "                    for(int j = 0; j < numCols; j++) {\n",
    "                        this.view[i][j] = scanned[index];\n",
    "                        index++;\n",
    "                    }\n",
    "                }\n",
    "            }\n",
    "        }\n",
    "    }\n",
    "\n",
    "    public double getAverage(int startRow, int endRow, int startCol, int endCol) {\n",
    "        double sum = 0;\n",
    "        int count = 0;\n",
    "        for(int i = startRow; i <= endRow; i++) {\n",
    "            for(int j = startCol; j <= endCol; j++) {\n",
    "                sum+= view[i][j];\n",
    "                count++;\n",
    "            }\n",
    "        }\n",
    "        return (sum/count);\n",
    "    }\n",
    "\n",
    "    public void print() {\n",
    "        for(int i = 0; i < view.length; i++) {\n",
    "            for(int j = 0; j < view[i].length; j++) {\n",
    "                System.out.println(view[i][j]);\n",
    "            }\n",
    "        }\n",
    "    }\n",
    "\n",
    "    public static void main(String[] args) {\n",
    "        double[] scanned = {0.3, 0.7, 0.8, 0.4, 1.4, 1.1, 0.2, 0.5, 0.1, 1.6, 0.6, 0.9};\n",
    "        SkyView dataSet = new SkyView(4, 3, scanned);\n",
    "\n",
    "        dataSet.print();\n",
    "\n",
    "        System.out.println(dataSet.getAverage(1, 2, 0, 1));\n",
    "    }\n",
    "}\n",
    "SkyView.main(null)"
   ]
  },
  {
   "cell_type": "code",
   "execution_count": null,
   "metadata": {
    "vscode": {
     "languageId": "java"
    }
   },
   "outputs": [],
   "source": [
    "public class Item\n",
    "{\n",
    "    private String name;\n",
    "    private int value;\n",
    "    \n",
    "    public Item(String itemName, int itemValue)\n",
    "    {\n",
    "        name = itemName;\n",
    "        value = itemValue;\n",
    "    }\n",
    "    \n",
    "    public String getName()\n",
    "    {\n",
    "        return name;\n",
    "    }\n",
    "    \n",
    "    public int getValue()\n",
    "    {\n",
    "        return value;\n",
    "    }\n",
    "}\n",
    "\n",
    "public class ItemGrid\n",
    "{\n",
    "    private Item[][] grid;\n",
    "    \n",
    "    // Constructor not shown\n",
    "    public ItemGrid(int row, int col) {\n",
    "        \n",
    "    }\n",
    "    \n",
    "    /** Returns true if xPos is a valid row index and yPos is a valid\n",
    "    * column index and returns false otherwise.\n",
    "    */\n",
    "    public boolean isValid(int xPos, int yPos) { \n",
    "        /* implementation not shown */\n",
    "        \n",
    "    }\n",
    "    \n",
    "    /** Compares the item in row r and column c to the items to its\n",
    "    * left and to its right. Returns the name of the item with\n",
    "    * the greatest value, as described in part (a).\n",
    "    * Precondition: r and c are valid indices\n",
    "    */\n",
    "    public String mostValuableNeighbor(int r, int c) { \n",
    "        /* to be implemented in part (a) */\n",
    "        String greatest = grid[r][c].getName();\n",
    "        int greatestVal = grid[r][c].getValue();\n",
    "        if(isValid(r, c-1) && grid[r][c-1].getValue() > greatestVal) {\n",
    "            greatest = grid[r][c-1].getName();\n",
    "            greatestVal = grid[r][c-1].getValue();\n",
    "        }\n",
    "        if(isValid(r, c+1) && grid[r][c+1].getValue() > greatestVal) {\n",
    "            greatest = grid[r][c+1].getName();\n",
    "        }\n",
    "        return greatest;\n",
    "    }\n",
    "    \n",
    "    /** Returns the average value of all the items in grid,\n",
    "    * as described in part (b).\n",
    "    */\n",
    "    public double findAverage() { \n",
    "        /* to be implemented in part (b) */\n",
    "        double sum = 0;\n",
    "        double count = 0;\n",
    "        for(int i = 0; i < grid.length; i++) {\n",
    "            for(int j = 0; j < grid[i].length; j++) {\n",
    "                sum += grid[i][j].getValue();\n",
    "                count++;\n",
    "            }\n",
    "        }\n",
    "        return (sum/count); \n",
    "    }\n",
    "    \n",
    "}\n",
    "\n"
   ]
  },
  {
   "cell_type": "code",
   "execution_count": 2,
   "metadata": {
    "vscode": {
     "languageId": "java"
    }
   },
   "outputs": [
    {
     "name": "stdout",
     "output_type": "stream",
     "text": [
      "-1\n",
      "-1\n",
      "2\n",
      "2\n",
      "3\n",
      "3\n",
      "-1\n",
      "-1\n",
      "2\n",
      "2\n",
      "3\n",
      "3\n",
      "5\n",
      "5\n",
      "4\n",
      "4\n",
      "6\n",
      "6\n",
      "5\n",
      "5\n",
      "4\n",
      "4\n",
      "6\n",
      "6\n"
     ]
    }
   ],
   "source": [
    "public class MatrixOp {\n",
    "    public static int diagonalOp(int[][] matA, int[][] matB) {\n",
    "        int sum = 0;\n",
    "        for(int i = 0; i < matA.length; i++) {\n",
    "            for(int j = 0; j < matA[i].length; j++) {\n",
    "                if(i == j) {\n",
    "                    sum += (matA[i][j] * matB[i][j]);\n",
    "                }\n",
    "            }\n",
    "        }\n",
    "        return sum;\n",
    "    }\n",
    "\n",
    "    public static int[][] expandMatrix(int[][] matA) {\n",
    "        int rows = matA.length * 2;\n",
    "        int cols = matA[0].length * 2;\n",
    "        int r = 0;\n",
    "        int c = 0;\n",
    "        int[][] mat4 = new int[rows][cols];\n",
    "        for(int i = 0; i < mat4.length; i++) {\n",
    "            c = 0;\n",
    "            if(i != 0 && i%2 == 0) {\n",
    "                r++;\n",
    "            }\n",
    "            for(int j = 0; j < mat4[i].length; j++) {\n",
    "                if(j != 0 && j%2 == 0) {\n",
    "                    c++;\n",
    "                }\n",
    "                mat4[i][j] = matA[r][c]; \n",
    "            }\n",
    "        }\n",
    "        return mat4;\n",
    "    }\n",
    "\n",
    "    public static void main(String[] args) {\n",
    "        int[][] mat1 = {{2, 4, 2},\n",
    "                        {8, 5, 1},\n",
    "                        {4, 2, 4}};\n",
    "\n",
    "        int[][] mat2 = {{-1, 8, 9},\n",
    "                        {6, 3, 5},\n",
    "                        {5, 1, 2}};\n",
    "\n",
    "        //System.out.println(diagonalOp(mat1, mat2));\n",
    "\n",
    "        int[][] mat3 = {{-1, 2, 3},\n",
    "                        {5, 4, 6}};\n",
    "\n",
    "        int[][] newArr = expandMatrix(mat3);\n",
    "        \n",
    "        for(int[] row : newArr) {\n",
    "            for(int val : row) {\n",
    "                System.out.println(val);\n",
    "            }\n",
    "        }\n",
    "    }\n",
    "}\n",
    "MatrixOp.main(null)"
   ]
  },
  {
   "attachments": {},
   "cell_type": "markdown",
   "metadata": {},
   "source": [
    "### MCQ practice"
   ]
  },
  {
   "cell_type": "code",
   "execution_count": 22,
   "metadata": {
    "vscode": {
     "languageId": "java"
    }
   },
   "outputs": [
    {
     "name": "stdout",
     "output_type": "stream",
     "text": [
      "3.5\n",
      "false  false\n"
     ]
    }
   ],
   "source": [
    "public class Bird\n",
    "{\n",
    "    String n1;\n",
    "    String n2;\n",
    "    boolean cr;\n",
    "\n",
    "    public Bird(String a,String b,boolean c)\n",
    "    {\n",
    "        n1=a;\n",
    "        n2=b;\n",
    "        cr=c;\n",
    "    }\n",
    "/* \n",
    "    public Bird(String b,String a,boolean c)\n",
    "    {\n",
    "        n1=b;\n",
    "        n2=a;\n",
    "        cr=c;\n",
    "    }*/\n",
    "\n",
    "    public Bird(boolean c,String b,String a)\n",
    "    {\n",
    "        n1=b;\n",
    "        n2=a;\n",
    "        cr=c;\n",
    "    }\n",
    "\n",
    "    public static void main(String[] args)\n",
    "    {\n",
    "        double val=2.0/4+3;\n",
    "        System.out.println(val);\n",
    "        boolean a=true,b=true,c=false;\n",
    "        boolean c1 = !(a && b) || c;\n",
    "        boolean c2 = !a || !b || c;\n",
    "        System.out.println(c1+\"  \"+c1);\n",
    "    }\n",
    "}\n",
    "Bird.main(null)"
   ]
  },
  {
   "cell_type": "code",
   "execution_count": 1,
   "metadata": {
    "vscode": {
     "languageId": "java"
    }
   },
   "outputs": [
    {
     "name": "stdout",
     "output_type": "stream",
     "text": [
      "**\n",
      "***\n",
      "****\n",
      "*****\n"
     ]
    }
   ],
   "source": [
    "public static void stars(int num)\n",
    "{\n",
    "    if (num == 1)\n",
    "    {\n",
    "        return;\n",
    "    }\n",
    "    stars(num - 1);\n",
    "    for (int i = 0; i < num; i++)\n",
    "    {\n",
    "        System.out.print(\"*\");\n",
    "    }\n",
    "    System.out.println();\n",
    "}\n",
    "\n",
    "stars(5);\n"
   ]
  },
  {
   "cell_type": "code",
   "execution_count": 12,
   "metadata": {
    "vscode": {
     "languageId": "java"
    }
   },
   "outputs": [
    {
     "name": "stdout",
     "output_type": "stream",
     "text": [
      "the song\n"
     ]
    },
    {
     "ename": "EvalException",
     "evalue": "String index out of range: -1",
     "output_type": "error",
     "traceback": [
      "\u001b[1m\u001b[31m---------------------------------------------------------------------------\u001b[0m",
      "\u001b[1m\u001b[31mjava.lang.StringIndexOutOfBoundsException: String index out of range: -1\u001b[0m",
      "\u001b[1m\u001b[31m\tat java.base/java.lang.String.substring(String.java:1841)\u001b[0m",
      "\u001b[1m\u001b[31m\tat .abMethod(#14:5)\u001b[0m",
      "\u001b[1m\u001b[31m\tat .(#29:1)\u001b[0m"
     ]
    }
   ],
   "source": [
    "public static String abMethod(String a, String b)\n",
    "{\n",
    "    int x = a.indexOf(b);\n",
    "    while (x >= 0) {\n",
    "        System.out.println(a.substring(x + b.length()+1));\n",
    "        a = a.substring(0, x) + a.substring(x + b.length());\n",
    "        x = a.indexOf(b);\n",
    "        //System.out.println(x);\n",
    "    }\n",
    "    return a;\n",
    "}\n",
    "\n",
    "System.out.println(abMethod(\"sing the song\", \"ng\"));\n"
   ]
  },
  {
   "cell_type": "code",
   "execution_count": 21,
   "metadata": {
    "vscode": {
     "languageId": "java"
    }
   },
   "outputs": [
    {
     "ename": "UnresolvedReferenceException",
     "evalue": "Attempt to use definition snippet with unresolved references in Snippet:ClassKey(ClassB)#31-\npublic class ClassB extends ClassA\n{\n     \n    public String getValue()\n    {\n        return \"B\";\n    }\n    \n\n    public static void main(String[] args) {\n        ClassA obj = new ClassB();\n        System.out.println(obj.getValue());\n    }\n}",
     "output_type": "error",
     "traceback": [
      "\u001b[1m\u001b[30m|   \u001b[1m\u001b[30m\u001b[0m",
      "\u001b[1m\u001b[30m|   \u001b[1m\u001b[30mpublic class ClassB extends ClassA\u001b[0m",
      "\u001b[1m\u001b[30m|   \u001b[1m\u001b[30m{\u001b[0m",
      "\u001b[1m\u001b[30m|   \u001b[1m\u001b[30m     \u001b[0m",
      "\u001b[1m\u001b[30m|   \u001b[1m\u001b[30m    public String getValue()\u001b[0m",
      "\u001b[1m\u001b[30m|   \u001b[1m\u001b[30m    {\u001b[0m",
      "\u001b[1m\u001b[30m|   \u001b[1m\u001b[30m        return \"B\";\u001b[0m",
      "\u001b[1m\u001b[30m|   \u001b[1m\u001b[30m    }\u001b[0m",
      "\u001b[1m\u001b[30m|   \u001b[1m\u001b[30m    \u001b[0m",
      "\u001b[1m\u001b[30m|   \u001b[1m\u001b[30m\u001b[0m",
      "\u001b[1m\u001b[30m|   \u001b[1m\u001b[30m    public static void main(String[] args) {\u001b[0m",
      "\u001b[1m\u001b[30m|   \u001b[1m\u001b[30m        ClassA obj = new ClassB();\u001b[0m",
      "\u001b[1m\u001b[30m|   \u001b[1m\u001b[30m        System.out.println(obj.getValue());\u001b[0m",
      "\u001b[1m\u001b[30m|   \u001b[1m\u001b[30m    }\u001b[0m",
      "\u001b[1m\u001b[30m|   \u001b[1m\u001b[30m}\u001b[0m",
      "\u001b[1m\u001b[31mUnresolved dependencies:\u001b[0m",
      "\u001b[1m\u001b[31m   - method getValue()\u001b[0m"
     ]
    }
   ],
   "source": [
    "public class ClassA\n",
    "{\n",
    "    /* \n",
    "    public String getValue()\n",
    "    {\n",
    "        return \"A\";\n",
    "    }\n",
    "    */\n",
    "    public void showValue()\n",
    "    {\n",
    "        System.out.print(getValue());\n",
    "    }\n",
    "}\n",
    "public class ClassB extends ClassA\n",
    "{\n",
    "     \n",
    "    public String getValue()\n",
    "    {\n",
    "        return \"B\";\n",
    "    }\n",
    "    \n",
    "\n",
    "    public static void main(String[] args) {\n",
    "        ClassA obj = new ClassB();\n",
    "        System.out.println(obj.getValue());\n",
    "    }\n",
    "}\n",
    "\n",
    "public class Main {\n",
    "    public static void main(String[] args) {\n",
    "        ClassA obj = new ClassB();\n",
    "        System.out.println(obj.getValue());\n",
    "    }\n",
    "}\n",
    "ClassB.main(null)"
   ]
  },
  {
   "attachments": {},
   "cell_type": "markdown",
   "metadata": {},
   "source": [
    "### FRQ Practice - ArrayList"
   ]
  },
  {
   "attachments": {},
   "cell_type": "markdown",
   "metadata": {},
   "source": [
    "### 2"
   ]
  },
  {
   "cell_type": "code",
   "execution_count": 23,
   "metadata": {
    "vscode": {
     "languageId": "java"
    }
   },
   "outputs": [
    {
     "name": "stdout",
     "output_type": "stream",
     "text": [
      "1\n",
      "3\n",
      "4\n",
      "5\n"
     ]
    }
   ],
   "source": [
    "\n",
    "\n",
    "public class CarRepair {\n",
    "\n",
    "    private int mechanicNum;\n",
    "    private int bayNum;\n",
    "\n",
    "    public CarRepair(int m, int b) {\n",
    "        mechanicNum = m;\n",
    "        bayNum = b;\n",
    "    }\n",
    "\n",
    "    \n",
    "\n",
    "    public int getMechanicNum() { \n",
    "        return mechanicNum; \n",
    "    }\n",
    "\n",
    "    \n",
    "\n",
    "    public int getBayNum() { \n",
    "        return bayNum; \n",
    "    }\n",
    "    // There may be other instance variables, constructors, and methods not shown.\n",
    "\n",
    "}\n",
    "\n",
    "\n",
    "\n",
    "public class RepairSchedule {\n",
    "\n",
    "    /** Each element represents a repair by an individual mechanic in a bay. */\n",
    "    private ArrayList<CarRepair> schedule;\n",
    "\n",
    "    /** Number of mechanics available in this schedule. */\n",
    "    private int numberOfMechanics;\n",
    "\n",
    "    /** Constructs a RepairSchedule object.\n",
    "    * Precondition: n >= 0\n",
    "    */\n",
    "    public RepairSchedule(int n) {\n",
    "        schedule = new ArrayList<CarRepair>();\n",
    "        numberOfMechanics = n;        \n",
    "    }\n",
    "\n",
    "    \n",
    "    /** Attempts to schedule a repair by a given mechanic in a given bay as described in part (a).\n",
    "    * Precondition: 0 <= m < numberOfMechanics and b >= 0\n",
    "    */\n",
    "    public boolean addRepair(int m, int b) {\n",
    "        /* to be implemented in part (a) */\n",
    "        for(int i = 0; i < schedule.size(); i++) {\n",
    "            if(schedule.get(i).getMechanicNum() == m || schedule.get(i).getBayNum() == b) {\n",
    "                return false;\n",
    "            }\n",
    "        }\n",
    "        schedule.add(new CarRepair(m , b));\n",
    "        return true;\n",
    "    }\n",
    "\n",
    "    \n",
    "\n",
    "    /** Returns an ArrayList containing the mechanic identifiers of all available mechanics,\n",
    "    * as described in part (b).\n",
    "    */\n",
    "    public ArrayList<Integer> availableMechanics() {\n",
    "        /* to be implemented in part (b) */\n",
    "        ArrayList<Integer> mechAvail = new ArrayList<Integer>();\n",
    "        boolean flag=false;\n",
    "        for(int i = 0; i < numberOfMechanics; i++) {\n",
    "            for(int j = 0; j < schedule.size(); j++) {\n",
    "                if(schedule.get(j).getMechanicNum() == i) {\n",
    "                    flag=true;\n",
    "                    break;\n",
    "                }\n",
    "            }\n",
    "            if(!flag)\n",
    "            {\n",
    "                mechAvail.add(i);\n",
    "            }\n",
    "            flag=false;\n",
    "        }\n",
    "        return mechAvail;\n",
    "    }\n",
    "\n",
    "    /** Removes an element from schedule when a repair is complete. */\n",
    "    public void carOut(int b) {\n",
    "\n",
    "    }\n",
    "\n",
    "    public static void main(String[] args) {\n",
    "        RepairSchedule rs =new RepairSchedule(6);\n",
    "        rs.addRepair(0,1);\n",
    "        rs.addRepair(2,3);\n",
    "\n",
    "        ArrayList<Integer> ma = rs.availableMechanics();\n",
    "\n",
    "        for(int i : ma) {\n",
    "            System.out.println(i);\n",
    "        }\n",
    "    }\n",
    "\n",
    "}\n",
    "RepairSchedule.main(null)\n",
    "\n"
   ]
  },
  {
   "attachments": {},
   "cell_type": "markdown",
   "metadata": {},
   "source": [
    "### 3"
   ]
  },
  {
   "cell_type": "code",
   "execution_count": null,
   "metadata": {
    "vscode": {
     "languageId": "java"
    }
   },
   "outputs": [],
   "source": [
    "//part a\n",
    "public static int[] getCubeTosses(NumberCube cube, int numTosses)  {\n",
    "    int[] arr = new int[numTosses];\n",
    "    for(int i = 0; i < numTosses; i++) {\n",
    "        arr[i] = cube.toss();\n",
    "    }\n",
    "    return arr;\n",
    "}\n",
    "\n",
    "//part b\n",
    "public static int getLongestRun(int[] values) {\n",
    "    for(int i = 0; i < values.length; i++) {\n",
    "        if(values[i] == value[i + 1] || values[i + 1] == values[i + 2]) {\n",
    "            return i;\n",
    "        }\n",
    "    }\n",
    "    return -1;\n",
    "}"
   ]
  },
  {
   "attachments": {},
   "cell_type": "markdown",
   "metadata": {},
   "source": [
    "### 4"
   ]
  },
  {
   "cell_type": "code",
   "execution_count": null,
   "metadata": {
    "vscode": {
     "languageId": "java"
    }
   },
   "outputs": [],
   "source": [
    "//part a\n",
    "public int getTotalBoxes() {\n",
    "    int sum = 0\n",
    "    for(int i = 0; i < orders.size(); i++) {\n",
    "        sum += orders.get(i).getNumBoxes();\n",
    "    }\n",
    "    return sum;\n",
    "}\n",
    "\n",
    "//part b\n",
    "public int removeVariety(String cookieVar) {\n",
    "    int count = 0;\n",
    "    for(int i = 0; i < orders.size(); i++) {\n",
    "        if(orders.get(i).getVariety() == cookieVar) {\n",
    "            count += orders.get(i).getNumBoxes();\n",
    "            orders.remove(i);\n",
    "        }\n",
    "    }\n",
    "    return count;\n",
    "}"
   ]
  },
  {
   "attachments": {},
   "cell_type": "markdown",
   "metadata": {},
   "source": [
    "### 5"
   ]
  },
  {
   "cell_type": "code",
   "execution_count": null,
   "metadata": {
    "vscode": {
     "languageId": "java"
    }
   },
   "outputs": [],
   "source": [
    "//part a\n",
    "public int countNotInVocab(String[] wordArray) {\n",
    "    int count = 0;\n",
    "    for(int i = 0; i < wordArray.length; i++) {\n",
    "        if(findWord(wordArray[i]) == false) {\n",
    "            count++;\n",
    "        }\n",
    "    }\n",
    "    return count;\n",
    "}\n",
    "\n",
    "//part b\n",
    "public String[] notInVocab(String[] wordArray) {\n",
    "    String[] result = new String[countNotInVocab(wordArray)];\n",
    "    for(int i = 0, int j = 0; i < wordArray.length; i++) {\n",
    "        if(findWord(wordArray[i]) == false) {\n",
    "            result[j] == wordArray[i];\n",
    "            j++;\n",
    "        }\n",
    "    }\n",
    "    return result;\n",
    "}"
   ]
  },
  {
   "attachments": {},
   "cell_type": "markdown",
   "metadata": {},
   "source": [
    "### FRQ - Methods and Control Structures"
   ]
  },
  {
   "cell_type": "code",
   "execution_count": null,
   "metadata": {
    "vscode": {
     "languageId": "java"
    }
   },
   "outputs": [],
   "source": [
    "//part a\n",
    "public static int getCheck(int num) {\n",
    "    int sum = 0;\n",
    "    for(int i = 1, int j = 7; i <= getNumberOfDigits(num); i++, j--) {\n",
    "        sum += getDigit(num, i) * j;\n",
    "    }\n",
    "    return sum % 10;\n",
    "}\n",
    "\n",
    "//part b\n",
    "public static boolean isValid(int numWithCheckDigit) {\n",
    "    int checkDigit = getCheck(numWithCheckDigit);\n",
    "\n",
    "    if(numWithCheckDigit % 10 == checkDigit) {\n",
    "        return true;\n",
    "    }\n",
    "    else {\n",
    "        return false;\n",
    "    }\n",
    "}"
   ]
  },
  {
   "attachments": {},
   "cell_type": "markdown",
   "metadata": {},
   "source": [
    "### FRQ 2022 "
   ]
  },
  {
   "attachments": {},
   "cell_type": "markdown",
   "metadata": {},
   "source": [
    "### 1"
   ]
  },
  {
   "cell_type": "code",
   "execution_count": 3,
   "metadata": {
    "vscode": {
     "languageId": "java"
    }
   },
   "outputs": [
    {
     "ename": "CompilationException",
     "evalue": "",
     "output_type": "error",
     "traceback": [
      "\u001b[1m\u001b[30m|   \u001b[1m\u001b[30m            \u001b[0m\u001b[1m\u001b[30m\u001b[41mthis\u001b[0m\u001b[1m\u001b[30m.play();\u001b[0m",
      "\u001b[1m\u001b[31mnon-static variable this cannot be referenced from a static context\u001b[0m",
      "",
      "\u001b[1m\u001b[30m|   \u001b[1m\u001b[30m            \u001b[0m\u001b[1m\u001b[30m\u001b[41mthis.play\u001b[0m\u001b[1m\u001b[30m();\u001b[0m",
      "\u001b[1m\u001b[31mcannot find symbol\u001b[0m",
      "\u001b[1m\u001b[31m  symbol: method play()\u001b[0m",
      ""
     ]
    }
   ],
   "source": [
    "//part a\n",
    "public int getScore() {\n",
    "    int score = 0;\n",
    "    if(levelOne.goalReached()) {\n",
    "        score += levelOne.Point();\n",
    "        if(levelTwo.goalReached()) {\n",
    "            score += levelTwo.getPoint();\n",
    "            if(levelThree.goalReached()) {\n",
    "                score += levelThree.goalReached();\n",
    "            }\n",
    "        }\n",
    "    }\n",
    "    if(isBonus()) {\n",
    "        score *= 3;\n",
    "    }\n",
    "    return score;\n",
    "}\n",
    "\n",
    "//part b\n",
    "public int playManyTimes(int num) {\n",
    "    int greatest = 0;\n",
    "    if(num > 0) {\n",
    "        for(int i = 1; i <= num; i++) {    \n",
    "            play();\n",
    "            int score = getScore();\n",
    "            if(score > greatest) {\n",
    "                greatest = score;\n",
    "            }\n",
    "        }\n",
    "        return greatest;\n",
    "    }\n",
    "    return 0;\n",
    "}"
   ]
  },
  {
   "cell_type": "code",
   "execution_count": 14,
   "metadata": {
    "vscode": {
     "languageId": "java"
    }
   },
   "outputs": [
    {
     "name": "stdout",
     "output_type": "stream",
     "text": [
      "1\n",
      "2\n"
     ]
    }
   ],
   "source": [
    "String s1 = \"Google\";\n",
    "\n",
    "String s = \"o\";\n",
    "\n",
    "for(int i = 0; i < s1.length(); i++) {\n",
    "    if(s1.indexOf(s, i) > 0) {\n",
    "        System.out.println(s1.indexOf(s, i));\n",
    "        i += s1.indexOf(s, i);\n",
    "    }\n",
    "}"
   ]
  },
  {
   "cell_type": "code",
   "execution_count": null,
   "metadata": {
    "vscode": {
     "languageId": "java"
    }
   },
   "outputs": [],
   "source": []
  }
 ],
 "metadata": {
  "kernelspec": {
   "display_name": "Java",
   "language": "java",
   "name": "java"
  },
  "language_info": {
   "codemirror_mode": "java",
   "file_extension": ".jshell",
   "mimetype": "text/x-java-source",
   "name": "Java",
   "pygments_lexer": "java",
   "version": "11.0.16+8-post-Ubuntu-0ubuntu120.04"
  },
  "orig_nbformat": 4
 },
 "nbformat": 4,
 "nbformat_minor": 2
}
