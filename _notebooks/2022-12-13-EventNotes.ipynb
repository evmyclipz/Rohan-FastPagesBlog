{
 "cells": [
  {
   "attachments": {},
   "cell_type": "markdown",
   "metadata": {},
   "source": [
    "# Event Notes\n",
    "  \n",
    "- title : Event Notes\n",
    "- toc: true \n",
    "- badges: true\n",
    "- comments: true\n",
    "- categories: [jupyter]"
   ]
  },
  {
   "attachments": {},
   "cell_type": "markdown",
   "metadata": {},
   "source": [
    "### Journey into tech for Catheline Beverige\n",
    "\n",
    "1. Did Finance degree in Santa Cruz and tech degree in USC. \n",
    "2. She was a stock broker and did tech degree in Santa Clara University: Begin of journeu to tech\n",
    "3. Learned how to surf and then joined qualcomm\n",
    "\n",
    "##### Employment Journey and commitment\n",
    "\n",
    "1. Qualcomm hires software engineers, mechanical, electrical. \n",
    "2. Worked for 3 companies\n",
    "3. First at HPE: \"Create technology to help people everywhere\"\n",
    "4. Second at Qualcomm \" Invention tech the world loves\"\n",
    "5. Third Thermofisher Scientific : \"Enable our customers to amke the world healthier, cleaner and safer\"\n",
    "6.  there are 7000 R&D scientists and a huge revenue of $40billion per year.\n",
    "\n",
    "##### Team roles\n",
    "\n",
    "1. She is senior directer of marketing \n",
    "2. When people develop a product, a product goes through stage gates and ask the people in her department for voice of sales or voice of customers.\n",
    "3. Scrum master is responsible for commercializing the product\n",
    "\n",
    "##### Final Takeaways\n",
    "\n",
    "1. The team is really important to develop and publich a product."
   ]
  },
  {
   "attachments": {},
   "cell_type": "markdown",
   "metadata": {},
   "source": [
    "### Journey into tech (Kris)\n",
    "\n",
    "1. He is a software engineer, SRE, DevOps, etc..\n",
    "2. Enrolled at UCLA for Electrical Engineering \n",
    "3. Didnt kow anything about progreamming in UCLA and stopped programming for 2 years, but now he's is a pgrammer\n",
    "4. Tells that it doesn't matter if youre struggling, but don't give up and persist and will achieve your goals\n",
    "\n",
    "##### Research\n",
    "\n",
    "1. Use of embedded Network System to design robots that got sent to costa rica to scan the environment.\n",
    "\n",
    "##### Employment\n",
    "\n",
    "2. Used to fix small times system, and then enrolled at a start up in charge of devops. \n",
    "3. Job of DevOps was to make the site secure to protect against spam.\n",
    "4. NBC Universal; Set up streaming media infrastructure \n",
    "5. Did the intro to DevOps and then transitioned to Qualcomm(forces Mr.M tp hire him)\n",
    "6. And then last worked at twitter.\n",
    "7. He looked at the \n",
    "\n",
    "##### Learning \"Always keep Learning\"\n",
    "\n",
    "1. CCNA Traing\n",
    "2. Machine learinig and deep learning.(To use python libraries that are exposed).\n",
    "3. Python \n",
    "4. Data Structures \n",
    "5. Twitter\n",
    "\n",
    "##### Projects he worked on\n",
    "\n",
    "1. Streaming media infrac\n",
    "2. Analystics Infrac projects(locatoinSmart, Qualcomm)\n",
    "\n",
    "##### Final Takeaways\n",
    "\n",
    "1. Always have a working, curious attitude."
   ]
  },
  {
   "attachments": {},
   "cell_type": "markdown",
   "metadata": {},
   "source": [
    "### Response to student questoin\n",
    "\n",
    "##### Importance of Agile methadology in companies\n",
    "\n",
    "1. Different companies have different implementation of agile methadology\n",
    "2. @Qualcomm where people meet regularly for fixed numebr of meetings to discuss work \n",
    "3. Short sprints are implemented in agile methadology to see what people could in a short time.\n",
    "\n",
    "##### What do you is the most important skill in tech industry?\n",
    "\n",
    "1. Always have a can do attitude and be curious because you're going to learn new programming languages at each company\n",
    "2. Don't be too caught up in the noise\n",
    "3. Be adaptive \n",
    "4. Listen to the requirements and convert it into laymen's term to explain to normal people.\n",
    "\n",
    "##### Biggest challenge in tech industry\n",
    "\n",
    "1. To adjust to changing environments in a company because you could get switches around.\n",
    "2. Code in a time limit.\n",
    "\n",
    "# Final Takeaway: Learn how to think Cirtically and solve a problem and build a solution to it."
   ]
  }
 ],
 "metadata": {
  "kernelspec": {
   "display_name": "Java",
   "language": "java",
   "name": "java"
  },
  "language_info": {
   "name": "java"
  },
  "orig_nbformat": 4
 },
 "nbformat": 4,
 "nbformat_minor": 2
}
