{
 "cells": [
  {
   "cell_type": "markdown",
   "metadata": {},
   "source": [
    "# Array List HW\n",
    "\n",
    "- title: Array List HW\n",
    "- toc: true \n",
    "- badges: true\n",
    "- comments: true\n",
    "- categories: [jupyter]"
   ]
  },
  {
   "cell_type": "code",
   "execution_count": 6,
   "metadata": {},
   "outputs": [
    {
     "name": "stdout",
     "output_type": "stream",
     "text": [
      "Hascode Before sorting: 955331\n",
      "List Before: [1, 2, 3, 4]\n",
      "Hascode After sorting: 1045631\n",
      "List After: [1, 3, 2, 4]\n"
     ]
    }
   ],
   "source": [
    "/*\n",
    "* Method to sort through an array list and switch the first and last values\n",
    "*/\n",
    "\n",
    "import java.util.*;\n",
    "\n",
    "public class Switch {\n",
    "    public static void main(String[] args) {\n",
    "        ArrayList<Integer> name = new ArrayList<Integer>();\n",
    "        name.add(1);\n",
    "        name.add(2);\n",
    "        name.add(3);\n",
    "        name.add(4);\n",
    "        System.out.println(\"Hascode Before sorting: \"+name.hashCode());  //Getting hashcode before being sorted\n",
    "        System.out.println(\"List Before: \"+name);\n",
    "\n",
    "        Collections.sort(name, Collections.reverseOrder());\n",
    "        System.out.println(\"Hascode After sorting: \"+name.hashCode()); //after\n",
    "        int first = name.get(0);\n",
    "        int last = name.get(name.size() - 1);\n",
    "\n",
    "        name.remove(0);\n",
    "        name.add(0, last);\n",
    "\n",
    "\n",
    "        name.remove(name.size() - 1);\n",
    "        name.add(first);\n",
    "        \n",
    "        System.out.println(\"List After: \"+name);\n",
    "\n",
    "    }\n",
    "}\n",
    "Switch.main(null)"
   ]
  }
 ],
 "metadata": {
  "kernelspec": {
   "display_name": "Java",
   "language": "java",
   "name": "java"
  },
  "language_info": {
   "codemirror_mode": "java",
   "file_extension": ".jshell",
   "mimetype": "text/x-java-source",
   "name": "java",
   "pygments_lexer": "java",
   "version": "3.8.10"
  },
  "orig_nbformat": 4,
  "vscode": {
   "interpreter": {
    "hash": "916dbcbb3f70747c44a77c7bcd40155683ae19c65e1c03b4aa3499c5328201f1"
   }
  }
 },
 "nbformat": 4,
 "nbformat_minor": 2
}
