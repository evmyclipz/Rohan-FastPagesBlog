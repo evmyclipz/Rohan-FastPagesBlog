{
 "cells": [
  {
   "cell_type": "markdown",
   "metadata": {},
   "source": [
    "# Scrum Master resposibilities\n",
    "\n",
    "> helps the Teams perform better and ensures the team lives to the agile values and principles and follows the processes and practices the team agrees upon.\n",
    "\n",
    "- title: Scrum Master resposibilities\n",
    "- toc: true \n",
    "- badges: true\n",
    "- comments: true\n",
    "- categories: [jupyter]"
   ]
  },
  {
   "cell_type": "markdown",
   "metadata": {},
   "source": [
    "# Software Development Life cycle.\n",
    "\n",
    "### Planning\n",
    "* brainstorm what needs to be added to the applicationa and pick the best one.  \n",
    "* Assigning tasks to each person in the group and keeping track of their progress by making them check jobs on scrum board\n",
    "\n",
    "### Analysis\n",
    "* Requirements analysis: understanding the product and coming up with different tasks; what is done and what needs to be done.\n",
    "### Design\n",
    "* Using html, javascript and java to design our application.\n",
    "* Some design strategies include, presenting input fields to users to append their workouts to daily schedule.\n",
    "* Personal Quiz to make the website more personalized.\n",
    "\n",
    "### Implementation\n",
    "* Each member will commit and update their progress using a commit message of \"version(name of person) - #(short description)\".\n",
    "\n",
    "### Integration and testing\n",
    "* Each member will code, review, test and share with group for intergration.\n",
    "* After integrating, testing the feature again towards feature completion.\n",
    "* Each person code changes are tracked using github repositary \"[evmyclipz/evmyclipzspring_portfolio-T8085](https://github.com/evmyclipz/evmyclipzspring_portfolio-T8085.git)\"\n",
    "* Recieved feedback to implement a feature where user is prompted for data reagrding a workout they want to add to their daily schedule.\n",
    "* Our commit order in our team is as follows : \" Rohan, Dylan, Ritvik and Aryan\" to avoid any conflict errors during testing.\n",
    "* Each team member is to notify other before they try to commit and only after everyone has saved their work, should they commit.\n",
    "\n",
    "### Maintenance\n",
    "* After the application is completely developed and deployed for usage, customers can use and notify any errors.\n",
    "* These errors will be resolved by following the scrum process again before deploying a newer version."
   ]
  }
 ],
 "metadata": {
  "kernelspec": {
   "display_name": "Java",
   "language": "java",
   "name": "java"
  },
  "language_info": {
   "name": "java"
  },
  "orig_nbformat": 4
 },
 "nbformat": 4,
 "nbformat_minor": 2
}
