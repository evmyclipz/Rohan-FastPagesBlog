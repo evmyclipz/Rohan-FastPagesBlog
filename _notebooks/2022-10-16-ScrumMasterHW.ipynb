{
 "cells": [
  {
   "cell_type": "markdown",
   "metadata": {},
   "source": [
    "# Scrum Master resposibilities\n",
    "\n",
    "> helps the Teams perform better and ensures the team lives to the agile values and principles and follows the processes and practices the team agrees upon.\n",
    "\n",
    "- title: Scrum Master resposibilities\n",
    "- toc: true \n",
    "- badges: true\n",
    "- comments: true\n",
    "- categories: [jupyter]"
   ]
  },
  {
   "cell_type": "markdown",
   "metadata": {},
   "source": [
    "# Software Development Life cycle.\n",
    "\n",
    "### Planning\n",
    "* brainstorm what needs to be added to the applicationa and pick the best one.  \n",
    "* Assigning tasks to each person in the group and keeping track of their progress by making them check jobs on scrum board\n",
    "\n",
    "### Analysis\n",
    "* Requirements analysis: understanding the product and coming up with different tasks; what is done and what needs to be done.\n",
    "### Design\n",
    "* Using html, javascript and java to design our application.\n",
    "* Some design strategies include, presenting input fields to users to append their workouts to daily schedule.\n",
    "* Personal Quiz to make the website more personalized.\n",
    "\n",
    "### Implementation\n",
    "* Each member will commit and update their progress using a commit message of \"version(name of person) - #(short description)\".\n",
    "\n",
    "### Integration and testing\n",
    "* Each member will code, review, test and share with group for intergration.\n",
    "* After integrating, testing the feature again towards feature completion.\n",
    "* Each person code changes are tracked using github repositary \"[Group Repositary](https://github.com/evmyclipz/evmyclipzspring_portfolio-T8085.git)\"\n",
    "* Recieved feedback to implement a feature where user is prompted for data reagrding a workout they want to add to their daily schedule.\n",
    "* Our commit order in our team is as follows : \" Rohan, Dylan, Ritvik and Aryan\" to avoid any conflict errors during testing.\n",
    "* Each team member is to notify other before they try to commit and only after everyone has saved their work, should they commit.\n",
    "\n",
    "### Maintenance\n",
    "* After the application is completely developed and deployed for usage, customers can use and notify any errors.\n",
    "* These errors will be resolved by following the scrum process again before deploying a newer version.\n",
    "\n",
    "![](my_icons/SDLC_scrum.png)"
   ]
  },
  {
   "cell_type": "markdown",
   "metadata": {},
   "source": [
    "# DevOps Resposibilities\n",
    "\n",
    "#### Identify authoring tools (IDE’s, Docker, GitHub) used\n",
    "* IDE: Our integrated development environement(IDE) is the visual code which has our group repositary on it. \n",
    "* Docker is used to builds and runs our website. \n",
    "* Use of git pull to update our project with the latest changes.\n",
    "\n",
    "#### Describe and/or show visuals of interactions and integration of programming languages, protocols, and data within project. For instance, deployed systems of Docker Images, Nginx, DNS hosting the application.\n",
    "* Docker image: u can turn docker images into a container, after turning into container, u can use to recreate volumes again, so basically images provides the base and volume stores files that have been changes and container are running programs.\n",
    "* Use of nginx file: in there u edit stuff in an important folder called sites-available where you set rules for ports, the rules tells nginx if it sees incoming traffic that matches the rule then the localhost with user-defined port will be the response of the request from the traffic. \n",
    "* I put the the public IP of ths ncs instance on cloudfare which talks to the AWS which talks to domain. \n",
    "\n",
    "![](my_icons/domain.png)\n",
    "\n",
    "![](my_icons/nginx.png)\n",
    "\n",
    "#### Describe and/or illustrate key Web Applications, APIs, and dependency systems that will be required to complete this system (Diagram).\n",
    "* API is where the user requests something and the website returns the output.\n",
    "* API is basically something serving something, like a waiters/waitress in a restaurant.\n",
    "* Dependency systems are usually third party systems(eg.maven is a dependency which runs the ./mvnw spring-boot:run command, external api). \n",
    "\n",
    "#### Describe GitHub branch management and sociology used to ensure ability to perform continuous builds and integrations.\n",
    "* we branched off our main repositary(master) into branches where the group members can make changes on and commit code without worrying about others.\n",
    "\n",
    "##### GitHub projects\n",
    "* Github projects are \n",
    "##### Branching Strategies\n",
    "##### Deployment processes and automation\n",
    "##### Describe how to validate and test the complete system"
   ]
  },
  {
   "cell_type": "markdown",
   "metadata": {},
   "source": [
    "# Backend development\n",
    "\n",
    "![](my_icons/backend.png)"
   ]
  }
 ],
 "metadata": {
  "kernelspec": {
   "display_name": "Java",
   "language": "java",
   "name": "java"
  },
  "language_info": {
   "name": "java"
  },
  "orig_nbformat": 4
 },
 "nbformat": 4,
 "nbformat_minor": 2
}
