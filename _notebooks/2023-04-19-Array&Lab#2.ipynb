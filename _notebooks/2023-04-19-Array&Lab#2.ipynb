{
 "cells": [
  {
   "attachments": {},
   "cell_type": "markdown",
   "metadata": {},
   "source": [
    "# Array Student lesson\n",
    "  \n",
    "- title: Array Student lesson\n",
    "- toc: true \n",
    "- badges: true\n",
    "- comments: true\n",
    "- categories: [jupyter]"
   ]
  },
  {
   "attachments": {},
   "cell_type": "markdown",
   "metadata": {},
   "source": [
    "### In class Hacks"
   ]
  },
  {
   "cell_type": "code",
   "execution_count": 1,
   "metadata": {},
   "outputs": [
    {
     "name": "stdout",
     "output_type": "stream",
     "text": [
      "10\n",
      "10\n",
      "10\n",
      "10\n",
      "10\n",
      "10\n",
      "10\n",
      "10\n",
      "10\n",
      "10\n"
     ]
    }
   ],
   "source": [
    "void setArray(int[] arr, int n) {\n",
    "    // your code here\n",
    "    for(int i = 0; i < arr.length; i++) {\n",
    "        arr[i] = n;\n",
    "    }\n",
    "}\n",
    "\n",
    "int[] array = new int[10];\n",
    "setArray(array, 10);\n",
    "\n",
    "for (int i = 0; i<array.length; i++) {\n",
    "    System.out.println(array[i]);\n",
    "}\n",
    "\n",
    "// Should print all 10s when working properly\n",
    "\n"
   ]
  },
  {
   "cell_type": "code",
   "execution_count": 2,
   "metadata": {},
   "outputs": [
    {
     "name": "stdout",
     "output_type": "stream",
     "text": [
      "5\n"
     ]
    }
   ],
   "source": [
    "//Example finding the max in an array. \n",
    "\n",
    "//Finds the maximum in an array\n",
    "public static int average(int[] array) {\n",
    "    // put your code here\n",
    "    int sum = 0;\n",
    "    for(int i = 0; i < array.length; i++) {\n",
    "        sum = sum + array[i];\n",
    "    }\n",
    "\n",
    "    return sum/array.length;\n",
    "}\n",
    "\n",
    "//tester array\n",
    "int[] test = {3, 5, 7, 2, 10};\n",
    "\n",
    "//returns 10\n",
    "System.out.println(average(test));\n"
   ]
  },
  {
   "cell_type": "code",
   "execution_count": 9,
   "metadata": {},
   "outputs": [
    {
     "name": "stdout",
     "output_type": "stream",
     "text": [
      "8.6\n"
     ]
    }
   ],
   "source": [
    "public static double averageDiagonal (int[][] array2D) {\n",
    "    // your code here\n",
    "    double sum = 0.0;\n",
    "    double count = 0.0;\n",
    "    for(int i = 0; i < array2D.length; i++) {\n",
    "        for(int j = 0; j < array2D[i].length; j++) {\n",
    "            if(i == j) {\n",
    "                sum = sum + array2D[i][j];\n",
    "                count++;\n",
    "            }\n",
    "        }\n",
    "    }\n",
    "    return sum/count;\n",
    "}\n",
    "\n",
    "int[][] arr = {\n",
    "    {1,2,3,4,5,6},\n",
    "    {7,8,9,10,11,12},\n",
    "    {0,1,2,3,4,5},\n",
    "    {10,11,12,13,14,15},\n",
    "    {15,16,17,18,19,20}\n",
    "};\n",
    "\n",
    "System.out.println(averageDiagonal(arr));\n"
   ]
  },
  {
   "attachments": {},
   "cell_type": "markdown",
   "metadata": {},
   "source": [
    "### FRQ 2016 Q4(Wrong FRQ, don't mind)\n",
    "\n",
    "* 1st part is returning the number of letters in the List<String> wordList.\n",
    "* 2nd part is returning the gap width between the letter in wordList\n",
    "* 3rd part is formatting the wordList to fit description."
   ]
  },
  {
   "cell_type": "code",
   "execution_count": 10,
   "metadata": {},
   "outputs": [
    {
     "name": "stdout",
     "output_type": "stream",
     "text": [
      "6\n"
     ]
    }
   ],
   "source": [
    "import java.util.*;\n",
    "import java.util.function.Supplier;\n",
    "\n",
    "public class Main {\n",
    "    public static void main(String[] args) {\n",
    "        List<String> wordList = new ArrayList<String>(20);\n",
    "\n",
    "        wordList.add(\"A\");\n",
    "        wordList.add(\"frog\");\n",
    "        wordList.add(\"is\");\n",
    "\n",
    "        int gap = basicGapWidth(wordList, 20);\n",
    "        System.out.println(gap);\n",
    "    }\n",
    "\n",
    "    public static int totalLetters(List<String> wordList) {\n",
    "        int count = 0;\n",
    "        for(String word : wordList) {\n",
    "            count = count + word.length();\n",
    "        }\n",
    "        return count;\n",
    "    }\n",
    "\n",
    "    public static int basicGapWidth(List<String> wordList, int formattedLen) {\n",
    "        int letter = totalLetters(wordList);\n",
    "        int diff = formattedLen - letter;\n",
    "        int gap = diff/(wordList.size() - 1);\n",
    "        return gap;\n",
    "    }\n",
    "\n",
    "    // TO DO: the format method which formats the wordList as specified\n",
    "    public static String format(List<String> wordList, int formattedLen) {\n",
    "        List<String> result = new ArrayList<String>(formattedLen);\n",
    "        String space = \"\";\n",
    "        int gap = basicGapWidth(wordList, formattedLen);\n",
    "        for(int i = 0; i < gap;i++) {\n",
    "            space+=\" \";\n",
    "        }\n",
    "        for(String word : wordList) {\n",
    "            result.add(word);\n",
    "            result.add(space);\n",
    "        }\n",
    "    }\n",
    "\n",
    "}\n",
    "Main.main(null)"
   ]
  },
  {
   "attachments": {},
   "cell_type": "markdown",
   "metadata": {},
   "source": [
    "### FRQ 2016 Q4(Correct one)"
   ]
  },
  {
   "cell_type": "code",
   "execution_count": null,
   "metadata": {},
   "outputs": [],
   "source": [
    "private boolean toBeLabeled(int r, int c, boolean[][] blackSquares) {\n",
    "    if (blackSquares[r][c]) {\n",
    "        return false;\n",
    "    }\n",
    "    if (r == 0 || blackSquares[r - 1][c]) {\n",
    "    } else {\n",
    "        return false;\n",
    "    }\n",
    "    if (c == 0 || blackSquares[r][c - 1]) {\n",
    "    } else {\n",
    "        return false;\n",
    "    }\n",
    "        return true;\n",
    "}\n",
    "\n",
    "public Crossword(boolean[][] blackSquares) {\n",
    "    int rows = blackSquares.length;\n",
    "    int cols = blackSquares[0].length;\n",
    "    puzzle = new Square[rows][cols];\n",
    "    // Label squares according to crossword labeling rule\n",
    "    int count = 1;\n",
    "    for (int r = 0; r < rows; r++) {\n",
    "        for (int c = 0; c < cols; c++) {\n",
    "            if (!blackSquares[r][c] && toBeLabeled(r, c, blackSquares)) {\n",
    "                puzzle[r][c] = new Square(false, count);\n",
    "                count++;\n",
    "            } else {\n",
    "                puzzle[r][c] = new Square(blackSquares[r][c], 0);\n",
    "            }\n",
    "        }\n",
    "    }\n",
    "}"
   ]
  },
  {
   "attachments": {},
   "cell_type": "markdown",
   "metadata": {},
   "source": [
    "### FRQ 2017 Q4\n",
    "\n",
    "* 1st part is finding the position of the given element in 2D array\n",
    "* 2nd part is making a Object array of position of successors to each element"
   ]
  },
  {
   "cell_type": "code",
   "execution_count": null,
   "metadata": {},
   "outputs": [],
   "source": [
    "public class Main {\n",
    "    public static void main(String[] args) {\n",
    "\n",
    "    }\n",
    "\n",
    "    public static Position findPosition(int num, int[][] intArr) {\n",
    "        for(int i = 0; i < intArr.length;i++) {\n",
    "            for(int j = 0; j < intArr[i].length; j++) {\n",
    "                if(intArr[i][j] == num) {\n",
    "                    return (new Position (i,j));\n",
    "                }\n",
    "            }\n",
    "        }\n",
    "        return null;\n",
    "    }\n",
    "    \n",
    "    public static Position[][] getSuccessorArray(int[][] intArr) {\n",
    "        int r = intArr.length;\n",
    "        int c = intArr[i].length;\n",
    "        Position[][] PosArr = new Position[r][c];\n",
    "        for(int i = 0; i < r; i++) {\n",
    "            for(int j = 0; j < c; j++) {\n",
    "                PosArr[i][j] = findPosition(intArr[i][j] + 1, intArr);\n",
    "            }\n",
    "        }\n",
    "        return PosArr;   \n",
    "    }\n",
    "    \n",
    "}"
   ]
  },
  {
   "attachments": {},
   "cell_type": "markdown",
   "metadata": {},
   "source": [
    "### 2018 FRQ Q4\n",
    "\n",
    "* 1st part is just getting the elements in the specified column of 2D array\n",
    "* 2nd part is to check if the 2D array is a latin square"
   ]
  },
  {
   "cell_type": "code",
   "execution_count": 24,
   "metadata": {},
   "outputs": [
    {
     "name": "stdout",
     "output_type": "stream",
     "text": [
      "1 4 7 5 "
     ]
    }
   ],
   "source": [
    "public class Main {\n",
    "    public static void main(String[] args) {\n",
    "        int[][] arr2D = { {0, 1, 2}, \n",
    "                          {3, 4, 5},\n",
    "                          {6, 7, 8},\n",
    "                          {9, 5, 3} };\n",
    "\n",
    "        int[] result = getColumn(arr2D, 1);\n",
    "        \n",
    "        for(int i : result) {\n",
    "            System.out.print(i+\" \");\n",
    "        }\n",
    "    }\n",
    "\n",
    "    public static int[] getColumn(int[][] arr2D, int c) {\n",
    "        int[] colArr = new int[arr2D.length];\n",
    "        for(int i = 0; i < arr2D.length; i++) {\n",
    "            colArr[i] = arr2D[i][c];\n",
    "        }\n",
    "        return colArr;\n",
    "    }\n",
    "\n",
    "    public static boolean isLatin(int[][] square) {\n",
    "        if(containsDuplicates(square[0])) {\n",
    "            return false;\n",
    "        }\n",
    "        else {\n",
    "            for(int i = 1; i < square.length ; i++) {\n",
    "                if(hasAllValues(square[0], square[i])) {\n",
    "                }\n",
    "                else {\n",
    "                    return false;\n",
    "                }\n",
    "            }\n",
    "            for(int i = 0; i < square[0].length; i++) {\n",
    "                if(hasAllValues(square[0], getColumn(square, i))) {\n",
    "                }\n",
    "                else {\n",
    "                    return false;\n",
    "                }\n",
    "            }\n",
    "            return true;\n",
    "        }\n",
    "    }\n",
    "}\n",
    "Main.main(null)"
   ]
  }
 ],
 "metadata": {
  "kernelspec": {
   "display_name": "Java",
   "language": "java",
   "name": "java"
  },
  "language_info": {
   "codemirror_mode": "java",
   "file_extension": ".jshell",
   "mimetype": "text/x-java-source",
   "name": "java",
   "pygments_lexer": "java",
   "version": "17.0.5+8-Ubuntu-2ubuntu120.04"
  },
  "orig_nbformat": 4
 },
 "nbformat": 4,
 "nbformat_minor": 2
}
