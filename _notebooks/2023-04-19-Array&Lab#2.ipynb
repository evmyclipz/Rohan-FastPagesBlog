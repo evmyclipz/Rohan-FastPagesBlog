{
 "cells": [
  {
   "attachments": {},
   "cell_type": "markdown",
   "metadata": {},
   "source": [
    "# Array Student lesson\n",
    "  \n",
    "- title: Array Student lesson\n",
    "- toc: true \n",
    "- badges: true\n",
    "- comments: true\n",
    "- categories: [jupyter]"
   ]
  },
  {
   "attachments": {},
   "cell_type": "markdown",
   "metadata": {},
   "source": [
    "### In class Hacks"
   ]
  },
  {
   "cell_type": "code",
   "execution_count": 1,
   "metadata": {
    "vscode": {
     "languageId": "java"
    }
   },
   "outputs": [
    {
     "name": "stdout",
     "output_type": "stream",
     "text": [
      "10\n",
      "10\n",
      "10\n",
      "10\n",
      "10\n",
      "10\n",
      "10\n",
      "10\n",
      "10\n",
      "10\n"
     ]
    }
   ],
   "source": [
    "void setArray(int[] arr, int n) {\n",
    "    // your code here\n",
    "    for(int i = 0; i < arr.length; i++) {\n",
    "        arr[i] = n;\n",
    "    }\n",
    "}\n",
    "\n",
    "int[] array = new int[10];\n",
    "setArray(array, 10);\n",
    "\n",
    "for (int i = 0; i<array.length; i++) {\n",
    "    System.out.println(array[i]);\n",
    "}\n",
    "\n",
    "// Should print all 10s when working properly\n",
    "\n"
   ]
  },
  {
   "cell_type": "code",
   "execution_count": 2,
   "metadata": {
    "vscode": {
     "languageId": "java"
    }
   },
   "outputs": [
    {
     "name": "stdout",
     "output_type": "stream",
     "text": [
      "5\n"
     ]
    }
   ],
   "source": [
    "//Example finding the max in an array. \n",
    "\n",
    "//Finds the maximum in an array\n",
    "public static int average(int[] array) {\n",
    "    // put your code here\n",
    "    int sum = 0;\n",
    "    for(int i = 0; i < array.length; i++) {\n",
    "        sum = sum + array[i];\n",
    "    }\n",
    "\n",
    "    return sum/array.length;\n",
    "}\n",
    "\n",
    "//tester array\n",
    "int[] test = {3, 5, 7, 2, 10};\n",
    "\n",
    "//returns 10\n",
    "System.out.println(average(test));\n"
   ]
  },
  {
   "cell_type": "code",
   "execution_count": 9,
   "metadata": {
    "vscode": {
     "languageId": "java"
    }
   },
   "outputs": [
    {
     "name": "stdout",
     "output_type": "stream",
     "text": [
      "8.6\n"
     ]
    }
   ],
   "source": [
    "public static double averageDiagonal (int[][] array2D) {\n",
    "    // your code here\n",
    "    double sum = 0.0;\n",
    "    double count = 0.0;\n",
    "    for(int i = 0; i < array2D.length; i++) {\n",
    "        for(int j = 0; j < array2D[i].length; j++) {\n",
    "            if(i == j) {\n",
    "                sum = sum + array2D[i][j];\n",
    "                count++;\n",
    "            }\n",
    "        }\n",
    "    }\n",
    "    return sum/count;\n",
    "}\n",
    "\n",
    "int[][] arr = {\n",
    "    {1,2,3,4,5,6},\n",
    "    {7,8,9,10,11,12},\n",
    "    {0,1,2,3,4,5},\n",
    "    {10,11,12,13,14,15},\n",
    "    {15,16,17,18,19,20}\n",
    "};\n",
    "\n",
    "System.out.println(averageDiagonal(arr));\n"
   ]
  }
 ],
 "metadata": {
  "kernelspec": {
   "display_name": "Java",
   "language": "java",
   "name": "java"
  },
  "language_info": {
   "codemirror_mode": "java",
   "file_extension": ".jshell",
   "mimetype": "text/x-java-source",
   "name": "Java",
   "pygments_lexer": "java",
   "version": "17.0.5+8-Ubuntu-2ubuntu120.04"
  },
  "orig_nbformat": 4
 },
 "nbformat": 4,
 "nbformat_minor": 2
}
