{
 "cells": [
  {
   "attachments": {},
   "cell_type": "markdown",
   "metadata": {},
   "source": [
    "# Unit 6-10 Notes\n",
    "  \n",
    "- title : Unit 6-10\n",
    "- toc: true \n",
    "- badges: true\n",
    "- comments: true\n",
    "- categories: [jupyter]"
   ]
  },
  {
   "attachments": {},
   "cell_type": "markdown",
   "metadata": {},
   "source": [
    "# Access modifiers\n",
    "\n",
    "* Private to not let outsiders have access to memebers and are accessible only within class\n",
    "* public is access with the widest scope and can be accessed everywhere in program. \n",
    "* protected method can have access within same class, subclasses of same packages and subclasses of different packages"
   ]
  },
  {
   "cell_type": "code",
   "execution_count": 9,
   "metadata": {},
   "outputs": [
    {
     "name": "stdout",
     "output_type": "stream",
     "text": [
      "20\n",
      "30\n",
      "40\n",
      "60\n",
      "\n",
      "60\n",
      "30\n",
      "40\n",
      "20\n"
     ]
    }
   ],
   "source": [
    "public class ArrayMethods {\n",
    "    private int[] values;\n",
    "\n",
    "    public ArrayMethods(int[] values) {\n",
    "        this.values = values;\n",
    "\n",
    "        this.print();\n",
    "    }\n",
    "\n",
    "    private void print() {    //use of private as not called in main method\n",
    "        for(int i = 0; i < values.length; i++) {\n",
    "            System.out.println(values[i]);\n",
    "        }\n",
    "    } \n",
    "    public void swap() { //use of public as called in main method\n",
    "        int x = values[0];\n",
    "        values[0]= values[values.length-1];\n",
    "        values[values.length-1] = x;\n",
    "\n",
    "        print();\n",
    "    }\n",
    "\n",
    "    public static void main(String[] args) {\n",
    "        ArrayMethods r = new ArrayMethods(new int[] {20,30,40,60});\n",
    "        System.out.println();\n",
    "        r.swap();\n",
    "    }\n",
    "}\n",
    "ArrayMethods.main(null)"
   ]
  },
  {
   "attachments": {},
   "cell_type": "markdown",
   "metadata": {},
   "source": [
    "# Inheritance\n",
    "\n",
    "* Inheritance, expends used by the subclasses of shape: allows to inherit members variales, constructors and methods\n",
    "* Protected variables only accessoble to subclass\n",
    "* Super keyword to call the constructor of parent class in the subclass constructor(triangle).\n",
    "* toString() method to call when we SOP\n",
    "* Overriding used to give their own implementations \n",
    "* Class methods are normal method that need an object to call them, for ex. getArea(), toString()."
   ]
  },
  {
   "cell_type": "code",
   "execution_count": null,
   "metadata": {},
   "outputs": [],
   "source": [
    "/**\n",
    " *  A class Shape that holds width and height\n",
    " *  of any shape\n",
    " */\n",
    "public class Shape\n",
    "{\n",
    "   protected double height;  // To hold height.\n",
    "   protected double width;  //To hold width or base\n",
    "\n",
    "   //Super class constructor\n",
    "   public Shape(double h,double w)\n",
    "   {\n",
    "    height=h;\n",
    "    width=w;\n",
    "   }\n",
    "\n",
    "   public String toString()\n",
    "   {\n",
    "      return (\"{ \\\"height\\\":\"  +this.height+\n",
    "               \", \\\"Width\\\":\"  +this.width+ \n",
    "               \" }\");\n",
    "   }\n",
    "\n",
    "   /**\n",
    "    *  The setValue method sets the data  \n",
    "    *  in the height and width field.\n",
    "    */\n",
    "   public void setValues(double height, double width)\n",
    "   {\n",
    "      this.height = height;\n",
    "      this.width = width;\n",
    "   }\n",
    "}"
   ]
  },
  {
   "cell_type": "code",
   "execution_count": null,
   "metadata": {},
   "outputs": [],
   "source": [
    "/**\n",
    " *  This class Triangle calculates \n",
    " *  the area of triangle \n",
    " */\n",
    "public class Triangle extends Shape\n",
    "{\n",
    "\n",
    "   public Triangle(double h,double w) \n",
    "   {\n",
    "      super(h,w); //call super class constructor\n",
    "   }\n",
    "\n",
    "   @Override\n",
    "   public String toString()\n",
    "   {\n",
    "      return (\"{ \\\"height\\\":\"  +this.height+\n",
    "               \", \\\"Width\\\":\"  +this.width+ \n",
    "               \", \\\"Area\\\":\"  +this.getArea()+\n",
    "               \" }\");\n",
    "   }\n",
    "   /**\n",
    "    * The method returns the area   \n",
    "    * of triangle.\n",
    "    */\n",
    "   public double getArea()\n",
    "   {\n",
    "      return height * width / 2; //accessing protected members\n",
    "   }\n",
    "}"
   ]
  },
  {
   "attachments": {},
   "cell_type": "markdown",
   "metadata": {},
   "source": [
    "##### Static Method\n",
    "\n",
    "* Why? To call a method w/o an object \n",
    "* Def:is a method that is part of a clas rather than am instamce pf that class"
   ]
  },
  {
   "cell_type": "code",
   "execution_count": 10,
   "metadata": {},
   "outputs": [
    {
     "name": "stdout",
     "output_type": "stream",
     "text": [
      "true\n"
     ]
    }
   ],
   "source": [
    "public class APCalendar {\n",
    "\n",
    "    /** Returns true if year is a leap year and false otherwise.\n",
    "     * isLeapYear(2019) returns False\n",
    "     * isLeapYear(2016) returns True\n",
    "     */          \n",
    "    public static boolean isLeapYear(int year) {\n",
    "        // implementation not shown\n",
    "        if ((year % 4 == 0) && (year % 100 != 0)) {\n",
    "            return true;\n",
    "        }\n",
    "        else if((year % 100 == 0) && (year % 400 == 0)) {\n",
    "            return true;\n",
    "        }\n",
    "        else {\n",
    "            return false;\n",
    "        }\n",
    "        \n",
    "    }\n",
    "    \n",
    "    public static void main(String[] args)\n",
    "    {\n",
    "        System.out.println(APCalendar.isLeapYear(2020));\n",
    "    }\n",
    "}\n",
    "\n",
    "APCalendar.main(null);"
   ]
  },
  {
   "attachments": {},
   "cell_type": "markdown",
   "metadata": {},
   "source": [
    "##### Polymorphism(overloading)\n",
    "\n",
    "* Overloading when multiple constructors and method which are made with varying parameters to create different objects. "
   ]
  },
  {
   "cell_type": "code",
   "execution_count": null,
   "metadata": {},
   "outputs": [],
   "source": [
    "public Light() {  //#1 Light Constructor\n",
    "    int maxColor = 255;\n",
    "    int effect = 9;\n",
    "    this.red = (short) (Math.random()*(maxColor+1));\n",
    "    this.green = (short) (Math.random()*(maxColor+1));\n",
    "    this.blue = (short) (Math.random()*(maxColor+1));\n",
    "    this.effect = (short) (Math.random()*(effect+1));\n",
    "}\n",
    "\n",
    "public Light(int color) {  //#2 Constructor\n",
    "    int effect = 4;\n",
    "    if(color==1)//white\n",
    "    {\n",
    "        this.red = 255;\n",
    "        this.green = 255;\n",
    "        this.blue = 255;\n",
    "    }\n",
    "    else if(color==2) //lightblue\n",
    "    {\n",
    "        this.red = 0;\n",
    "        this.green = 255;\n",
    "        this.blue = 255;\n",
    "    }\n",
    "    else if(color==3) //dark purple\n",
    "    {\n",
    "        this.red = 102;\n",
    "        this.green = 0;\n",
    "        this.blue = 204;\n",
    "    }\n",
    "    else if(color==4) //orange\n",
    "    {\n",
    "        this.red = 255;\n",
    "        this.green = 128;\n",
    "        this.blue = 0;\n",
    "    }\n",
    "    else{\n",
    "        this.red = 0;\n",
    "        this.green = 0;\n",
    "        this.blue = 0;\n",
    "    }\n",
    "    this.effect = (short) (Math.random()*(effect+1));\n",
    "}"
   ]
  },
  {
   "attachments": {},
   "cell_type": "markdown",
   "metadata": {},
   "source": [
    "#### hashcode() and equals()\n",
    "\n",
    "* hashcode(): if two objects are equal according to the equals() method calling the hashcode on each of the two objects must produce the same value."
   ]
  },
  {
   "cell_type": "code",
   "execution_count": null,
   "metadata": {},
   "outputs": [],
   "source": [
    "public class User {\n",
    "\n",
    "    private long id;\n",
    "    private String name;\n",
    "    private String email;\n",
    "\n",
    "    // standard getters/setters/constructors\n",
    "        \n",
    "    @Override\n",
    "    public int hashCode() //if equals returns true, hashcode for two objects will be the same\n",
    "    {\n",
    "        return (int) id * name.hashCode() * email.hashCode();\n",
    "    }\n",
    "        \n",
    "    @Override\n",
    "    public boolean equals(Object o) {  //overriding the equals method\n",
    "        if (this == o) return true; \n",
    "        if (o == null) return false;\n",
    "        if (this.getClass() != o.getClass()) return false;\n",
    "        User user = (User) o;\n",
    "        return id == user.id \n",
    "          && (name.equals(user.name) \n",
    "          && email.equals(user.email));\n",
    "    }\n",
    "    \n",
    "    // getters and setters here\n",
    "}"
   ]
  },
  {
   "attachments": {},
   "cell_type": "markdown",
   "metadata": {},
   "source": [
    "##### Proof that hashcode changes after going through sorts."
   ]
  },
  {
   "cell_type": "code",
   "execution_count": 15,
   "metadata": {},
   "outputs": [
    {
     "name": "stdout",
     "output_type": "stream",
     "text": [
      "Hascode Before sorting: 955331\n",
      "List Before: [1, 2, 3, 4]\n",
      "Hashcode After sorting: 1045631\n",
      "List After: [1, 3, 2, 4]\n"
     ]
    }
   ],
   "source": [
    "/*\n",
    "* Method to sort through an array list and switch the first and last values\n",
    "*/\n",
    "\n",
    "import java.util.*;\n",
    "\n",
    "public class Switch {\n",
    "    public static void main(String[] args) {\n",
    "        ArrayList<Integer> name = new ArrayList<Integer>();\n",
    "        name.add(1);\n",
    "        name.add(2);\n",
    "        name.add(3);\n",
    "        name.add(4);\n",
    "        System.out.println(\"Hascode Before sorting: \"+name.hashCode());  //Getting hashcode before being sorted\n",
    "        System.out.println(\"List Before: \"+name);\n",
    "\n",
    "        Collections.sort(name, Collections.reverseOrder());\n",
    "        System.out.println(\"Hashcode After sorting: \"+name.hashCode()); //after\n",
    "        int first = name.get(0);\n",
    "        int last = name.get(name.size() - 1);\n",
    "\n",
    "        name.remove(0);\n",
    "        name.add(0, last);\n",
    "\n",
    "\n",
    "        name.remove(name.size() - 1);\n",
    "        name.add(first);\n",
    "        \n",
    "        System.out.println(\"List After: \"+name);\n",
    "\n",
    "    }\n",
    "}\n",
    "Switch.main(null)"
   ]
  },
  {
   "attachments": {},
   "cell_type": "markdown",
   "metadata": {},
   "source": [
    "##### Abstract Class, Abstrac method, Polymorphism(Late Binding, and Overriding)\n",
    "\n",
    "* Abstract class: every subclass must have their own implementation of abstract method animal sound as each animal is different.\n",
    "* Late Binding: is a slower execution of code, gets resolved in run time only and is very flexible since a single method is called by different objects.\n",
    "* Overriding used to give their own implementations "
   ]
  },
  {
   "cell_type": "code",
   "execution_count": 18,
   "metadata": {},
   "outputs": [
    {
     "name": "stdout",
     "output_type": "stream",
     "text": [
      "The pig says: wee wee\n",
      "Zzz\n",
      "The lion says: Grooooooooooowl\n",
      "Zzz\n",
      "The Cat says: meooow\n",
      "Zzz\n"
     ]
    }
   ],
   "source": [
    "// Abstract class\n",
    "abstract class Animal {\n",
    "    // Abstract method (does not have a body)\n",
    "    public abstract void animalSound();\n",
    "    // Regular method\n",
    "    public void sleep() {\n",
    "      System.out.println(\"Zzz\");\n",
    "    }\n",
    "  }\n",
    "  \n",
    "  // Subclass (inherit from Animal)\n",
    "  class Pig extends Animal {\n",
    "    @Overriding\n",
    "    public void animalSound() {\n",
    "      // The body of animalSound() is provided here\n",
    "      System.out.println(\"The pig says: wee wee\");\n",
    "    }\n",
    "  }\n",
    "\n",
    "  class Lion extends Animal {\n",
    "    @Overriding\n",
    "    public void animalSound() {\n",
    "        System.out.println(\"The lion says: Grooooooooooowl\");\n",
    "    }\n",
    "  }\n",
    "\n",
    "  class Cat extends Animal {\n",
    "    @Overriding\n",
    "    public void animalSound() {\n",
    "        System.out.println(\"The Cat says: meooow\");\n",
    "    }\n",
    "  }\n",
    "  \n",
    "  class Main {\n",
    "    public static void main(String[] args) {\n",
    "      //late binding\n",
    "      Animal myPig = new Pig(); // Create a Animal object \n",
    "      myPig.animalSound();\n",
    "      myPig.sleep();\n",
    "      Animal myLion = new Lion(); \n",
    "      myLion.animalSound();\n",
    "      myLion.sleep();\n",
    "      Animal myCat = new Cat();\n",
    "      myCat.animalSound();\n",
    "      myCat.sleep();\n",
    "    }\n",
    "  }\n",
    "\n",
    "Main.main(null);"
   ]
  },
  {
   "attachments": {},
   "cell_type": "markdown",
   "metadata": {},
   "source": [
    "##### Main Method and Tester Method\n",
    "\n",
    "* They are both same `"
   ]
  },
  {
   "cell_type": "code",
   "execution_count": null,
   "metadata": {},
   "outputs": [],
   "source": [
    "// Tester method\n",
    "public static void main(String[] args) {\n",
    "    // Random set of test cases\n",
    "    Calculator simpleMath = new Calculator(\"100 + 200  * 3\");\n",
    "    System.out.println(\"Simple Math\\n\" + simpleMath);\n",
    "\n",
    "    System.out.println();\n",
    "\n",
    "    Calculator parenthesisMath = new Calculator(\"((100 + 200)  * 3\");\n",
    "    System.out.println(\"Parenthesis Math\\n\" + parenthesisMath);\n",
    "\n",
    "    System.out.println();\n",
    "\n",
    "    Calculator decimalMath = new Calculator(\"(100.2 - 99.3)\");\n",
    "    System.out.println(\"Decimal Math\\n\" + decimalMath);\n",
    "\n",
    "    System.out.println();\n",
    "\n",
    "    Calculator moduloMath = new Calculator(\"300 % 200\");\n",
    "    System.out.println(\"Modulo Math\\n\" + moduloMath);\n",
    "\n",
    "    System.out.println();\n",
    "\n",
    "    Calculator divisionMath = new Calculator(\"300/200\");\n",
    "    System.out.println(\"Division Math\\n\" + divisionMath);\n",
    "\n",
    "    Calculator powerMath = new Calculator(\"2^3\");\n",
    "    System.out.println(\"Power Math\\n\" + powerMath);\n",
    "}"
   ]
  },
  {
   "attachments": {},
   "cell_type": "markdown",
   "metadata": {},
   "source": [
    "#### Big O\n",
    "* big O notation is used to classify algorithms according to how their run time or space requirements grow as the input size grows.\n"
   ]
  },
  {
   "attachments": {},
   "cell_type": "markdown",
   "metadata": {},
   "source": [
    "##### HashMap\n",
    "* Average Time Complexity of HashMap : O(1)\n",
    "* Worst Case Time and Space Complexity : O(n)"
   ]
  },
  {
   "cell_type": "code",
   "execution_count": null,
   "metadata": {},
   "outputs": [],
   "source": [
    "private final Map<Short, String> EFFECT = new HashMap<>();\n",
    "    {\n",
    "        // Map<\"separator\", not_used>\n",
    "        // Key and value pair\n",
    "        EFFECT.put((short) 0, \"Normal\");\n",
    "        EFFECT.put((short) 1, \"Bold\");\n",
    "        EFFECT.put((short) 2, \"Faint\");\n",
    "        EFFECT.put((short) 3, \"Italic\");\n",
    "        EFFECT.put((short) 4, \"Underline\");\n",
    "        EFFECT.put((short) 5, \"Slow Blink\");\n",
    "        EFFECT.put((short) 6, \"Fast Blink\");\n",
    "        EFFECT.put((short) 7, \"Reverse\");\n",
    "        EFFECT.put((short) 8, \"Conceal\");\n",
    "        EFFECT.put((short) 9, \"Crossed_out\");\n",
    "    }"
   ]
  },
  {
   "attachments": {},
   "cell_type": "markdown",
   "metadata": {},
   "source": [
    "##### Binary Search\n",
    "* Best Case Time Complexity of Binary Search: O(1)\n",
    "* Average Case Time Complexity of Binary Search: O(logN)\n",
    "* Worst Case Time Complexity of Binary Search: O(logN)\n",
    "* Space Complexity of Binary Search: O(1) for iterative, O(logN) for recursive."
   ]
  },
  {
   "cell_type": "code",
   "execution_count": 19,
   "metadata": {},
   "outputs": [
    {
     "name": "stdout",
     "output_type": "stream",
     "text": [
      "1\n",
      "5\n",
      "0\n"
     ]
    }
   ],
   "source": [
    "public class BinarySearch\n",
    "{\n",
    "    public static void main(String[] args)\n",
    "    {\n",
    "        int[] arr = {3, 6, 17, 19, 23, 30, 50};\n",
    "        \n",
    "        int index1 = binarySearch(arr, 6);\n",
    "        System.out.println(index1);\n",
    "        \n",
    "        int index2 = binarySearch(arr, 30);\n",
    "        System.out.println(index2);\n",
    "        \n",
    "        int index3 = binarySearch(arr, 3);\n",
    "        System.out.println(index3);\n",
    "    }\n",
    "\n",
    "    public static int binarySearch(int[] array, int key)\n",
    "    {\n",
    "        // Define your initial minimum index and maximum index \n",
    "        // as the end points of your array.\n",
    "        \n",
    "        int low = 0; \n",
    "        int high = array.length - 1;\n",
    "        \n",
    "        while(low <= high)\n",
    "        {\n",
    "            // Calculate the mid point index\n",
    "            int mid = (low + high) / 2;\n",
    "            \n",
    "            // Assign cur to the midpoint value\n",
    "            int cur = array[mid];\n",
    "            \n",
    "            if(cur == key) // Match\n",
    "            {\n",
    "                return mid;\n",
    "            }\n",
    "            else if(cur < key) // Too low\n",
    "            {\n",
    "                // Move the bottom index to the index\n",
    "                // above the current midpoint\n",
    "                low = mid + 1;\n",
    "            }\n",
    "            else // Too high\n",
    "            {\n",
    "                // Move the value index to the index\n",
    "                // below the current midpoint\n",
    "                high = mid - 1;\n",
    "            }\n",
    "        }\n",
    "        // Return -1 is not found\n",
    "        return -1;\n",
    "    }\n",
    "\n",
    "}\n",
    "BinarySearch.main(null);"
   ]
  },
  {
   "attachments": {},
   "cell_type": "markdown",
   "metadata": {},
   "source": [
    "##### Single Loop\n",
    "* Time and Space complexity: O(n)"
   ]
  },
  {
   "cell_type": "code",
   "execution_count": 21,
   "metadata": {},
   "outputs": [
    {
     "name": "stdout",
     "output_type": "stream",
     "text": [
      "0\n",
      "1\n",
      "2\n",
      "3\n",
      "4\n",
      "5\n",
      "6\n",
      "7\n",
      "8\n",
      "9\n"
     ]
    }
   ],
   "source": [
    "for(int i = 0; i < 10; i++)\n",
    "{\n",
    "    System.out.println(i);\n",
    "}"
   ]
  },
  {
   "attachments": {},
   "cell_type": "markdown",
   "metadata": {},
   "source": [
    "##### Nested Loop\n",
    "\n",
    "* Time and Space complexity: O(n^2) (provided it is two nested loops)"
   ]
  },
  {
   "cell_type": "code",
   "execution_count": 23,
   "metadata": {},
   "outputs": [
    {
     "name": "stdout",
     "output_type": "stream",
     "text": [
      "0 0\n",
      "0 1\n",
      "0 2\n",
      "0 3\n",
      "1 0\n",
      "1 1\n",
      "1 2\n",
      "1 3\n",
      "2 0\n",
      "2 1\n",
      "2 2\n",
      "2 3\n",
      "3 0\n",
      "3 1\n",
      "3 2\n",
      "3 3\n",
      "4 0\n",
      "4 1\n",
      "4 2\n",
      "4 3\n"
     ]
    }
   ],
   "source": [
    "for(int i = 0; i < 5; i++){\n",
    "    for(int j = 0; j < 4; j++) {\n",
    "        System.out.println(i+\" \"+j);\n",
    "    }\n",
    "}"
   ]
  }
 ],
 "metadata": {
  "kernelspec": {
   "display_name": "Java",
   "language": "java",
   "name": "java"
  },
  "language_info": {
   "codemirror_mode": "java",
   "file_extension": ".jshell",
   "mimetype": "text/x-java-source",
   "name": "java",
   "pygments_lexer": "java",
   "version": "17.0.5+8-Ubuntu-2ubuntu120.04"
  },
  "orig_nbformat": 4
 },
 "nbformat": 4,
 "nbformat_minor": 2
}
