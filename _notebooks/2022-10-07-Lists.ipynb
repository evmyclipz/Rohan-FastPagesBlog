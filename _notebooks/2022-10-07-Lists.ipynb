{
 "cells": [
  {
   "cell_type": "markdown",
   "metadata": {},
   "source": [
    "# List interfaces and ArrayLists\n",
    "\n",
    "- title: List interfaces and ArrayLists\n",
    "- toc: true \n",
    "- badges: true\n",
    "- comments: true\n",
    "- categories: [jupyter]"
   ]
  },
  {
   "cell_type": "markdown",
   "metadata": {},
   "source": [
    "### Programm proposals towards a final project\n",
    "\n",
    "What should be in Lists and Array object?\n",
    "What are you going to add or delete to the list?\n",
    "How are you going to diplay "
   ]
  },
  {
   "cell_type": "code",
   "execution_count": 10,
   "metadata": {
    "vscode": {
     "languageId": "java"
    }
   },
   "outputs": [
    {
     "name": "stdout",
     "output_type": "stream",
     "text": [
      "10\n"
     ]
    }
   ],
   "source": [
    "public class Hello {\n",
    "    int x;\n",
    "    int y;\n",
    "\n",
    "    public Hello(int i, int j) {\n",
    "        x=i;\n",
    "        y=j;\n",
    "    }\n",
    "\n",
    "    public int add() {\n",
    "        int sum;\n",
    "        sum = x + y;\n",
    "        return sum;\n",
    "    }\n",
    "    public static void main(String[] args) {\n",
    "        Hello temp = new Hello(4,6);\n",
    "        System.out.println(temp.add());\n",
    "    }\n",
    "}\n",
    "Hello.main(null)"
   ]
  },
  {
   "cell_type": "code",
   "execution_count": 6,
   "metadata": {
    "vscode": {
     "languageId": "java"
    }
   },
   "outputs": [
    {
     "name": "stdout",
     "output_type": "stream",
     "text": [
      "hello World"
     ]
    }
   ],
   "source": [
    "System.out.print(\"hello World\");"
   ]
  }
 ],
 "metadata": {
  "kernelspec": {
   "display_name": "Java",
   "language": "java",
   "name": "java"
  },
  "language_info": {
   "codemirror_mode": "java",
   "file_extension": ".jshell",
   "mimetype": "text/x-java-source",
   "name": "Java",
   "pygments_lexer": "java",
   "version": "11.0.16+8-post-Ubuntu-0ubuntu120.04"
  },
  "orig_nbformat": 4,
  "vscode": {
   "interpreter": {
    "hash": "916dbcbb3f70747c44a77c7bcd40155683ae19c65e1c03b4aa3499c5328201f1"
   }
  }
 },
 "nbformat": 4,
 "nbformat_minor": 2
}
