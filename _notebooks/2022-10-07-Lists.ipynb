{
 "cells": [
  {
   "cell_type": "markdown",
   "metadata": {},
   "source": [
    "# List interfaces and ArrayLists\n",
    "\n",
    "- title: List interfaces and ArrayLists\n",
    "- toc: true \n",
    "- badges: true\n",
    "- comments: true\n",
    "- categories: [jupyter]"
   ]
  },
  {
   "cell_type": "markdown",
   "metadata": {},
   "source": [
    "### Programm proposals towards a final project\n",
    "\n",
    "* What should be in Lists and Array object?\n",
    "  * Cardio excercises  \n",
    "  * Duration of workouts\n",
    "  * How many sets and reps\n",
    "  * Meal Plan\n",
    "  * when do we do?\n",
    "* What are you going to add or delete to the list?\n",
    "  \n",
    "* How are you going to diplay \n",
    "  Print the text using."
   ]
  },
  {
   "cell_type": "code",
   "execution_count": null,
   "metadata": {},
   "outputs": [],
   "source": [
    "import java.util.*;\n",
    "import java.io.*;\n",
    "\n",
    "public ArrayList {\n",
    "    private ArrayList<String> w1 = new ArrayList<String>(4);\n",
    "    private ArrayList<String> w2 = new ArrayList<String>(4);\n",
    "    private ArrayList<String> w3 = new ArrayList<String>(4);\n",
    "    private ArrayList<String> w4 = new ArrayList<String>(4);\n",
    "\n",
    "    private ArrayList(ArrayList <String> w1, ArrayList <String> w2, ArrayList <String> w3,ArrayList <String> w4) {\n",
    "        this.w1= w1;\n",
    "        this.w2= w2;\n",
    "        this.w3= w3;\n",
    "        this.w4= w4;\n",
    "    }\n",
    "    public static void main(String[] args) {\n",
    "        Scanner input;\n",
    "        int day;\n",
    "        \n",
    "        w1.add(0, \"Fast Walking\");\n",
    "        w1.add(1, \"30min\");\n",
    "        w1.add(0, \"3 sets, 10 min each\");\n",
    "        w1.add(0, \"Walking\");\n",
    "        input = new Scaner(system.in);\n",
    "        System.out.println(\"Enter the day: \");\n",
    "        day = input.nextInt();\n",
    "        if (day == 0) {\n",
    "\n",
    "        }\n",
    "\n",
    "    }\n",
    "}"
   ]
  }
 ],
 "metadata": {
  "kernelspec": {
   "display_name": "Java",
   "language": "java",
   "name": "java"
  },
  "language_info": {
   "codemirror_mode": "java",
   "file_extension": ".jshell",
   "mimetype": "text/x-java-source",
   "name": "java",
   "pygments_lexer": "java",
   "version": "11.0.16+8-post-Ubuntu-0ubuntu120.04"
  },
  "orig_nbformat": 4,
  "vscode": {
   "interpreter": {
    "hash": "916dbcbb3f70747c44a77c7bcd40155683ae19c65e1c03b4aa3499c5328201f1"
   }
  }
 },
 "nbformat": 4,
 "nbformat_minor": 2
}
