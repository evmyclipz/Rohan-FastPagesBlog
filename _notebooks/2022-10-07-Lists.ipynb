{
 "cells": [
  {
   "cell_type": "markdown",
   "metadata": {},
   "source": [
    "# List interfaces and ArrayLists\n",
    "\n",
    "- title: List interfaces and ArrayLists\n",
    "- toc: true \n",
    "- badges: true\n",
    "- comments: true\n",
    "- categories: [jupyter]"
   ]
  },
  {
   "cell_type": "markdown",
   "metadata": {},
   "source": [
    "### Program proposals towards a final project\n",
    "\n",
    "* What should be in Lists and Array object?\n",
    "  * Cardio excercises  \n",
    "  * Duration of workouts\n",
    "  * How many sets and reps\n",
    "  * Meal Plan\n",
    "  * when do we do?\n",
    "* What are you going to add or delete to the list?\n",
    "  * Schedule of each day\n",
    "  \n",
    "* How are you going to diplay \n",
    "  * Print the text using."
   ]
  },
  {
   "cell_type": "code",
   "execution_count": 1,
   "metadata": {
    "vscode": {
     "languageId": "java"
    }
   },
   "outputs": [
    {
     "name": "stdout",
     "output_type": "stream",
     "text": [
      "enter your wokrout schedule for the Day zero to day 3\n",
      "\n",
      "It's recommended to workout 4 days a week\n",
      "Please enter your workout schedule for day 0\n",
      "What workout?:  \n",
      "Duration of workout?:  \n",
      "Sets? and Rep?:  \n",
      "Meal Plan?:  \n",
      "Please enter your workout schedule for day 1\n",
      "What workout?:  \n",
      "Duration of workout?:  \n",
      "Sets? and Rep?:  \n",
      "Meal Plan?:  \n",
      "Please enter your workout schedule for day 2\n",
      "What workout?:  \n",
      "Duration of workout?:  \n",
      "Sets? and Rep?:  \n",
      "Meal Plan?:  \n",
      "Please enter your workout schedule for day 3\n",
      "What workout?:  \n",
      "Duration of workout?:  \n",
      "Sets? and Rep?:  \n",
      "Meal Plan?:  \n",
      "Enter the day you want see: \n"
     ]
    },
    {
     "ename": "EvalException",
     "evalue": "null",
     "output_type": "error",
     "traceback": [
      "\u001b[1m\u001b[31m---------------------------------------------------------------------------\u001b[0m",
      "\u001b[1m\u001b[31mjava.util.InputMismatchException: null\u001b[0m",
      "\u001b[1m\u001b[31m\tat java.base/java.util.Scanner.throwFor(Scanner.java:939)\u001b[0m",
      "\u001b[1m\u001b[31m\tat java.base/java.util.Scanner.next(Scanner.java:1594)\u001b[0m",
      "\u001b[1m\u001b[31m\tat java.base/java.util.Scanner.nextInt(Scanner.java:2258)\u001b[0m",
      "\u001b[1m\u001b[31m\tat java.base/java.util.Scanner.nextInt(Scanner.java:2212)\u001b[0m",
      "\u001b[1m\u001b[31m\tat FitnessList.main(#13:1)\u001b[0m",
      "\u001b[1m\u001b[31m\tat .(#14:1)\u001b[0m"
     ]
    }
   ],
   "source": [
    "import java.util.*;\n",
    "import java.io.*;\n",
    "import java.util.Scanner;\n",
    "\n",
    "public class FitnessList {\n",
    "    \n",
    "\n",
    "    public static void main(String[] args) {\n",
    "        Scanner input1, input2;\n",
    "        int i, i1;\n",
    "        //String x0 = \" \",x1 = \" \",x2 = \" \",x3 = \" \";\n",
    "        ArrayList<String> w_1 = new ArrayList<String>(4);\n",
    "        ArrayList<String> w_2 = new ArrayList<String>(4);\n",
    "        ArrayList<String> w_3 = new ArrayList<String>(4);\n",
    "        ArrayList<String> w_4 = new ArrayList<String>(4);\n",
    "        \n",
    "        input1 = new Scanner(System.in);\n",
    "        input2 = new Scanner(System.in);\n",
    "        System.out.println(\"enter your wokrout schedule for the Day zero to day 3\");\n",
    "        System.out.println();\n",
    "\n",
    "        System.out.println(\"It's recommended to workout 4 days a week\");\n",
    "\n",
    "        \n",
    "        for(i=0; i < 4; i++) {\n",
    "            System.out.println(\"Please enter your workout schedule for day \"+ i);\n",
    "            System.out.println(\"What workout?:  \");\n",
    "            ArrayList<String> w_i=w_1;\n",
    "            if(i==0)\n",
    "                w_i=w_1;\n",
    "            else if(i==1)\n",
    "                w_i=w_2;            \n",
    "            else if(i==2)\n",
    "                w_i=w_3;\n",
    "            else if(i==3)\n",
    "                w_i=w_4;\n",
    "\n",
    "            String x0 = input1.next();\n",
    "            w_i.add(0, x0);\n",
    "            System.out.println(\"Duration of workout?:  \");\n",
    "            String x1 = input1.next();\n",
    "            w_i.add(1, x1);\n",
    "            System.out.println(\"Sets? and Rep?:  \");\n",
    "            String x2 = input1.next();\n",
    "            w_i.add(2, x2);\n",
    "            System.out.println(\"Meal Plan?:  \");\n",
    "            String x3 = input1.next();\n",
    "            w_i.add(3, x3);\n",
    "        }\n",
    "\n",
    "             \n",
    "        System.out.println(\"Enter the day you want see: \");\n",
    "        i1 = input2.nextInt();\n",
    "        if (i1 == 0) {\n",
    "            i = 0;\n",
    "            for (String number : w_1) {\n",
    "                System.out.println(number);\n",
    "            }\n",
    "                   \n",
    "        }\n",
    "        else if (i1 == 1) {\n",
    "            i = 1;\n",
    "            for (String number : w_2) {\n",
    "                System.out.println(number);  \n",
    "            }\n",
    "                   \n",
    "        }\n",
    "        else if (i1 == 2) {\n",
    "            i = 2;\n",
    "            for (String number : w_3) {\n",
    "                System.out.println(number); \n",
    "            }\n",
    "                   \n",
    "        }\n",
    "        else if (i1 == 3) {\n",
    "            i = 3;\n",
    "            for (String number : w_4) {\n",
    "                System.out.println(number);    \n",
    "            }\n",
    "                   \n",
    "        }\n",
    "        else {\n",
    "            System.out.println(\"Today's a rest day\");\n",
    "        }\n",
    "        \n",
    "\n",
    "    }\n",
    "}\n",
    "FitnessList.main(null)"
   ]
  },
  {
   "cell_type": "markdown",
   "metadata": {},
   "source": [
    "### Challenges\n",
    "\n",
    "* When I am adding to the array, there is a repetetion of code which is very redundant, so I tried to decrease the lines of code using a for loop but the problem with that was all the values come into a single array and when asked to display, they display all the values of all instead of just one aray.\n",
    "\n",
    "* Solution to that was declaration of each individual array outside the for loop and defining them inside the for loop using a if and else if switch case.\n",
    "\n",
    "#### Present Problems\n",
    "\n",
    "* String input cannot take a string with spaces in them, if we do the array will think that we have given two values and skips procedure.\n",
    "\n",
    "* Lesson: String with spaces in them are considered 2 different values to fix this, I used dashed insteach of spaces to emphasize the break in thought."
   ]
  }
 ],
 "metadata": {
  "kernelspec": {
   "display_name": "Java",
   "language": "java",
   "name": "java"
  },
  "language_info": {
   "codemirror_mode": "java",
   "file_extension": ".jshell",
   "mimetype": "text/x-java-source",
   "name": "Java",
   "pygments_lexer": "java",
   "version": "11.0.16+8-post-Ubuntu-0ubuntu120.04"
  },
  "orig_nbformat": 4,
  "vscode": {
   "interpreter": {
    "hash": "916dbcbb3f70747c44a77c7bcd40155683ae19c65e1c03b4aa3499c5328201f1"
   }
  }
 },
 "nbformat": 4,
 "nbformat_minor": 2
}
