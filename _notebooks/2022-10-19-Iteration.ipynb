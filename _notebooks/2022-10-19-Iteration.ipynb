{
 "cells": [
  {
   "cell_type": "markdown",
   "metadata": {},
   "source": [
    "# Iteration\n",
    "\n",
    "- title: Iteration\n",
    "- toc: true \n",
    "- badges: true\n",
    "- comments: true\n",
    "- categories: [jupyter]"
   ]
  },
  {
   "cell_type": "markdown",
   "metadata": {},
   "source": [
    "### Why iteration and why is it important?\n",
    "\n",
    "* Use of loops to iterate through something."
   ]
  },
  {
   "cell_type": "code",
   "execution_count": 21,
   "metadata": {
    "vscode": {
     "languageId": "java"
    }
   },
   "outputs": [
    {
     "ename": "IncompleteSourceException",
     "evalue": "public class Monthlybudget {\n    public static void main(String[] args) {\n        \n        Scanner input = new Scanner(System.in);\n        System.out.println(\"Enter your budget for this month: \");\n        int budget = input.nextInt();\n        System.out.println(budget);\n        \n        static int expense;\n        Scanner input1 = new Scanner(System.in);\n        {for(int i = 0, int x; i < 1; i++) {\n            System.out.println(\"Enter your monthly expense: \");\n            x = input1.nextInt();\n            expense+=x;\n        }\n        System.out.println(expense);\n    }\n}\nMonthlybudget.main(null)",
     "output_type": "error",
     "traceback": [
      "\u001b[1m\u001b[31mIncomplete input:\u001b[0m",
      "\u001b[1m\u001b[30m|   \u001b[1m\u001b[30mpublic class Monthlybudget {\u001b[0m",
      "\u001b[1m\u001b[30m|   \u001b[1m\u001b[30m    public static void main(String[] args) {\u001b[0m",
      "\u001b[1m\u001b[30m|   \u001b[1m\u001b[30m        \u001b[0m",
      "\u001b[1m\u001b[30m|   \u001b[1m\u001b[30m        Scanner input = new Scanner(System.in);\u001b[0m",
      "\u001b[1m\u001b[30m|   \u001b[1m\u001b[30m        System.out.println(\"Enter your budget for this month: \");\u001b[0m",
      "\u001b[1m\u001b[30m|   \u001b[1m\u001b[30m        int budget = input.nextInt();\u001b[0m",
      "\u001b[1m\u001b[30m|   \u001b[1m\u001b[30m        System.out.println(budget);\u001b[0m",
      "\u001b[1m\u001b[30m|   \u001b[1m\u001b[30m        \u001b[0m",
      "\u001b[1m\u001b[30m|   \u001b[1m\u001b[30m        static int expense;\u001b[0m",
      "\u001b[1m\u001b[30m|   \u001b[1m\u001b[30m        Scanner input1 = new Scanner(System.in);\u001b[0m",
      "\u001b[1m\u001b[30m|   \u001b[1m\u001b[30m        {for(int i = 0, int x; i < 1; i++) {\u001b[0m",
      "\u001b[1m\u001b[30m|   \u001b[1m\u001b[30m            System.out.println(\"Enter your monthly expense: \");\u001b[0m",
      "\u001b[1m\u001b[30m|   \u001b[1m\u001b[30m            x = input1.nextInt();\u001b[0m",
      "\u001b[1m\u001b[30m|   \u001b[1m\u001b[30m            expense+=x;\u001b[0m",
      "\u001b[1m\u001b[30m|   \u001b[1m\u001b[30m        }\u001b[0m",
      "\u001b[1m\u001b[30m|   \u001b[1m\u001b[30m        System.out.println(expense);\u001b[0m",
      "\u001b[1m\u001b[30m|   \u001b[1m\u001b[30m    }\u001b[0m",
      "\u001b[1m\u001b[30m|   \u001b[1m\u001b[30m}\u001b[0m",
      "\u001b[1m\u001b[30m|   \u001b[1m\u001b[30mMonthlybudget.main(null)\u001b[0m"
     ]
    }
   ],
   "source": [
    "import java.util.Scanner;\n",
    "\n",
    "public class Monthlybudget {\n",
    "    public static void main(String[] args) {\n",
    "        \n",
    "        Scanner input = new Scanner(System.in);\n",
    "        System.out.println(\"Enter your budget for this month: \");\n",
    "        int budget = input.nextInt();\n",
    "        System.out.println(budget);\n",
    "        \n",
    "        static int expense;\n",
    "        Scanner input1 = new Scanner(System.in);\n",
    "        {for(int i = 0, int x; i < 1; i++) {\n",
    "            System.out.println(\"Enter your monthly expense: \");\n",
    "            x = input1.nextInt();\n",
    "            expense+=x;\n",
    "        }\n",
    "        System.out.println(expense);\n",
    "    }\n",
    "}\n",
    "Monthlybudget.main(null)"
   ]
  },
  {
   "cell_type": "code",
   "execution_count": 19,
   "metadata": {
    "vscode": {
     "languageId": "java"
    }
   },
   "outputs": [
    {
     "name": "stdout",
     "output_type": "stream",
     "text": [
      "Enter number\n",
      "3\n"
     ]
    }
   ],
   "source": [
    "import java.util.Scanner;\n",
    "\n",
    "Scanner input = new Scanner(System.in);\n",
    "System.out.println(\"Enter number\");\n",
    "int i = input.nextInt();\n",
    "System.out.println(i);"
   ]
  }
 ],
 "metadata": {
  "kernelspec": {
   "display_name": "Java",
   "language": "java",
   "name": "java"
  },
  "language_info": {
   "codemirror_mode": "java",
   "file_extension": ".jshell",
   "mimetype": "text/x-java-source",
   "name": "Java",
   "pygments_lexer": "java",
   "version": "11.0.16+8-post-Ubuntu-0ubuntu120.04"
  },
  "orig_nbformat": 4
 },
 "nbformat": 4,
 "nbformat_minor": 2
}
