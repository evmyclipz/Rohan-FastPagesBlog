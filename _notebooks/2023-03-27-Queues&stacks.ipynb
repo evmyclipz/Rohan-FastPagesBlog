{
 "cells": [
  {
   "attachments": {},
   "cell_type": "markdown",
   "metadata": {},
   "source": [
    "# Queues & Stacks\n",
    "  \n",
    "- title: Queues & Stacks\n",
    "- toc: true \n",
    "- badges: true\n",
    "- comments: true\n",
    "- categories: [jupyter]"
   ]
  },
  {
   "attachments": {},
   "cell_type": "markdown",
   "metadata": {},
   "source": [
    "### Classes and Objects\n",
    "\n",
    "##### Constructing Objects using classes\n",
    "* Constructor header with parameters\n",
    "* Accessors methods and getName and getAge and getLocation methods\n",
    "* Mutator methods with each have a parameter\n",
    "\n",
    "##### Calling methods on objects\n",
    "* Ex. Person teacher = new Person(\"Mr. Schultz\", 39, \"Ohio\")\n",
    "* Class objectName = new Class(parameters)\n",
    "* `object.method` to call methods on objects\n",
    "* Ex. teacher.getLocation(); or teacher.changeLocation(\"Florida\");\n",
    "\n",
    "##### Calling Static methods in classes\n",
    "* THe math class provides static methods that we can utilize through the `class.method()` convention\n",
    "* math class : static int abs(int x); \n",
    "* Ex. Math.abs(-45) // print 45\n",
    "\n",
    "##### Using the String class\n",
    "* String word = \"theater\" where the first letter starts with the index 0.\n",
    "* `object.method()` \n",
    "* Ex. word.length();\n",
    "\n",
    "\n",
    "Practice: MC\n",
    "* Its choice D because it passes the parameters in the correct manner with int and double.\n",
    "* Its choice E because it creates the object p1 and p2 and passes it into the new object with the line\n",
    "\n",
    "Practice: FRQ\n",
    "`public class CombinedTable{\n",
    "    private SingleTable table1;\n",
    "    private SingleTable table2;\n",
    "\n",
    "    public CombinedTable(SingleTable t1, SingleTable t2){\n",
    "        table1 = t1;\n",
    "        table2 = t2\n",
    "    }\n",
    "\n",
    "    public boolean canSeat(int n) {\n",
    "        if(table1.getNumSeats() + table2.getNumSeats() - 2 >= n)\n",
    "        {\n",
    "            return true;\n",
    "        }\n",
    "        else {\n",
    "            return false;\n",
    "        }\n",
    "    }\n",
    "\n",
    "    public double getDesirability() {\n",
    "        if(table1.getHeight() == table2.getHeight()) {\n",
    "            return table1.getViewQuality() + table2.getViewQuality()/2;\n",
    "        }\n",
    "        else{\n",
    "            return table1.getViewQuality() + table2.getViewQuality()/2 - 10;\n",
    "        }\n",
    "    }\n",
    "}`"
   ]
  },
  {
   "attachments": {},
   "cell_type": "markdown",
   "metadata": {},
   "source": [
    "### Simple Queues examples"
   ]
  },
  {
   "cell_type": "code",
   "execution_count": 3,
   "metadata": {
    "vscode": {
     "languageId": "java"
    }
   },
   "outputs": [
    {
     "name": "stdout",
     "output_type": "stream",
     "text": [
      "The Queue contents:[one, two, three, four]\n"
     ]
    }
   ],
   "source": [
    "import java.util.*;\n",
    " \n",
    "public class Main {\n",
    "   public static void main(String[] args) {\n",
    "    //declare a Queue   \n",
    "    Queue<String> str_queue = new LinkedList<>();\n",
    "    //initialize the queue with values\n",
    "    str_queue.add(\"one\");\n",
    "    str_queue.add(\"two\");\n",
    "    str_queue.add(\"three\");\n",
    "    str_queue.add(\"four\");\n",
    "    //print the Queue\n",
    "    System.out.println(\"The Queue contents:\" + str_queue);\n",
    "    }\n",
    "}\n",
    "\n",
    "Main.main(null)"
   ]
  },
  {
   "cell_type": "code",
   "execution_count": 4,
   "metadata": {
    "vscode": {
     "languageId": "java"
    }
   },
   "outputs": [
    {
     "name": "stdout",
     "output_type": "stream",
     "text": [
      "The Queue elements through iterator:\n",
      "Value-0 Value-1 Value-2 Value-3 \n",
      "\n",
      "The Queue elements using for loop:\n",
      "Value-0 Value-1 Value-2 Value-3 "
     ]
    }
   ],
   "source": [
    "import java.util.*;\n",
    "public class Main {\n",
    "   public static void main(String[] args) {\n",
    "     //declare a Queue  \n",
    "    Queue LL_queue = new LinkedList();\n",
    "    //initialize the Queue\n",
    "    LL_queue.add(\"Value-0\");\n",
    "    LL_queue.add(\"Value-1\");\n",
    "    LL_queue.add(\"Value-2\");\n",
    "    LL_queue.add(\"Value-3\");\n",
    "    //traverse the Queue using Iterator\n",
    "    System.out.println(\"The Queue elements through iterator:\");\n",
    "    Iterator iterator = LL_queue.iterator();\n",
    "    while(iterator.hasNext()){\n",
    "        String element = (String) iterator.next();\n",
    "        System.out.print(element + \" \");\n",
    "    }\n",
    "    System.out.println(\"\\n\\nThe Queue elements using for loop:\");\n",
    "    //use new for loop to traverse the Queue\n",
    "    for(Object object : LL_queue) {\n",
    "        String element = (String) object;\n",
    "        System.out.print(element + \" \");\n",
    "    }\n",
    "    }\n",
    "}\n",
    "Main.main(null)"
   ]
  },
  {
   "cell_type": "code",
   "execution_count": 5,
   "metadata": {
    "vscode": {
     "languageId": "java"
    }
   },
   "outputs": [
    {
     "name": "stdout",
     "output_type": "stream",
     "text": [
      "Elements in Queue:[10, 20, 30, 40, 50]\n",
      "Element removed from the queue: 10\n",
      "Head of the queue: 20\n",
      "Poll():Returned Head of the queue: 20\n",
      "peek():Head of the queue: 30\n",
      "Final Queue:[30, 40, 50]\n"
     ]
    }
   ],
   "source": [
    "import java.util.*;\n",
    "public class Main {\n",
    "    public static void main(String[] args) {\n",
    "        Queue<Integer> q1 = new LinkedList<Integer>();\n",
    "        //Add elements to the Queue\n",
    "        q1.add(10);\n",
    "        q1.add(20);\n",
    "        q1.add(30);\n",
    "        q1.add(40);\n",
    "        q1.add(50);\n",
    "        System.out.println(\"Elements in Queue:\"+q1);\n",
    "        //remove () method =>removes first element from the queue\n",
    "        System.out.println(\"Element removed from the queue: \"+q1.remove());\n",
    "        //element() => returns head of the queue\n",
    "        System.out.println(\"Head of the queue: \"+q1.element());\n",
    "        //poll () => removes and returns the head\n",
    "        System.out.println(\"Poll():Returned Head of the queue: \"+q1.poll());\n",
    "        //returns head of the queue\n",
    "        System.out.println(\"peek():Head of the queue: \"+q1.peek());\n",
    "        //print the contents of the Queue\n",
    "        System.out.println(\"Final Queue:\"+q1);\n",
    "    }\n",
    "}\n",
    "Main.main(null)"
   ]
  },
  {
   "attachments": {},
   "cell_type": "markdown",
   "metadata": {},
   "source": [
    "### Array Implementation of Queue"
   ]
  },
  {
   "cell_type": "code",
   "execution_count": 7,
   "metadata": {
    "vscode": {
     "languageId": "java"
    }
   },
   "outputs": [
    {
     "name": "stdout",
     "output_type": "stream",
     "text": [
      "Initial Queue:\n",
      "Queue is Empty\n",
      "Queue after Enqueue Operation:\n",
      " 10 =  30 =  50 =  70 = \n",
      "Front Element of the queue: 10\n",
      "Queue is full\n",
      " 10 =  30 =  50 =  70 = \n",
      "Queue after two dequeue operations: 50 =  70 = \n",
      "Front Element of the queue: 50"
     ]
    }
   ],
   "source": [
    "class Queue { \n",
    "    private static int front, rear, capacity; \n",
    "    private static int queue[]; \n",
    "   \n",
    "    Queue(int size) { \n",
    "        front = rear = 0; \n",
    "        capacity = size; \n",
    "        queue = new int[capacity]; \n",
    "    } \n",
    "   \n",
    "    // insert an element into the queue\n",
    "    static void queueEnqueue(int item)  { \n",
    "        // check if the queue is full\n",
    "        if (capacity == rear) { \n",
    "            System.out.printf(\"\\nQueue is full\\n\"); \n",
    "            return; \n",
    "        } \n",
    "   \n",
    "        // insert element at the rear \n",
    "        else { \n",
    "            queue[rear] = item; \n",
    "            rear++; \n",
    "        } \n",
    "        return; \n",
    "    } \n",
    "   \n",
    "    //remove an element from the queue\n",
    "    static void queueDequeue()  { \n",
    "        // check if queue is empty \n",
    "        if (front == rear) { \n",
    "            System.out.printf(\"\\nQueue is empty\\n\"); \n",
    "            return; \n",
    "        } \n",
    "   \n",
    "        // shift elements to the right by one place uptil rear \n",
    "        else { \n",
    "            for (int i = 0; i < rear - 1; i++) { \n",
    "                queue[i] = queue[i + 1]; \n",
    "            } \n",
    "   \n",
    "       \n",
    "      // set queue[rear] to 0\n",
    "            if (rear < capacity) \n",
    "                queue[rear] = 0; \n",
    "   \n",
    "            // decrement rear \n",
    "            rear--; \n",
    "        } \n",
    "        return; \n",
    "    } \n",
    "   \n",
    "    // print queue elements \n",
    "    static void queueDisplay() \n",
    "    { \n",
    "        int i; \n",
    "        if (front == rear) { \n",
    "            System.out.printf(\"Queue is Empty\\n\"); \n",
    "            return; \n",
    "        } \n",
    "   \n",
    "        // traverse front to rear and print elements \n",
    "        for (i = front; i < rear; i++) { \n",
    "            System.out.printf(\" %d = \", queue[i]); \n",
    "        } \n",
    "        return; \n",
    "    } \n",
    "   \n",
    "    // print front of queue \n",
    "    static void queueFront() \n",
    "    { \n",
    "        if (front == rear) { \n",
    "            System.out.printf(\"Queue is Empty\\n\"); \n",
    "            return; \n",
    "        } \n",
    "        System.out.printf(\"\\nFront Element of the queue: %d\", queue[front]); \n",
    "        return; \n",
    "    } \n",
    "} \n",
    " \n",
    "public class Main {\n",
    "    public static void main(String[] args) { \n",
    "        // Create a queue of capacity 4 \n",
    "        Queue q = new Queue(4); \n",
    "   \n",
    "        System.out.println(\"Initial Queue:\");\n",
    "       // print Queue elements \n",
    "        q.queueDisplay(); \n",
    "   \n",
    "        // inserting elements in the queue \n",
    "        q.queueEnqueue(10); \n",
    "        q.queueEnqueue(30); \n",
    "        q.queueEnqueue(50); \n",
    "        q.queueEnqueue(70); \n",
    "   \n",
    "        // print Queue elements \n",
    "        System.out.println(\"Queue after Enqueue Operation:\");\n",
    "        q.queueDisplay(); \n",
    "   \n",
    "        // print front of the queue \n",
    "        q.queueFront(); \n",
    "         \n",
    "        // insert element in the queue \n",
    "        q.queueEnqueue(90); \n",
    "   \n",
    "        // print Queue elements \n",
    "        q.queueDisplay(); \n",
    "   \n",
    "        q.queueDequeue(); \n",
    "        q.queueDequeue(); \n",
    "        System.out.printf(\"\\nQueue after two dequeue operations:\"); \n",
    "   \n",
    "        // print Queue elements \n",
    "        q.queueDisplay(); \n",
    "   \n",
    "        // print front of the queue \n",
    "        q.queueFront(); \n",
    "    } \n",
    "}\n",
    "Main.main(null)"
   ]
  }
 ],
 "metadata": {
  "kernelspec": {
   "display_name": "Java",
   "language": "java",
   "name": "java"
  },
  "language_info": {
   "codemirror_mode": "java",
   "file_extension": ".jshell",
   "mimetype": "text/x-java-source",
   "name": "Java",
   "pygments_lexer": "java",
   "version": "11.0.16+8-post-Ubuntu-0ubuntu120.04"
  },
  "orig_nbformat": 4
 },
 "nbformat": 4,
 "nbformat_minor": 2
}
