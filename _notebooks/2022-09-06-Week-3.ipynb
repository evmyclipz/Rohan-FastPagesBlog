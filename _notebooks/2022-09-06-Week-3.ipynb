{
 "cells": [
  {
   "cell_type": "markdown",
   "metadata": {},
   "source": [
    "# My Week 3 learning Objectives\n"
   ]
  },
  {
   "cell_type": "markdown",
   "metadata": {},
   "source": [
    "![](my_icons/2022-09-05.png)"
   ]
  },
  {
   "cell_type": "markdown",
   "metadata": {},
   "source": [
    "# Learning Objectives from Code.org\n",
    "\n",
    "* Method signature has the name of the function and the parameters, can be called to the main program using .name().\n",
    "* Constructer used to make the objects in the program perform certain operations which are already defined in the super class.\n",
    "* Super Class is a generalization and a sub class is a part of that generalization"
   ]
  },
  {
   "cell_type": "markdown",
   "metadata": {},
   "source": [
    "# Using Objects Objectives\n",
    "\n",
    "* [Own OOP to show mastery](https://evmyclipz.github.io/sample1_blog/2022/08/21/JavaSample.html#My-First-object-oriented-programm(Console-based))\n",
    "* [GUI I worked on with my pair, Aryan.](https://evmyclipz.github.io/sample1_blog/2022/01/09/GUI_using_Java.html)"
   ]
  },
  {
   "cell_type": "markdown",
   "metadata": {},
   "source": [
    "# Other things\n",
    "\n",
    "* [Added some vocab](https://evmyclipz.github.io/sample1_blog/notes/)"
   ]
  }
 ],
 "metadata": {
  "kernelspec": {
   "display_name": "Java",
   "language": "java",
   "name": "java"
  },
  "language_info": {
   "name": "java"
  },
  "orig_nbformat": 4
 },
 "nbformat": 4,
 "nbformat_minor": 2
}
