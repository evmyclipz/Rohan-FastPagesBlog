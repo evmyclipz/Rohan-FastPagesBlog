{
 "cells": [
  {
   "attachments": {},
   "cell_type": "markdown",
   "metadata": {},
   "source": [
    "# AP FRQ practice\n",
    "  \n",
    "- title: AP FRQ practice\n",
    "- toc: true \n",
    "- badges: true\n",
    "- comments: true\n",
    "- categories: [jupyter]"
   ]
  },
  {
   "attachments": {},
   "cell_type": "markdown",
   "metadata": {},
   "source": [
    "### FRQ - 2D arrays #1\n",
    "\n",
    "* 1st - return boolean value if the values of row of specified index are non-zero "
   ]
  },
  {
   "cell_type": "code",
   "execution_count": 8,
   "metadata": {
    "vscode": {
     "languageId": "java"
    }
   },
   "outputs": [
    {
     "name": "stdout",
     "output_type": "stream",
     "text": [
      "true"
     ]
    }
   ],
   "source": [
    "\n",
    "\n",
    "public class ArrayResizer {\n",
    "\n",
    "    /** Returns true if and only if every value in row r of array2D\n",
    "    * is non-zero.\n",
    "    * Precondition: r is a valid row index in array2D.\n",
    "    * Postcondition: array2D is unchanged.\n",
    "    */\n",
    "    public static boolean isNonZeroRow(int[][] arr, int r) { \n",
    "        /* to be implemented in part (a) */ \n",
    "        for(int i = 0; i < arr[r].length; i++) {\n",
    "            if(arr[r][i] == 0) {\n",
    "                return false;\n",
    "            }\n",
    "        }\n",
    "        return true;\n",
    "    }\n",
    "\n",
    "    \n",
    "    /** Returns the number of rows in array2D that contain all\n",
    "    * non-zero values.\n",
    "    * Postcondition: array2D is unchanged.\n",
    "    */\n",
    "    public static int numNonZeroRows(int[][] arr) { \n",
    "        /* implementation not shown */\n",
    "        return 0; \n",
    "    }\n",
    "\n",
    "    \n",
    "\n",
    "    /** Returns a new, possibly smaller, two-dimensional array that\n",
    "    * contains only rows from array2D with no zeros, as described\n",
    "    * in part (b).\n",
    "    * Precondition: array2D contains at least one column\n",
    "    * and at least one row with no zeros.\n",
    "    * Postcondition: array2D is unchanged\n",
    "    */\n",
    "    public static int[][] resize(int[][] arr) { \n",
    "        /* to be implemented in part (b) */ \n",
    "        return arr;\n",
    "    }\n",
    "\n",
    "    public static void main(String[] args) {\n",
    "        int[][] array = {{2, 1, 0},\n",
    "                        {1, 3, 2},\n",
    "                        {0, 0, 0},\n",
    "                        {4, 5, 6}};\n",
    "\n",
    "        System.out.print(isNonZeroRow(array, 3));\n",
    "\n",
    "        /* \n",
    "        for(int i : test) {\n",
    "            System.out.println(i);\n",
    "        }\n",
    "        */\n",
    "    }\n",
    "\n",
    "}\n",
    "ArrayResizer.main(null)\n"
   ]
  }
 ],
 "metadata": {
  "kernelspec": {
   "display_name": "Java",
   "language": "java",
   "name": "java"
  },
  "language_info": {
   "codemirror_mode": "java",
   "file_extension": ".jshell",
   "mimetype": "text/x-java-source",
   "name": "Java",
   "pygments_lexer": "java",
   "version": "11.0.16+8-post-Ubuntu-0ubuntu120.04"
  },
  "orig_nbformat": 4
 },
 "nbformat": 4,
 "nbformat_minor": 2
}
