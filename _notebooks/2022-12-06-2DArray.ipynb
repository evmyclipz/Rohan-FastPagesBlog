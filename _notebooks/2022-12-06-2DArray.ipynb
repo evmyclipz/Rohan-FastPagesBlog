{
 "cells": [
  {
   "cell_type": "markdown",
   "metadata": {},
   "source": [
    "# 2D Array\n",
    "\n",
    "- title: 2D Array\n",
    "- toc: true \n",
    "- badges: true\n",
    "- comments: true\n",
    "- categories: [jupyter]"
   ]
  },
  {
   "cell_type": "code",
   "execution_count": null,
   "metadata": {},
   "outputs": [],
   "source": [
    "public class TwoDarrays {\n",
    "    public TwoDarrays() {\n",
    "        int[][] arr = new int[][]; \n",
    "    }\n",
    "\n",
    "    public static void main(String[] args) {\n",
    "        \n",
    "    }\n",
    "}"
   ]
  }
 ],
 "metadata": {
  "kernelspec": {
   "display_name": "Java",
   "language": "python",
   "name": "java"
  },
  "language_info": {
   "name": "python",
   "version": "3.9.12 (main, Apr  5 2022, 06:56:58) \n[GCC 7.5.0]"
  },
  "orig_nbformat": 4,
  "vscode": {
   "interpreter": {
    "hash": "e5fac65c297e042e477f193dd578cca6f2bb3fa0ab7e11b01d43ef300f56e9d1"
   }
  }
 },
 "nbformat": 4,
 "nbformat_minor": 2
}
