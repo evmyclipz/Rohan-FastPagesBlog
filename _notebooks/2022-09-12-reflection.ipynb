{
 "cells": [
  {
   "cell_type": "markdown",
   "metadata": {},
   "source": [
    "# Self Reflection\n",
    "> Covers human part\n",
    "\n",
    "\n",
    "- title: Self Reflection\n",
    "- toc: true \n",
    "- badges: true\n",
    "- comments: true\n",
    "- categories: [jupyter]"
   ]
  },
  {
   "cell_type": "markdown",
   "metadata": {},
   "source": [
    "# What I learnt from video\n",
    "\n",
    "* People are trying too much to go beyoung their most basic needs\n",
    "* People should learn to appreaciate things more so that we can gain happiness at all times\n",
    "* Even though busy, make social connections with others and help them to gain happiness\n",
    "* Life's circumstances matter a lot but they don't\n",
    "* Practicing Healthy practices like excersize everyday is like taking the top anti-depressent drug\n",
    "* Learn to appreaciate the present more than the future "
   ]
  },
  {
   "cell_type": "markdown",
   "metadata": {},
   "source": [
    "# Gratitude\n",
    "\n",
    "* I am grateful for my parents for working so hard in order to give me oppurtunity.\n",
    "* I am grateful to have friends who I can rely on.\n",
    "* I am grateful for having food to eat, a house to live and people to interact with\n",
    "* I am grateful to have such loving parents who cheer me up if I fail at something. \n"
   ]
  },
  {
   "cell_type": "markdown",
   "metadata": {},
   "source": [
    "# Goals\n",
    "\n",
    "* I want to get my spot on the badminton national ranking.\n",
    "* Learn C++, java and Python by the time I graduate high school.\n",
    "* Lose weight and become fit\n",
    "* Carry out the plan I have made for this year.\n",
    "* Finish College apps soon "
   ]
  }
 ],
 "metadata": {
  "kernelspec": {
   "display_name": "Java",
   "language": "java",
   "name": "java"
  },
  "language_info": {
   "name": "java"
  },
  "orig_nbformat": 4
 },
 "nbformat": 4,
 "nbformat_minor": 2
}
