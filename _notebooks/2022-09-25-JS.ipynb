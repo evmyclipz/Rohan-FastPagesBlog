{
 "cells": [
  {
   "cell_type": "markdown",
   "metadata": {},
   "source": [
    "# Javascript post\n",
    "\n",
    "- title: Javascript post\n",
    "- toc: true \n",
    "- badges: true\n",
    "- comments: true\n",
    "- categories: [jupyter]"
   ]
  },
  {
   "cell_type": "code",
   "execution_count": 1,
   "metadata": {},
   "outputs": [
    {
     "name": "stdout",
     "output_type": "stream",
     "text": [
      "Hello World\n"
     ]
    }
   ],
   "source": [
    "console.log(\"Hello World\");"
   ]
  },
  {
   "cell_type": "markdown",
   "metadata": {},
   "source": [
    "<html>\n",
    "<head>\n",
    "<!--style> \n",
    "input[type=button]{\n",
    "  background-color: #04AA6D;\n",
    "  border: none;\n",
    "  color: white;\n",
    "  padding: 8px 16px;\n",
    "  text-decoration: none;\n",
    "  margin: 2px 1px;\n",
    "  cursor: pointer;\n",
    "}\n",
    "</style-->\n",
    "</head>\n",
    "<body>\n",
    "\n",
    "<h2>Number System Calculator</h2>\n",
    "\n",
    "<form>\n",
    "  <input type=\"button\" value=\" HEX \"><input type=\"text\" id=\"fhex\" name=\"fhex\" value=\"5ACC\"><br>\n",
    "  <input type=\"button\" value=\" DEC \"><input type=\"text\" id=\"fdec\" name=\"fdec\" value=\"23244\"><br>\n",
    "  <input type=\"button\" value=\" OCT \"><input type=\"text\" id=\"foct\" name=\"foct\" value=\"055314\"><br>\n",
    "  <input type=\"button\" value=\" BIN   \"><input type=\"text\" id=\"fbinary\" name=\"fbinary\" value=\"101101011001100\"><br>\n",
    "  <input type=\"button\" value=\"A\"><input type=\"button\" value=\"B\">\n",
    "  <input type=\"button\" value=\"C\"><input type=\"button\" value=\"D\">\n",
    "  <input type=\"button\" value=\"E\"><input type=\"button\" value=\"F\"><br>\n",
    "  <input type=\"button\" value=\"7\"><input type=\"button\" value=\"8\">\n",
    "  <input type=\"button\" value=\"9\"><input type=\"button\" value=\"C\">\n",
    "  <input type=\"button\" value=\"AC\"><br>\n",
    "  <input type=\"button\" value=\"4\"><input type=\"button\" value=\"5\">\n",
    "  <input type=\"button\" value=\"6\"><input type=\"button\" value=\"*\">\n",
    "  <input type=\"button\" value=\"/\"><br>\n",
    "  <input type=\"button\" value=\"1\"><input type=\"button\" value=\"2\">\n",
    "  <input type=\"button\" value=\"3\"><input type=\"button\" value=\"0\">\n",
    "  <input type=\"button\" value=\"+\"><input type=\"button\" value=\"-\"><br>\n",
    "\n",
    "</form> \n",
    "</body>\n",
    "</html>\n"
   ]
  },
  {
   "cell_type": "code",
   "execution_count": 2,
   "metadata": {},
   "outputs": [
    {
     "data": {
      "text/plain": [
       "[Function]"
      ]
     },
     "execution_count": 2,
     "metadata": {},
     "output_type": "execute_result"
    }
   ],
   "source": [
    "// define a function to hold data for a Employee\n",
    "function Employee(name, staffID, desgn) {   \n",
    "    this.name = name;  //following are common variables within a class\n",
    "    this.staffID = staffID;   //what is it doing? THey initialize the variables, meaning they give it a value\n",
    "    this.desgn = desgn;\n",
    "    this.level = \"\";\n",
    "  }\n",
    "  \n",
    "  // define a setter for role in Employee data\n",
    "Employee.prototype.setLevel = function(level) {\n",
    "    this.level = level;  //this. sets the value of level\n",
    "  }\n",
    "  \n",
    "  // define a JSON conversion \"method\" associated with Employee\n",
    "Employee.prototype.toJSON = function() {  //JSON performes like a dictionary in Python, each of the data passed is in a name value pair.\n",
    "    const obj = {Name: this.name, Staff_ID: this.staffID, Designation: this.desgn, Level: this.level};  //const means that the variable defined will not change in value\n",
    "    const json = JSON.stringify(obj);  // json/string is useful when passing data on internet\n",
    "    return json;\n",
    "  }\n",
    "\n",
    "  // make a new employee and assign to variable company\n",
    "var company = new Employee(\"Rohan Pharma\", \"1\", \"CEO\");  // object type is easy to work with in JavaScript\n"
   ]
  },
  {
   "cell_type": "code",
   "execution_count": 3,
   "metadata": {},
   "outputs": [
    {
     "name": "stdout",
     "output_type": "stream",
     "text": [
      "Looking at dynamic nature of types in JavaScript\n",
      "string ; hello\n",
      "number ; 2020\n",
      "object ; [ 1, 2, 3 ]\n"
     ]
    }
   ],
   "source": [
    "function logItType(output) {\n",
    "    console.log(typeof output, \";\", output);\n",
    "}\n",
    "console.log(\"Looking at dynamic nature of types in JavaScript\")\n",
    "logItType(\"hello\"); // String\n",
    "logItType(2020);    // Number\n",
    "logItType([1, 2, 3]);  // Object is generic for this Array, which similar to Python List"
   ]
  },
  {
   "cell_type": "code",
   "execution_count": 4,
   "metadata": {},
   "outputs": [
    {
     "name": "stdout",
     "output_type": "stream",
     "text": [
      "object ; Employee {\n",
      "  name: 'Alice',\n",
      "  staffID: 'A3-101',\n",
      "  desgn: 'Scientist Gr.3',\n",
      "  level: 'Worker' }\n",
      "string ; {\"Name\":\"Alice\",\"Staff_ID\":\"A3-101\",\"Designation\":\"Scientist Gr.3\",\"Level\":\"Worker\"}\n",
      "object ; { Name: 'Alice',\n",
      "  Staff_ID: 'A3-101',\n",
      "  Designation: 'Scientist Gr.3',\n",
      "  Level: 'Worker' }\n"
     ]
    }
   ],
   "source": [
    "//Define Employees\n",
    "var employees = [ \n",
    "    new Employee(\"Mohan\", \"M1-203\", \"Manager\"),\n",
    "    new Employee(\"David\", \"A2-301\", \"Scientist Gr.4\"),\n",
    "    new Employee(\"Prashant\", \"A2-201\", \"Scientist Gr.2\"),\n",
    "    new Employee(\"Alice\", \"A3-101\", \"Scientist Gr.3\"),\n",
    "    new Employee(\"Eric\", \"B-101\", \"Sr.Tech\"),\n",
    "    new Employee(\"John\", \"A-1\", \"Jr.Tech\")\n",
    "  ];\n",
    "  \n",
    "  // define a company and build employees objects and json\n",
    "  function Industry(company, employees){ // 1 company, many workers\n",
    "    // start industry with company\n",
    "    company.setLevel(\"Head\");\n",
    "    this.company = company;\n",
    "    this.industry = [company];  //array creationg\n",
    "    // add each employee to company\n",
    "    this.employees = employees;\n",
    "    this.employees.forEach(worker => { worker.setLevel(\"Worker\"); this.industry.push(worker); });  //performs like a for loop which which pases each worker into industry after assigning level\n",
    "    // build json/string format of industry\n",
    "    this.json = [];  //json array\n",
    "    this.industry.forEach(employee => this.json.push(employee.toJSON()));  //collection of strings being inputed into json array\n",
    "  }\n",
    "  \n",
    "  // make a myindustry from formerly defined company and employees\n",
    "  myIndustry = new Industry(company, employees);\n",
    "  \n",
    "  logItType(myIndustry.industry[4]);\n",
    "  logItType(myIndustry.json[4]);\n",
    "  logItType(JSON.parse(myIndustry.json[4]));"
   ]
  },
  {
   "cell_type": "code",
   "execution_count": 5,
   "metadata": {},
   "outputs": [
    {
     "data": {
      "text/html": [
       "<div style='display:inline-block;border: 2px solid grey;box-shadow: 0.8em 0.4em 0.4em grey;'><table><tr><th><mark>Name</mark></th><th><mark>Staff ID</mark></th><th><mark>Designation</mark></th><th><mark>Level</mark></th></tr><tr><td>Rohan Pharma</td><td>1</td><td>CEO</td><td>Head</td><tr><tr><td>Mohan</td><td>M1-203</td><td>Manager</td><td>Worker</td><tr><tr><td>David</td><td>A2-301</td><td>Scientist Gr.4</td><td>Worker</td><tr><tr><td>Prashant</td><td>A2-201</td><td>Scientist Gr.2</td><td>Worker</td><tr><tr><td>Alice</td><td>A3-101</td><td>Scientist Gr.3</td><td>Worker</td><tr><tr><td>Eric</td><td>B-101</td><td>Sr.Tech</td><td>Worker</td><tr><tr><td>John</td><td>A-1</td><td>Jr.Tech</td><td>Worker</td><tr></table></div>"
      ]
     },
     "execution_count": 5,
     "metadata": {},
     "output_type": "execute_result"
    }
   ],
   "source": [
    "// define an HTML conversion \"method\" associated with Classroom\n",
    "Industry.prototype._toHtml = function() {\n",
    "    // HTML Style is build using inline structure\n",
    "    var style = (\n",
    "      \"display:inline-block;\" +\n",
    "      \"border: 2px solid grey;\" +\n",
    "      \"box-shadow: 0.8em 0.4em 0.4em grey;\"\n",
    "    );\n",
    "  \n",
    "    // HTML Body of Table is build as a series of concatenations (+=)\n",
    "    var body = \"\";\n",
    "    // Heading for Array Columns\n",
    "    body += \"<tr>\"; //concatonating row\n",
    "    body += \"<th><mark>\" + \"Name\" + \"</mark></th>\";  //concatonating heding with name of employer \n",
    "    body += \"<th><mark>\" + \"Staff ID\" + \"</mark></th>\";\n",
    "    body += \"<th><mark>\" + \"Designation\" + \"</mark></th>\";\n",
    "    body += \"<th><mark>\" + \"Level\" + \"</mark></th>\";\n",
    "    body += \"</tr>\";\n",
    "    // Data of Array, iterate through each row of compsci.classroom \n",
    "    for (var row in myIndustry.industry) {\n",
    "      // tr for each row, a new line\n",
    "      body += \"<tr>\";\n",
    "      // td for each column of data\n",
    "    body += \"<td>\" + myIndustry.industry[row].name + \"</td>\";\n",
    "    body += \"<td>\" + myIndustry.industry[row].staffID + \"</td>\";\n",
    "    body += \"<td>\" + myIndustry.industry[row].desgn + \"</td>\";\n",
    "    body += \"<td>\" + myIndustry.industry[row].level + \"</td>\";\n",
    "    // tr to end line\n",
    "    body += \"<tr>\";\n",
    "  }\n",
    "\n",
    "   // Build and HTML fragment of div, table, table body\n",
    "  return (\n",
    "    \"<div style='\" + style + \"'>\" +\n",
    "      \"<table>\" +\n",
    "        body +\n",
    "      \"</table>\" +\n",
    "    \"</div>\"\n",
    "  );\n",
    "\n",
    "};\n",
    "\n",
    "// IJavaScript HTML processor receive parameter of defined HTML fragment\n",
    "$$.html(myIndustry._toHtml());"
   ]
  },
  {
   "cell_type": "markdown",
   "metadata": {},
   "source": [
    "<html>\n",
    "<head>\n",
    "\n",
    "</head>\n",
    "<body>\n",
    "\n",
    "<h2>Enter Employee Details</h2>\n",
    "\n",
    "<form name=\"frm1\">\n",
    "  <label for=\"name\">Employee name:</label><br>\n",
    "  <input type=\"text\" id=\"name\" name=\"name\" value=\"David\"><br>\n",
    "  <label for=\"staffid\">Staff ID:</label><br>\n",
    "  <input type=\"text\" id=\"staffid\" name=\"staffid\" value=\"A2-301\"><br>\n",
    "  <label for=\"desgn\">Designation:</label><br>\n",
    "  <input type=\"text\" id=\"desgn\" name=\"desgn\" value=\"Scientist Gr.4\"><br>\n",
    "  <label for=\"level\">Level:</label><br>\n",
    "  <select id=\"level\" name=\"level\">\n",
    "  <option value=\"worker\">Worker</option>\n",
    "  <option value=\"head\">Head</option>\n",
    "</select><br>\n",
    "<br>\n",
    "<input type=\"submit\" value=\"Submit\" >\n",
    "<input type=\"reset\">\n",
    "</form>\n",
    "\n",
    "<button onclick=\"validateForm() \">Try it</button>\n",
    "\n",
    "<script>\n",
    "function validateForm() \n",
    "{\n",
    "\n",
    "  const rc = document.forms[\"frm1\"];\n",
    "    // creates a <table> element and a <tbody> element\n",
    "    const tbl = document.createElement(\"table\");\n",
    "    const tblBody = document.createElement(\"tbody\");\n",
    "  \n",
    "    // creating all cells\n",
    "   // for (let i = 0; i < 2; i++) {\n",
    "      // creates a table row\n",
    "      const r1 = document.createElement(\"tr\"); //row\n",
    "      const ch = document.createElement(\"th\"); //heading\n",
    "      const mark = document.createElement(\"mark\");\n",
    "      const ct = document.createTextNode(\"Name\");\n",
    "      ch.appendChild(mark);\n",
    "      ch.appendChild(ct);\n",
    "      r1.appendChild(ch);\n",
    "      const ch1 = document.createElement(\"th\");\n",
    "      const ct1 = document.createTextNode(\"Staff ID\");\n",
    "      ch1.appendChild(mark);\n",
    "      ch1.appendChild(ct1);\n",
    "      r1.appendChild(ch1);\n",
    "      const ch2 = document.createElement(\"th\");\n",
    "      const ct2 = document.createTextNode(\"Designation\");\n",
    "      ch2.appendChild(mark);\n",
    "      ch2.appendChild(ct2);\n",
    "      r1.appendChild(ch2);\n",
    "      const ch3 = document.createElement(\"th\");\n",
    "      const ct3 = document.createTextNode(\"Level\");\n",
    "      ch3.appendChild(mark);\n",
    "      ch3.appendChild(ct3);\n",
    "      r1.appendChild(ch3);\n",
    "      tblBody.appendChild(r1);\n",
    "      \n",
    "        // Create a <td> element and a text node, make the text\n",
    "        // node the contents of the <td>, and put the <td> at\n",
    "        // the end of the table row\n",
    "        const newrow = document.createElement(\"tr\");\n",
    "        const cell = document.createElement(\"td\"); ///data\n",
    "        const cellText = document.createTextNode(rc.elements[0].value);\n",
    "        cell.appendChild(cellText);\n",
    "        const cell1 = document.createElement(\"td\");\n",
    "        const cellText1 = document.createTextNode(rc.elements[1].value);\n",
    "        cell1.appendChild(cellText1);\n",
    "        const cell2 = document.createElement(\"td\");\n",
    "        const cellText2 = document.createTextNode(rc.elements[2].value);\n",
    "        cell2.appendChild(cellText2);\n",
    "        const cell3 = document.createElement(\"td\");\n",
    "        const cellText3 = document.createTextNode(rc.elements[3].value);\n",
    "        cell3.appendChild(cellText3);\n",
    "       \n",
    "        newrow.appendChild(cell);\n",
    "        newrow.appendChild(cell1);\n",
    "        newrow.appendChild(cell2);\n",
    "        newrow.appendChild(cell3);\n",
    "\n",
    "        // add the row to the end of the table body\n",
    "        tblBody.appendChild(newrow);\n",
    "     \n",
    "    // put the <tbody> in the <table>\n",
    "    tbl.appendChild(tblBody);\n",
    "    // appends <table> into <body>\n",
    "    document.body.appendChild(tbl);\n",
    "    // sets the border attribute of tbl to '2'\n",
    "    tbl.setAttribute(\"border\", \"2\");\n",
    "    \n",
    "}\n",
    "</script>\n",
    "\n",
    "<p>Also note that the default width of text input fields is 20 characters.</p>\n",
    "\n",
    "</body>\n",
    "</html>"
   ]
  }
 ],
 "metadata": {
  "kernelspec": {
   "display_name": "JavaScript (Node.js)",
   "language": "javascript",
   "name": "javascript"
  },
  "language_info": {
   "file_extension": ".js",
   "mimetype": "application/javascript",
   "name": "javascript",
   "version": "6.11.2"
  },
  "orig_nbformat": 4,
  "vscode": {
   "interpreter": {
    "hash": "916dbcbb3f70747c44a77c7bcd40155683ae19c65e1c03b4aa3499c5328201f1"
   }
  }
 },
 "nbformat": 4,
 "nbformat_minor": 2
}
