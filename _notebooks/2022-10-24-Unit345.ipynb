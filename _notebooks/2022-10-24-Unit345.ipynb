{
 "cells": [
  {
   "cell_type": "markdown",
   "metadata": {},
   "source": [
    "# Unit 3, 4 and 5 HW\n",
    "\n",
    "- title: Unit 3, 4 and 5 HW\n",
    "- toc: true \n",
    "- badges: true\n",
    "- comments: true\n",
    "- categories: [jupyter]"
   ]
  },
  {
   "cell_type": "markdown",
   "metadata": {},
   "source": [
    "### Unit 3- Boolean Expressions and if statements"
   ]
  },
  {
   "cell_type": "code",
   "execution_count": null,
   "metadata": {},
   "outputs": [],
   "source": [
    "import java.util.ArrayList;\n",
    "\n",
    "/**\n",
    " * 2009 3b)\n",
    " */\n",
    "\n",
    "public int getChargetimeStartTime(int chargeTime) {\n",
    "    ArrayList<Integer> arr = new ArrayList<Integer>();\n",
    "    \n",
    "    for(int i = 0; i < chargeTime; i++) {\n",
    "        arr.add(i, getChargingCost(i,i+(ChargeTime-1)));\n",
    "    }\n",
    "    int temp = arr.get(0);\n",
    "    for(int i  : arr ) {\n",
    "        if(temp < i) {}\n",
    "        else {\n",
    "            temp = i; \n",
    "        }\n",
    "    }\n",
    "    return arr.indexOf(temp);\n",
    "    \n",
    "    \n",
    "}"
   ]
  },
  {
   "cell_type": "code",
   "execution_count": 1,
   "metadata": {},
   "outputs": [
    {
     "name": "stdout",
     "output_type": "stream",
     "text": [
      "true\n"
     ]
    }
   ],
   "source": [
    "import java.util.*;\n",
    "/**\n",
    " * 2017 1\n",
    " */\n",
    "public class Digit {\n",
    "    private ArrayList<Integer> digitList;\n",
    "\n",
    "    public Digit(int num) {\n",
    "        digitList = new ArrayList<Integer>();\n",
    "        int temp = num, nod = 0;\n",
    "        while(temp > 0) {\n",
    "            digitList.add(temp % 10);\n",
    "            temp = temp/10;\n",
    "            nod++;\n",
    "        }\n",
    "        int[] arr = new int[nod];\n",
    "        for(int i=0; i < arr.length; i++) {\n",
    "            arr[i] = digitList.get(nod-1);\n",
    "            nod--;\n",
    "        }\n",
    "        digitList.clear();\n",
    "        for(int i = 0; i < arr.length; i++) {\n",
    "            digitList.add(i, arr[i]);\n",
    "        }\n",
    "    }\n",
    "\n",
    "    public boolean isStrictlyIncreasing() {\n",
    "        for(int i = 1; i < digitList.size(); i++) {\n",
    "            // if(digitList.get(i) > digitList.get(i-1)) {}\n",
    "            // else{\n",
    "            //     return false;\n",
    "            // }\n",
    "            if(!(digitList.get(i) > digitList.get(i-1)))\n",
    "                return false;\n",
    "        }\n",
    "        return true;\n",
    "    }\n",
    "    \n",
    "    public void print() {\n",
    "        for(int i : digitList) {\n",
    "            System.out.println(i);\n",
    "        }\n",
    "    }\n",
    "\n",
    "    public static void main(String[] args) {\n",
    "        Digit d1 = new Digit(0);\n",
    "        \n",
    "        d1.print();\n",
    "        System.out.println(d1.isStrictlyIncreasing());\n",
    "    }\n",
    "}\n",
    "\n",
    "Digit.main(null)"
   ]
  },
  {
   "cell_type": "code",
   "execution_count": null,
   "metadata": {},
   "outputs": [],
   "source": [
    "/**\n",
    " * 2019 3b\n",
    " */\n",
    "pubic boolean isBalanced(ArryaList<String> delimiters) {\n",
    "    if(delimiters.get(0) == closeDel) {return false;}\n",
    "    if(delimiters.size()%2 != 0) {return false;}\n",
    "    if(delimiters.get(delimiters.size()-1) == openDel) {return false;}\n",
    "    for(int i = 1; i < dilimiters.size();) {\n",
    "            if( (delimiters.get(i) == closeDel) && (delimiters.get(i-1) == openDel)) {\n",
    "                dilimiters.remove(i);\n",
    "                delimiters.remove(i-1);\n",
    "                i = 0;\n",
    "                if (delimiters.size() == 0) {\n",
    "                    return true;\n",
    "                }\n",
    "            }\n",
    "            // else if(delimiters.get(i) == closeDel){\n",
    "            //     return false;\n",
    "            // }\n",
    "            i++;\n",
    "    }\n",
    "}"
   ]
  },
  {
   "cell_type": "markdown",
   "metadata": {},
   "source": [
    "### Unit 4-Iteration"
   ]
  },
  {
   "cell_type": "markdown",
   "metadata": {},
   "source": [
    "![](my_icons/Iterationquiz.png)"
   ]
  },
  {
   "cell_type": "code",
   "execution_count": 7,
   "metadata": {},
   "outputs": [
    {
     "name": "stdout",
     "output_type": "stream",
     "text": [
      "Enter your budget for this month: \n",
      "234\n",
      "enter the number of expenses you have this month: \n",
      "Enter your monthly expense: \n",
      "Enter your monthly expense: \n",
      "Enter your monthly expense: \n",
      "\n",
      "You lavish.. zing zing fellow, manage your expenses properly !!!!\n"
     ]
    }
   ],
   "source": [
    "import java.util.Scanner;\n",
    "\n",
    "public class Monthlybudget {\n",
    "    public static void main(String[] args) {\n",
    "        \n",
    "        Scanner input = new Scanner(System.in);\n",
    "        System.out.println(\"Enter your budget for this month: \");\n",
    "        int budget = input.nextInt();\n",
    "        System.out.println(budget);\n",
    "\n",
    "        Scanner input2 = new Scanner(System.in);\n",
    "        System.out.println(\"enter the number of expenses you have this month: \");\n",
    "        int noe = input2.nextInt();\n",
    "        \n",
    "        int expense = 0;\n",
    "        Scanner input1 = new Scanner(System.in);\n",
    "        for(int i = 0, x = 0; i < noe; i++) {\n",
    "            System.out.println(\"Enter your monthly expense: \");\n",
    "            x = input1.nextInt();\n",
    "            System.out.print(x);\n",
    "            expense+=x;\n",
    "        }\n",
    "        System.out.println();\n",
    "        if(expense > budget){System.out.println(\"You lavish.. zing zing fellow, manage your expenses properly !!!!\");}\n",
    "        else{System.out.println(\"Good Boy :)\");}\n",
    "\n",
    "    }\n",
    "\n",
    "}\n",
    "Monthlybudget.main(null)"
   ]
  },
  {
   "cell_type": "markdown",
   "metadata": {},
   "source": [
    "### Unit 5 Writing Classes"
   ]
  },
  {
   "cell_type": "code",
   "execution_count": 20,
   "metadata": {},
   "outputs": [],
   "source": [
    "/** \n",
    "* 2021 1a\n",
    "*/\n",
    "public int scoreGuess(String guess) {\n",
    "    int count = 0;\n",
    "    if (guess.length() > 0 && guess.length() <= secret.length()) {\n",
    "        for(int i = 0; i < secret.length();) {\n",
    "            if(secret.indexOf(guess, i) >= 0) {\n",
    "                i+=guess.length();\n",
    "                count++;\n",
    "            }\n",
    "        }\n",
    "        return count*guess.length()*guess.length();\n",
    "    }\n",
    "    else {\n",
    "        return 0;\n",
    "    }\n",
    "}"
   ]
  },
  {
   "cell_type": "code",
   "execution_count": null,
   "metadata": {},
   "outputs": [],
   "source": [
    "/**\n",
    " * 2021 3a\n",
    " */\n",
    "public void addMembers(String[] names. int gradYear) {\n",
    "    for(String i : names) {\n",
    "        MemberInfo m1 = new MemberInfo(i, gradYear, true);\n",
    "        memberList.add(m1);\n",
    "    }\n",
    "\n",
    "    MemberInfo ss = memberList.get(0);\n",
    "    System.out.println(ss.getGradYear());\n",
    "    System.out.println(ss.isGoodStanding());\n",
    "\n",
    "}"
   ]
  },
  {
   "cell_type": "code",
   "execution_count": 1,
   "metadata": {},
   "outputs": [
    {
     "name": "stdout",
     "output_type": "stream",
     "text": [
      "true\n",
      "false\n"
     ]
    }
   ],
   "source": [
    "String s1 = new String(\"Bob\");\n",
    "String s2 = \"Bob\";\n",
    "System.out.println(s1.equals(s2));\n",
    "System.out.println(s1 == s2);"
   ]
  },
  {
   "cell_type": "markdown",
   "metadata": {},
   "source": [
    "1. == tests if they are from the same location \n",
    "2. .equals() tests they are the same value"
   ]
  },
  {
   "cell_type": "code",
   "execution_count": 4,
   "metadata": {},
   "outputs": [
    {
     "name": "stdout",
     "output_type": "stream",
     "text": [
      "34.67772\n",
      "8.0\n"
     ]
    }
   ],
   "source": [
    "/*public static void method1()\n",
    "{\n",
    "\n",
    "}\n",
    "\n",
    "//XYZ cv = new XYZ();\n",
    "XYZ.method1()\n",
    "*/\n",
    "System.out.println( String.valueOf(34.6777)+2);\n",
    "System.out.println(Math.sqrt(64));"
   ]
  },
  {
   "cell_type": "code",
   "execution_count": null,
   "metadata": {},
   "outputs": [],
   "source": [
    "public class Person {\n",
    "    private static int age;\n",
    "\n",
    "\n",
    "    public Person(int age, int height, int weight) {\n",
    "        this.age = age;\n",
    "    }\n",
    "    public void setAge(int a1) {\n",
    "        age = a1;\n",
    "    }\n",
    "    public int getAge() [\n",
    "        return age;\n",
    "    ]\n",
    "\n",
    "    private static int method1(){\n",
    "\n",
    "    }\n",
    "\n",
    "\n",
    "}\n"
   ]
  },
  {
   "cell_type": "markdown",
   "metadata": {},
   "source": [
    "* you cannot use this in a static method\n",
    "* all variables in a static method are all static"
   ]
  },
  {
   "cell_type": "markdown",
   "metadata": {},
   "source": [
    "### Unit 6 - Arrays"
   ]
  },
  {
   "cell_type": "code",
   "execution_count": 5,
   "metadata": {},
   "outputs": [
    {
     "name": "stdout",
     "output_type": "stream",
     "text": [
      "REPL.$JShell$14$ArrayMethods@75b22ef2\n",
      "60\n",
      "30\n",
      "40\n",
      "20\n"
     ]
    }
   ],
   "source": [
    "public class ArrayMethods {\n",
    "    private int[] values;\n",
    "\n",
    "    public ArrayMethods(int[] values) {\n",
    "        this.values = values;\n",
    "    }\n",
    "\n",
    "    public void print() {\n",
    "        for(int i = 0; i < values.length; i++) {\n",
    "            System.out.println(values[i]);\n",
    "        }\n",
    "    } \n",
    "    public void swap() {\n",
    "        int x = values[0];\n",
    "        values[0]= values[values.length-1];\n",
    "        values[values.length-1] = x;\n",
    "\n",
    "        print();\n",
    "    }\n",
    "\n",
    "    public static void main(String[] args) {\n",
    "        ArrayMethods r = new ArrayMethods(new int[] {20,30,40,60});\n",
    "        System.out.println(r);\n",
    "        r.swap();\n",
    "    }\n",
    "}\n",
    "ArrayMethods.main(null)"
   ]
  }
 ],
 "metadata": {
  "kernelspec": {
   "display_name": "Java",
   "language": "java",
   "name": "java"
  },
  "language_info": {
   "codemirror_mode": "java",
   "file_extension": ".jshell",
   "mimetype": "text/x-java-source",
   "name": "java",
   "pygments_lexer": "java",
   "version": "3.9.12 (main, Apr  5 2022, 06:56:58) \n[GCC 7.5.0]"
  },
  "orig_nbformat": 4,
  "vscode": {
   "interpreter": {
    "hash": "e5fac65c297e042e477f193dd578cca6f2bb3fa0ab7e11b01d43ef300f56e9d1"
   }
  }
 },
 "nbformat": 4,
 "nbformat_minor": 2
}
