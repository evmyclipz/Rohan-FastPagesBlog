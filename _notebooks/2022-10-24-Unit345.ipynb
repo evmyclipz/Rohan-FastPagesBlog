{
 "cells": [
  {
   "cell_type": "markdown",
   "metadata": {},
   "source": [
    "# Unit 3, 4 and 5 HW\n",
    "\n",
    "- title: Unit 3, 4 and 5 HW\n",
    "- toc: true \n",
    "- badges: true\n",
    "- comments: true\n",
    "- categories: [jupyter]"
   ]
  },
  {
   "cell_type": "markdown",
   "metadata": {},
   "source": [
    "# Unit 3"
   ]
  },
  {
   "cell_type": "code",
   "execution_count": null,
   "metadata": {
    "vscode": {
     "languageId": "java"
    }
   },
   "outputs": [],
   "source": [
    "import java.util.ArrayList;\n",
    "\n",
    "/**\n",
    " * 2009 3b)\n",
    " */\n",
    "\n",
    "public int getChargetimeStartTime(int chargeTime) {\n",
    "    ArrayList<Integer> arr = new ArrayList<Integer>();\n",
    "    \n",
    "    for(int i = 0; i < chargeTime; i++) {\n",
    "        arr.add(i, getChargingCost(i,i+(ChargeTime-1)));\n",
    "    }\n",
    "    int temp = arr.get(0);\n",
    "    for(int i  : arr ) {\n",
    "        if(temp < i) {}\n",
    "        else {\n",
    "            temp = i; \n",
    "        }\n",
    "    }\n",
    "    return arr.indexOf(temp);\n",
    "    \n",
    "    \n",
    "}"
   ]
  },
  {
   "cell_type": "code",
   "execution_count": 1,
   "metadata": {
    "vscode": {
     "languageId": "java"
    }
   },
   "outputs": [
    {
     "name": "stdout",
     "output_type": "stream",
     "text": [
      "true\n"
     ]
    }
   ],
   "source": [
    "import java.util.*;\n",
    "/**\n",
    " * 2017 1\n",
    " */\n",
    "public class Digit {\n",
    "    private ArrayList<Integer> digitList;\n",
    "\n",
    "    public Digit(int num) {\n",
    "        digitList = new ArrayList<Integer>();\n",
    "        int temp = num, nod = 0;\n",
    "        while(temp > 0) {\n",
    "            digitList.add(temp % 10);\n",
    "            temp = temp/10;\n",
    "            nod++;\n",
    "        }\n",
    "        int[] arr = new int[nod];\n",
    "        for(int i=0; i < arr.length; i++) {\n",
    "            arr[i] = digitList.get(nod-1);\n",
    "            nod--;\n",
    "        }\n",
    "        digitList.clear();\n",
    "        for(int i = 0; i < arr.length; i++) {\n",
    "            digitList.add(i, arr[i]);\n",
    "        }\n",
    "    }\n",
    "\n",
    "    public boolean isStrictlyIncreasing() {\n",
    "        for(int i = 1; i < digitList.size(); i++) {\n",
    "            // if(digitList.get(i) > digitList.get(i-1)) {}\n",
    "            // else{\n",
    "            //     return false;\n",
    "            // }\n",
    "            if(!(digitList.get(i) > digitList.get(i-1)))\n",
    "                return false;\n",
    "        }\n",
    "        return true;\n",
    "    }\n",
    "    \n",
    "    public void print() {\n",
    "        for(int i : digitList) {\n",
    "            System.out.println(i);\n",
    "        }\n",
    "    }\n",
    "\n",
    "    public static void main(String[] args) {\n",
    "        Digit d1 = new Digit(0);\n",
    "        \n",
    "        d1.print();\n",
    "        System.out.println(d1.isStrictlyIncreasing());\n",
    "    }\n",
    "}\n",
    "\n",
    "Digit.main(null)"
   ]
  }
 ],
 "metadata": {
  "kernelspec": {
   "display_name": "Java",
   "language": "java",
   "name": "java"
  },
  "language_info": {
   "codemirror_mode": "java",
   "file_extension": ".jshell",
   "mimetype": "text/x-java-source",
   "name": "Java",
   "pygments_lexer": "java",
   "version": "11.0.16+8-post-Ubuntu-0ubuntu120.04"
  },
  "orig_nbformat": 4
 },
 "nbformat": 4,
 "nbformat_minor": 2
}
