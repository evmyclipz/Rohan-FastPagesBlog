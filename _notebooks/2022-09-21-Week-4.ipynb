{
 "cells": [
  {
   "cell_type": "markdown",
   "metadata": {},
   "source": [
    "# Week 4 learning objectives\n",
    "\n",
    "> Covers FRQ, iteration and sprin-boot\n",
    "\n",
    "\n",
    "- title: Week 4 learning objectives\n",
    "- toc: true \n",
    "- badges: true\n",
    "- comments: true\n",
    "- categories: [jupyter]\n"
   ]
  },
  {
   "cell_type": "markdown",
   "metadata": {},
   "source": [
    "# [FRQ answer](https://evmyclipz.github.io/sample1_blog/jupyter/2022/09/15/FRQ-one-answer.html)"
   ]
  },
  {
   "cell_type": "markdown",
   "metadata": {},
   "source": [
    "# [Iteration Mini-Lab](https://evmyclipz.github.io/sample1_blog/2022/09/14/Iteration-animation.html)"
   ]
  },
  {
   "cell_type": "markdown",
   "metadata": {},
   "source": [
    "# [Spring boot(extra)](http://localhost:8080/conversion)"
   ]
  }
 ],
 "metadata": {
  "kernelspec": {
   "display_name": "Java",
   "language": "java",
   "name": "java"
  },
  "language_info": {
   "name": "java"
  },
  "orig_nbformat": 4
 },
 "nbformat": 4,
 "nbformat_minor": 2
}
