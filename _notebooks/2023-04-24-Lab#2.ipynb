{
 "cells": [
  {
   "attachments": {},
   "cell_type": "markdown",
   "metadata": {},
   "source": [
    "# Lab #2 \n",
    "  \n",
    "- title: Lab #2\n",
    "- toc: true \n",
    "- badges: true\n",
    "- comments: true\n",
    "- categories: [jupyter]"
   ]
  },
  {
   "attachments": {},
   "cell_type": "markdown",
   "metadata": {},
   "source": [
    "### Recursion Hack"
   ]
  },
  {
   "cell_type": "code",
   "execution_count": 2,
   "metadata": {
    "vscode": {
     "languageId": "java"
    }
   },
   "outputs": [
    {
     "name": "stdout",
     "output_type": "stream",
     "text": [
      "**********\n",
      "*********\n",
      "********\n",
      "*******\n",
      "******\n",
      "*****\n",
      "****\n",
      "***\n",
      "**\n",
      "*\n"
     ]
    }
   ],
   "source": [
    "public void drawLine(int n) {\n",
    "    if(n == 1) {\n",
    "        System.out.println(\"*\");\n",
    "    }\n",
    "    else {\n",
    "        for (int i = 1; i <= n; i++) {\n",
    "            System.out.print(\"*\");\n",
    "        }\n",
    "        System.out.println();\n",
    "        drawLine(n - 1);\n",
    "    }   \n",
    "}\n",
    "drawLine(10);"
   ]
  },
  {
   "attachments": {},
   "cell_type": "markdown",
   "metadata": {},
   "source": [
    "### Sorting Hack\n",
    "\n",
    "> Write a insertion or selection sort program that sorts an ArrayList in decreasing order so that the largest country is at the beginning of the array (Create your own Country class with size). Use a Comparator."
   ]
  },
  {
   "cell_type": "code",
   "execution_count": 3,
   "metadata": {
    "vscode": {
     "languageId": "java"
    }
   },
   "outputs": [],
   "source": [
    "class Country {\n",
    "    private String name;\n",
    "    private int size;\n",
    "    \n",
    "    public Country(String name, int size) {\n",
    "        this.name = name;\n",
    "        this.size = size;\n",
    "    }\n",
    "    \n",
    "    public String getName() {\n",
    "        return name;\n",
    "    }\n",
    "    \n",
    "    public int getSize() {\n",
    "        return size;\n",
    "    }\n",
    "}"
   ]
  },
  {
   "cell_type": "code",
   "execution_count": 4,
   "metadata": {
    "vscode": {
     "languageId": "java"
    }
   },
   "outputs": [
    {
     "name": "stdout",
     "output_type": "stream",
     "text": [
      "Russia (17098246)\n",
      "Canada (9984670)\n",
      "China (9596961)\n",
      "United States (9525067)\n",
      "Brazil (8515767)\n"
     ]
    }
   ],
   "source": [
    "import java.util.ArrayList;\n",
    "import java.util.Comparator;\n",
    "\n",
    "public class CountrySorting {\n",
    "    public static void main(String[] args) {\n",
    "        // Create an ArrayList of Country objects\n",
    "        ArrayList<Country> countries = new ArrayList<>();\n",
    "        countries.add(new Country(\"Russia\", 17098246));\n",
    "        countries.add(new Country(\"Brazil\", 8515767));\n",
    "        countries.add(new Country(\"Canada\", 9984670));\n",
    "        countries.add(new Country(\"United States\", 9525067));\n",
    "        countries.add(new Country(\"China\", 9596961));\n",
    "        \n",
    "        // Sort the countries ArrayList in decreasing order based on their size\n",
    "        countries.sort(Comparator.comparing(Country::getSize).reversed());\n",
    "        \n",
    "        // Print the sorted countries\n",
    "        for (Country country : countries) {\n",
    "            System.out.println(country.getName() + \" (\" + country.getSize() + \")\");\n",
    "        }\n",
    "    }\n",
    "}\n",
    "CountrySorting.main(null)"
   ]
  },
  {
   "attachments": {},
   "cell_type": "markdown",
   "metadata": {},
   "source": [
    "### ArrayList Hacks"
   ]
  },
  {
   "cell_type": "code",
   "execution_count": 17,
   "metadata": {
    "vscode": {
     "languageId": "java"
    }
   },
   "outputs": [
    {
     "name": "stdout",
     "output_type": "stream",
     "text": [
      "List 1: [1, 2, 3]\n",
      "List 1: [3, 2, 1]\n",
      "Equal in reverse order: true\n",
      "\n",
      "List before: [4, 6, 7, 8, 1, 3, 2]\n",
      "Iteration 1\n",
      "Element to be removed: 6\n",
      "List size after removal: 6\n",
      "Iteration 2\n",
      "Element to be removed: 8\n",
      "List size after removal: 5\n",
      "Iteration 3\n",
      "Element to be removed: 3\n",
      "List size after removal: 4\n",
      "List after: [4, 7, 1, 2]\n"
     ]
    }
   ],
   "source": [
    "public class CompareTwo {\n",
    "\n",
    "    public static boolean compareReverse(ArrayList<Integer> list1, ArrayList<Integer> list2) {\n",
    "        if (list1.size() != list2.size()) {\n",
    "            return false;\n",
    "        }\n",
    "        for (int i = list1.size() - 1, j = 0; i >= 0; i--, j++) {\n",
    "            if (!list1.get(i).equals(list2.get(j))) {\n",
    "                return false;\n",
    "            }\n",
    "        }\n",
    "        return true;\n",
    "    }\n",
    "\n",
    "    public static void removeEveryOther(ArrayList<Integer> list) {\n",
    "        for(int i = 1; i < list.size(); i++) {\n",
    "            System.out.println(\"Iteration \"+i);\n",
    "            System.out.println(\"Element to be removed: \"+list.get(i));\n",
    "            list.remove(i); \n",
    "            System.out.println(\"List size after removal: \"+list.size());\n",
    "        }\n",
    "    }\n",
    "\n",
    "    public static void main(String[] args) {\n",
    "        ArrayList<Integer> list1 = new ArrayList<Integer>();\n",
    "        ArrayList<Integer> list2 = new ArrayList<Integer>();\n",
    "\n",
    "        list1.add(1);\n",
    "        list1.add(2);\n",
    "        list1.add(3);\n",
    "        list2.add(3);\n",
    "        list2.add(2);\n",
    "        list2.add(1);\n",
    "\n",
    "        boolean areEqualReverse = compareReverse(list1, list2);\n",
    "        System.out.println(\"List 1: \"+list1);\n",
    "        System.out.println(\"List 1: \"+list2);\n",
    "        System.out.println(\"Equal in reverse order: \"+areEqualReverse);\n",
    "\n",
    "        ArrayList<Integer> list3 = new ArrayList<Integer>();\n",
    "\n",
    "        list3.add(4);\n",
    "        list3.add(6);\n",
    "        list3.add(7);\n",
    "        list3.add(8);\n",
    "        list3.add(1);\n",
    "        list3.add(3);\n",
    "        list3.add(2);\n",
    "\n",
    "        System.out.println();\n",
    "\n",
    "        System.out.println(\"List before: \"+list3);\n",
    "        removeEveryOther(list3);\n",
    "        System.out.println(\"List after: \"+list3);\n",
    "\n",
    "    }\n",
    "    \n",
    "}\n",
    "CompareTwo.main(null)"
   ]
  },
  {
   "attachments": {},
   "cell_type": "markdown",
   "metadata": {},
   "source": [
    "* first iteration: i = 1\n",
    "* 0 1 2 3 4 5 6\n",
    "* 4 6 7 8 1 3 2\n",
    "\n",
    "* second interation: i = 2\n",
    "* 0 1 2 3 4 5\n",
    "* 4 7 8 1 3 2\n",
    "\n",
    "* third iteration: i = 3\n",
    "* 0 1 2 3 4\n",
    "* 4 7 1 3 2 \n",
    "\n",
    "* fourth interation: i = 4 \n",
    "* 0 1 2 3\n",
    "* 4 7 1 2"
   ]
  }
 ],
 "metadata": {
  "kernelspec": {
   "display_name": "Java",
   "language": "java",
   "name": "java"
  },
  "language_info": {
   "codemirror_mode": "java",
   "file_extension": ".jshell",
   "mimetype": "text/x-java-source",
   "name": "Java",
   "pygments_lexer": "java",
   "version": "17.0.5+8-Ubuntu-2ubuntu120.04"
  },
  "orig_nbformat": 4
 },
 "nbformat": 4,
 "nbformat_minor": 2
}
