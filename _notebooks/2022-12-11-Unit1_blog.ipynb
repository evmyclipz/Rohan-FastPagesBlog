{
 "cells": [
  {
   "attachments": {},
   "cell_type": "markdown",
   "metadata": {},
   "source": [
    "# Unit 1 Blog\n",
    "\n",
    "- title: Unit 1 Blog\n",
    "- toc: true \n",
    "- badges: true\n",
    "- comments: true\n",
    "- categories: [jupyter]"
   ]
  },
  {
   "attachments": {},
   "cell_type": "markdown",
   "metadata": {},
   "source": [
    "Data types are divided into two groups:\n",
    "\n",
    "1. Primitive data types - includes byte, short, int, long, float, double, boolean and char\n",
    "2. Non-primitive data types - such as String, Arrays and Classes "
   ]
  },
  {
   "attachments": {},
   "cell_type": "markdown",
   "metadata": {},
   "source": [
    "# Primitive Data Types\n",
    "\n",
    "A primitive data type specifies the size and type of variable values, and it has no additional methods.\n",
    "\n",
    "There are eight primitive data types in Java:\n",
    "\n",
    "\n",
    "| Data Type\t| Size\t | Description                                                                      | \n",
    "|-----------|--------|----------------------------------------------------------------------------------|\n",
    "| byte\t    | 1 byte | Stores whole numbers from -128 to 127                                            | \n",
    "| short\t    | 2 bytes| Stores whole numbers from -32,768 to 32,767                                      |\n",
    "| int\t    | 4 bytes| Stores whole numbers from -2,147,483,648 to 2,147,483,647                        |\n",
    "|long\t    | 8 bytes| Stores whole numbers from -9,223,372,036,854,775,808 to 9,223,372,036,854,775,807|\n",
    "|float\t    | 4 bytes| Stores fractional numbers. Sufficient for storing 6 to 7 decimal digits          |\n",
    "|double\t    | 8 bytes| Stores fractional numbers. Sufficient for storing 15 decimal digits              |\n",
    "|boolean\t| 1 bit\t | Stores true or false values                                                      |\n",
    "|char\t    | 2 bytes| Stores a single character/letter or ASCII values                                 |"
   ]
  },
  {
   "attachments": {},
   "cell_type": "markdown",
   "metadata": {},
   "source": [
    "# Non-Primitive Data Types\n",
    "\n",
    "Non-primitive data types are called reference types because they refer to objects.\n",
    "\n",
    "The main difference between primitive and non-primitive data types are:\n",
    "\n",
    "* Primitive types are predefined (already defined) in Java. Non-primitive types are created by the programmer and is not defined by Java (except for String).\n",
    "* Non-primitive types can be used to call methods to perform certain operations, while primitive types cannot.\n",
    "* A primitive type has always a value, while non-primitive types can be null.\n",
    "* A primitive type starts with a lowercase letter, while non-primitive types starts with an uppercase letter.\n",
    "* The size of a primitive type depends on the data type, while non-primitive types have all the same size.\n",
    "* Examples of non-primitive types are Strings, Arrays, Classes, Interface, etc. "
   ]
  }
 ],
 "metadata": {
  "kernelspec": {
   "display_name": "Java",
   "language": "java",
   "name": "java"
  },
  "language_info": {
   "name": "java"
  },
  "orig_nbformat": 4
 },
 "nbformat": 4,
 "nbformat_minor": 2
}
